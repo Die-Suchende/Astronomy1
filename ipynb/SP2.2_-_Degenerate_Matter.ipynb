{
 "cells": [
  {
   "cell_type": "markdown",
   "metadata": {
    "slideshow": {
     "slide_type": "slide"
    }
   },
   "source": [
    "# Stellar Physics\n",
    "\n",
    "## Part 2.2 - Degeneracy Pressure"
   ]
  },
  {
   "cell_type": "markdown",
   "metadata": {
    "slideshow": {
     "slide_type": "slide"
    }
   },
   "source": [
    "## Stellar fates\n",
    "\n",
    "\n",
    "| ZAMS mass | Collapsing mass | Fate |\n",
    "|-----------|-----------------|------|\n",
    "| $\\lesssim 8\\,M_\\odot$ | $1.4\\,M_\\odot$ | white dwarf |\n",
    "| $8 - 25 M_\\odot$ | 1.4 - 3 $M_\\odot$ | Neutron Star |\n",
    "| $\\gtrsim 25 M_\\odot$ | $\\gtrsim 3 M_\\odot$ | Black Hole |"
   ]
  },
  {
   "cell_type": "markdown",
   "metadata": {
    "slideshow": {
     "slide_type": "fragment"
    }
   },
   "source": [
    "- What keeps a White Dwarf star or Neutron Star from collapsing due to gravity?"
   ]
  },
  {
   "cell_type": "markdown",
   "metadata": {
    "slideshow": {
     "slide_type": "fragment"
    }
   },
   "source": [
    "Remember that no further energy can be obtained from nuclear fusion!"
   ]
  },
  {
   "cell_type": "markdown",
   "metadata": {
    "slideshow": {
     "slide_type": "slide"
    }
   },
   "source": [
    "## Example: White Dwarf stars\n",
    "\n",
    "- The typical size of the collapsed core is $\\sim R_{\\oplus}$\n",
    "  $\\rightarrow$ leading to average densities $>4\\times 10^{6}$ that of\n",
    "  the sun.\n",
    "- Acceleration due to gravity at the surface of a White Dwarf is\n",
    "  $\\sim 5\\times 10^{6}\\,\\text{m s}^{-2}$.\n",
    "- A _teaspoon_ of White Dwarf material would weigh the equivalent of\n",
    "  16 tons!\n",
    "- In the gravitational field of the white dwarf it would be\n",
    "  $8\\times 10^{6}$ tons!\n"
   ]
  },
  {
   "cell_type": "markdown",
   "metadata": {
    "slideshow": {
     "slide_type": "slide"
    }
   },
   "source": [
    "## Degenerate Matter"
   ]
  },
  {
   "cell_type": "markdown",
   "metadata": {
    "slideshow": {
     "slide_type": "notes"
    }
   },
   "source": [
    "### Key players - 1926\n",
    "\n",
    "<img src=\"img/Pauli.jpg\" class=\"right_align\">\n",
    "\n",
    "Wolfgang Pauli: _Nobel prize 1945_, ``Not even wrong''"
   ]
  },
  {
   "cell_type": "markdown",
   "metadata": {
    "slideshow": {
     "slide_type": "notes"
    }
   },
   "source": [
    "<img src=\"img/fowler2.jpg\">\n",
    "\n",
    "Sir Ralph Howard Fowler: Paul Dirac's PhD supervsior _(Dirac\n",
    "and Schrodinger Nobel Prize 1933)_"
   ]
  },
  {
   "cell_type": "markdown",
   "metadata": {
    "slideshow": {
     "slide_type": "notes"
    }
   },
   "source": [
    "<img src=\"img/Heisenberg.jpg\">\n",
    "\n",
    "Werner Karl Heisenberg: _Nobel prize 1932_"
   ]
  },
  {
   "cell_type": "markdown",
   "metadata": {
    "slideshow": {
     "slide_type": "slide"
    }
   },
   "source": [
    "## The Pauli exclusion principle\n",
    "\n",
    "- Allows at most one fermion (particle with 1/2 integer spin), such\n",
    "as an electron or neutron, to occupy a given quantum state since no\n",
    "two fermions can have the same set of quantum numbers.\n",
    "- At zero temperature, all of the lower energy states and\n",
    "none of the higher states are occupied $\\rightarrow$ completely\n",
    "degenerate."
   ]
  },
  {
   "cell_type": "markdown",
   "metadata": {
    "slideshow": {
     "slide_type": "slide"
    }
   },
   "source": [
    "## The Heisenberg uncertainty principle\n",
    "<br>\n",
    "\n",
    "$$\n",
    "\\Delta x\\Delta p_x \\approx \\hbar\\nonumber\n",
    "$$\n",
    "\n",
    "This means that a particle confined to a smaller and smaller volume of space will have\n",
    "a corresponding larger and larger uncertainty in its momentum.\n",
    "\n",
    "Note that $\\hbar$ is Planck's constant ($h=6.626\\times 10^{-34}$ Js)\n",
    "divided by $2\\pi$. "
   ]
  },
  {
   "cell_type": "markdown",
   "metadata": {
    "slideshow": {
     "slide_type": "slide"
    }
   },
   "source": [
    "## Degeneracy pressure\n",
    "\n",
    "### A simplified model\n",
    "\n",
    "For simplicity, we consider a _uniform spherical mass_ $M$ of radius $R$ and density $\\rho$:\n",
    "\\begin{equation}\n",
    "  \\rho=\\frac{M}{V}=\\frac{M}{\\frac{4}{3}\\pi R^{3}}\\nonumber\n",
    "\\end{equation}"
   ]
  },
  {
   "cell_type": "markdown",
   "metadata": {
    "slideshow": {
     "slide_type": "fragment"
    }
   },
   "source": [
    "This mass is composed of free electrons and protons (i.e. not bound\n",
    "together in atoms) with mass $m_{\\text{e}}$ and $m_{\\text{p}}$ respectively. These each have a\n",
    "number density $n_{\\text{e}}$ and $n_{\\text{p}}$, and since there is\n",
    "charge-balance, $n_{\\text{e}} = n_{\\text{p}} =\n",
    "n$. Therefore\n",
    "\\begin{equation}\\label{eq:numberdens}\n",
    "  \\rho=n_{\\text{e}}m_{\\text{e}} + n_{\\text{p}}m_{\\text{p}}\\approx nm_{\\text{p}}\\nonumber\n",
    "\\end{equation}\n",
    "since $m_{\\text{e}}\\ll m_{\\text{p}}$."
   ]
  },
  {
   "cell_type": "markdown",
   "metadata": {
    "slideshow": {
     "slide_type": "subslide"
    }
   },
   "source": [
    "From _hydrostatic equilibrium_ (see SP 1) we know that the central\n",
    "pressure $P_{\\text{c}}$ required to support a body against its own\n",
    "self-gravity is given by\n",
    "\n",
    "\\begin{align}\n",
    "  P_{\\text{c}}&=\\frac{4 \\pi}{3} G\\rho^{2} \\frac{R^{2}}{2} \\\\\n",
    "  &={\\left(\\frac{\\pi}{6}\\right)^{1/3}GM^{2/3}\\rho^{4/3}}\n",
    "\\end{align}\n",
    "\n",
    "[ Since $\\rho=M/(4/3)\\pi R^3$ therefore $R^{2}=(M/(4/3)\\pi\\rho)^{2/3}$ ].\n"
   ]
  },
  {
   "cell_type": "markdown",
   "metadata": {
    "slideshow": {
     "slide_type": "slide"
    }
   },
   "source": [
    "- In the stellar remnant, this central pressure must be balanced\n",
    "  by the __cold pressure__, which we call _degeneracy pressure_.\n",
    "- This is fundamentally a _quantum mechanical_ concept."
   ]
  },
  {
   "cell_type": "markdown",
   "metadata": {
    "slideshow": {
     "slide_type": "slide"
    }
   },
   "source": [
    "### Density vs pressure\n",
    "\n",
    "<img src=\"img/rhoP.jpg\" class=\"right_panel\">\n",
    "\n",
    "- As the density of the stellar remnant increases, the central\n",
    "    pressure due to self-gravity $P_{\\text{c}}$ rises with density as\n",
    "  $\\rho^{4/3}$.\n",
    "- The degeneracy pressure will only be able to balance\n",
    "  this central pressure if it also increases with density, \n",
    "  and does so _faster_ than $\\rho^{4/3}$."
   ]
  },
  {
   "cell_type": "markdown",
   "metadata": {
    "slideshow": {
     "slide_type": "subslide"
    }
   },
   "source": [
    "### Back to the simplified model\n",
    "\n",
    "<img src=\"img/box1.jpg\" class=\"right_panel\">\n",
    "\n",
    "- Let us consider a cubic metre of particles. If the number\n",
    "    density is $n$, then this cube contains $n$ particles.\n",
    "- By the _Pauli exclusion principle_ the particles must maintain\n",
    "their identities as different particles $\\rightarrow$ The uncertainty in\n",
    "    their positions cannot be larger than their physical separation."
   ]
  },
  {
   "cell_type": "markdown",
   "metadata": {
    "slideshow": {
     "slide_type": "notes"
    }
   },
   "source": [
    "If the typical spacing between each particle is $\\Delta x$, then each\n",
    "    particle typically `occupies' a volume of $\\langle V\\rangle=(\\Delta x)^{3}$, and\n",
    "\n",
    "\\begin{align}\n",
    "\t\t\t\\Delta x &= \\frac{1}{n^{1/3}}, \\\\\n",
    "\t\t\tn &= 1/{\\langle V\\rangle} \\nonumber\n",
    "\\end{align}\n",
    "\n",
    "  Therefore, by the _Heisenberg Uncertainty Principle_ each particle\n",
    "  has a momentum in the $x$-direction of\n",
    "  \\begin{equation}\n",
    "    p_{x}\\approx\\frac{\\hbar}{\\Delta x}\\approx\\hbar n^{1/3}\\approx\\hbar\\left(\\frac{\\rho}{m_{\\text{p}}}\\right)^{1/3}\\nonumber\n",
    "  \\end{equation}\n",
    "  where we consider stationary, cold particles, with no thermal motion."
   ]
  },
  {
   "cell_type": "markdown",
   "metadata": {
    "slideshow": {
     "slide_type": "fragment"
    }
   },
   "source": [
    "  For non-relativistic particles (i.e. particle speed $v\\ll c$), the average\n",
    "  kinetic energy of the particle is given by\n",
    "  \\begin{equation}\n",
    "    \\langle E \\rangle = \\frac{1}{2}m\\langle v^{2}\\rangle\n",
    "    =\\frac{\\langle mv\\rangle ^{2}}{2m}=\\frac{\\langle p^{2}\\rangle\n",
    "}{2m}=\\frac{3\\langle p_{x}^{2}\\rangle }{2m}\\nonumber\n",
    "  \\end{equation}\n",
    "  where the non-relativistic particle momentum is $p=mv$ and $\\langle\\ldots\\rangle$ indicates\n",
    "  an average. Also $p^{2} = p_{x}^{2}+p_{y}^{2}+p_{z}^{2}$ therefore $\\langle\n",
    "p^{2}\\rangle = 3\\langle p_{x}^{2}\\rangle$."
   ]
  },
  {
   "cell_type": "markdown",
   "metadata": {
    "slideshow": {
     "slide_type": "subslide"
    }
   },
   "source": [
    "  Therefore the average quantum (or Fermi) energy of an electron is given by\n",
    "  \\begin{equation}\\label{eq:eenergy}\n",
    "   {\\langle E_{\\text{e}}\\rangle =\n",
    "\\frac{3\\hbar^2}{2m_{\\text{e}}}\\left(\\frac{\\rho}{m_{\\text{p}}}\\right)^{2/3}}\\nonumber\n",
    "  \\end{equation}\n",
    "  \n",
    "  and for a proton by\n",
    "  \\begin{equation}\\label{eq:penergy}\n",
    "    {\\langle E_{\\text{p}} \\rangle =\n",
    "\\frac{3\\hbar^{2}}{2m_{\\text{p}}}\\left(\\frac{\\rho}{m_{\\text{p}}}\\right)^{2/3}}\\nonumber\n",
    "  \\end{equation}"
   ]
  },
  {
   "cell_type": "markdown",
   "metadata": {
    "slideshow": {
     "slide_type": "subslide"
    }
   },
   "source": [
    " Note some important properties of these equations\n",
    "- They are only valid for _non-relativistic_ particles.\n",
    "- Since $m_{\\text{e}}\\ll m_{\\text{p}}$ we see that\n",
    "    $\\langle E_{\\text{e}}\\rangle \\gg \\langle E_{\\text{p}}\\rangle $ and we will show that electron\n",
    "    pressure __dominates__ over proton pressure for White Dwarf stars.\n"
   ]
  },
  {
   "cell_type": "markdown",
   "metadata": {
    "slideshow": {
     "slide_type": "subslide"
    }
   },
   "source": [
    "### Pressure and kinetic energy\n",
    "\n",
    "<img src=\"img/box1.jpg\" class=\"right_panel\">\n",
    "\n",
    "To find the degeneracy pressure, consider the work done by changing the volume of a box by an infinitesimal amount $d x$.\n",
    "Pressure produces a force over the area of a face $A$, which changes the internal energy by:\n",
    "\\begin{align*}\n",
    "\t\t\t\t  d E & = - F d x \\\\\n",
    "\t\t\t\t  d E & = - (P A) d x\n",
    "\\end{align*}\n",
    "\n",
    "$A d x = dV$ is an infinitesimal change in the volume of the box, so we can write\n",
    "\n",
    "\\begin{align*}\n",
    "\t\t\t\t  d E &= - P d V \\\\\n",
    "\t\t\t\t  P& = - \\frac{d E}{d V}\n",
    "\\end{align*}\n",
    "Pressure is a measure of energy per volume."
   ]
  },
  {
   "cell_type": "markdown",
   "metadata": {
    "slideshow": {
     "slide_type": "subslide"
    }
   },
   "source": [
    "Pressure is a macroscopic quantity, but we can relate it to the quantum mechanics of degeneracy pressure\n",
    "by considering the average kinetic energy per particle $\\langle E \\rangle$ and volume per particle $\\langle V \\rangle$.\n",
    "\\begin{align*}\n",
    " P&= -\\frac{d \\langle E \\rangle}{d \\langle V \\rangle}\n",
    " \\end{align*}\n",
    " We can now use ${\\langle V \\rangle}^{-1}=\\rho / m_p$ to relate this to the particle energies $\\langle E_e \\rangle$ and $\\langle E_p \\rangle$.\n"
   ]
  },
  {
   "cell_type": "markdown",
   "metadata": {
    "slideshow": {
     "slide_type": "notes"
    }
   },
   "source": [
    "#### For electrons\n",
    "\n",
    "Energy is \n",
    "\\begin{align*}\n",
    "\t\t\t\t\\langle E_e \\rangle = \\frac{3\\hbar^2}{2m_e}\\left(\\frac{\\rho}{m_p}\\right)^{2/3} = \\frac{3\\hbar^2}{2m_e}{\\langle V \\rangle}^{-2/3} \\nonumber\n",
    "\\end{align*}\n",
    "and so the _partial pressure_ $P_{Qe}$ is\n",
    "\\begin{align*}\n",
    " P_{Qe}&= -\\frac{3\\hbar^2}{2m_e}\\frac{d {\\langle V \\rangle}^{-2/3}}{d {\\langle V \\rangle}} \\\\\n",
    " &= -\\frac{3\\hbar^2}{2m_e} \\times -\\frac{2}{3}{\\langle V \\rangle}^{-5/3} \\\\\n",
    " &= \\frac{\\hbar^2}{m_e}\\left(\\frac{\\rho}{m_p}\\right)^{5/3}\n",
    "\\end{align*}\n",
    "\n",
    "#### And for protons:\n",
    "\\begin{align*}\n",
    "\t  P_{Qp}= \\frac{\\hbar^2}{m_p}\\left(\\frac{\\rho}{m_p}\\right)^{5/3}.\n",
    "\\end{align*}\n",
    "In other words, we have $P = \\frac{2}{3}n\\langle E \\rangle$."
   ]
  },
  {
   "cell_type": "markdown",
   "metadata": {
    "slideshow": {
     "slide_type": "subslide"
    }
   },
   "source": [
    "\\begin{align*}\n",
    "\t\t\t\tP_{Qe}= \\frac{\\hbar^2}{m_e}\\left(\\frac{\\rho}{m_p}\\right)^{5/3} \\quad \\quad\n",
    "\t\t\t\tP_{Qp}= \\frac{\\hbar^2}{m_p}\\left(\\frac{\\rho}{m_p}\\right)^{5/3}\n",
    "\\end{align*}"
   ]
  },
  {
   "cell_type": "markdown",
   "metadata": {
    "slideshow": {
     "slide_type": "subslide"
    }
   },
   "source": [
    "### Considerations\n",
    "\n",
    "- Note that $T$ does not appear __anywhere__ in either equation implying\n",
    "    that a finite temperature is not required to provide this source of\n",
    "    pressure -- it is indeed a __cold pressure__."
   ]
  },
  {
   "cell_type": "markdown",
   "metadata": {
    "slideshow": {
     "slide_type": "fragment"
    }
   },
   "source": [
    "- Note also that the degeneracy pressure varies with density as\n",
    "    $\\rho^{5/3}$. This is __faster__ than self-gravity, for which $P_{\\text{c}}\n",
    "    \\propto \\rho^{4/3}$.  So for some value of the density, the\n",
    "    degeneracy pressure will become large enough to __balance__ the\n",
    "    central pressure due to self-gravity."
   ]
  },
  {
   "cell_type": "markdown",
   "metadata": {
    "slideshow": {
     "slide_type": "subslide"
    }
   },
   "source": [
    "### Visualising the pressure balance\n",
    "\n",
    "A useful approach we can use is to take _logs of our pressure equations_ such that,\n",
    "for the electron degeneracy pressure where $P_{\\text{Qe}}\\propto\n",
    "\\rho^{5/3}$, we have\n",
    "\\begin{align}\n",
    "    \\log(P_{\\text{Qe}}) &= \\log(\\rho^{5/3}) + \\text{constant}\\nonumber\\\\\n",
    "    &=\\frac{5}{3}\\log(\\rho) + \\text{constant}\\nonumber.\n",
    "\\end{align}"
   ]
  },
  {
   "cell_type": "markdown",
   "metadata": {
    "slideshow": {
     "slide_type": "subslide"
    }
   },
   "source": [
    "For the central pressure due to self-gravity where\n",
    "${P_{\\text{c}}\\propto \\rho^{4/3}M^{2/3}}$ we have\n",
    "\\begin{align}\n",
    "\\log(P_{\\text{c}}) &= \\log(\\rho^{4/3}) + \\log(M^{2/3}) +\n",
    "\\text{constant}\\nonumber\\\\\n",
    "&=\\frac{4}{3}\\log(\\rho) + \\left(\\frac{2}{3}\\log(M) +\n",
    "\\text{constant}\\right).\n",
    "\\end{align}\n",
    "These equations define _straight lines_ in log space ($y = mx + c$). "
   ]
  },
  {
   "cell_type": "markdown",
   "metadata": {
    "slideshow": {
     "slide_type": "subslide"
    }
   },
   "source": [
    "<img src=\"img/logrhologP.jpg\" class=\"right_panel\">\n",
    "\n",
    "- The constant depends on the stellar remnant's mass, hence the same slope but different intercepts.\n",
    "- For each mass a different value of $\\rho$ is needed to balance $P_{\\text{c}}$.\n",
    "- Higher masses lead to higher central pressures which then require higher densities. "
   ]
  }
 ],
 "metadata": {
  "celltoolbar": "Slideshow",
  "kernelspec": {
   "display_name": "Python 3",
   "language": "python",
   "name": "python3"
  },
  "language_info": {
   "codemirror_mode": {
    "name": "ipython",
    "version": 3
   },
   "file_extension": ".py",
   "mimetype": "text/x-python",
   "name": "python",
   "nbconvert_exporter": "python",
   "pygments_lexer": "ipython3",
   "version": "3.9.2"
  }
 },
 "nbformat": 4,
 "nbformat_minor": 4
}
