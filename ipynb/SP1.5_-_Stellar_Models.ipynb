{
 "cells": [
  {
   "cell_type": "markdown",
   "metadata": {
    "slideshow": {
     "slide_type": "slide"
    }
   },
   "source": [
    "# Stellar Physics\n",
    "\n",
    "## Part 5 - Stellar Models and Evolution\n"
   ]
  },
  {
   "cell_type": "markdown",
   "metadata": {
    "slideshow": {
     "slide_type": "subslide"
    }
   },
   "source": [
    "Cast our minds back to the original questions:\n",
    "\n",
    "- ✓ How big and bright are the stars?\n",
    "- ✓ What are they made of?\n",
    "- ✓ What are their most important characteristics?\n",
    "- ? Why and how do they form?\n",
    "- ? What is their energy source?\n",
    "- ? What happens when it runs out?"
   ]
  },
  {
   "cell_type": "markdown",
   "metadata": {
    "slideshow": {
     "slide_type": "subslide"
    }
   },
   "source": [
    "To make progress with the last three questions we will need to develop better models of the physics going on *inside* a star. This is difficult as we do not have direct access to the interior, but we can use physical models to find out!"
   ]
  },
  {
   "cell_type": "markdown",
   "metadata": {
    "slideshow": {
     "slide_type": "slide"
    }
   },
   "source": [
    "## Stellar lifetime\n",
    "\n",
    "We have seen from the HR diagram that most stars lie on the main sequence, but that there are giants and dwarfs. We account for this by proposing that stars spend most of their lives on the main sequence and less time in the other states."
   ]
  },
  {
   "cell_type": "markdown",
   "metadata": {
    "slideshow": {
     "slide_type": "fragment"
    }
   },
   "source": [
    "#### How old is the Sun?\n",
    "\n",
    "We know from radioisotope dating tha the Solar System has existed for about 4.6 billion years. Life on Earth has existed for about 4 billion years, indicating the presence of liquid water (and therefore a hot Sun)."
   ]
  },
  {
   "cell_type": "markdown",
   "metadata": {
    "slideshow": {
     "slide_type": "subslide"
    }
   },
   "source": [
    "## Solar energy requirements\n",
    "\n",
    "We know the mass of the Sun $M_\\odot \\approx 2\\times 10^{30}\\,\\mathrm{kg}$.\n",
    "\n",
    "We know it radiates with luminosity $L_\\odot \\approx 4\\times 10^{26}\\,\\mathrm{W}$.\n",
    "\n",
    "The age of the solar system $\\tau_\\odot \\approx 4.6\\times 10^{9}\\,\\mathrm{years} \\approx 1.5\\times 10^{17}\\,\\mathrm{s}$\n",
    "\n",
    "We can work out how much energy is required to keep the Sun shining $E\\approx \\tau_\\odot L_\\odot$."
   ]
  },
  {
   "cell_type": "markdown",
   "metadata": {
    "slideshow": {
     "slide_type": "subslide"
    }
   },
   "source": [
    "## Efficiency\n",
    "\n",
    "We can define the efficiency of the Sun's energy source in Joules / kg:\n",
    "\n",
    "$\\epsilon = \\frac{E}{M_\\odot} \\ge \\frac{\\tau_\\odot L_\\odot}{M_\\odot}$\n",
    "\n",
    "$\\epsilon \\ge 3\\times 10^{13}\\,\\mathrm{J\\,kg^{-1}}$\n",
    "\n",
    "__We need to find a source for all this energy__"
   ]
  },
  {
   "cell_type": "markdown",
   "metadata": {
    "slideshow": {
     "slide_type": "slide"
    }
   },
   "source": [
    "## Chemical energy?\n",
    "Chemical reactions involve rearrangements of electrons in atoms and molecules.\n",
    "\n",
    "- We have seen the natural units for these processes are electron-volts: $1.6\\times 10^{-19}$ J\n",
    "- Compare this to the mass per atom $\\approx m_p = 1.7\\times 10^{-27}$ kg"
   ]
  },
  {
   "cell_type": "markdown",
   "metadata": {
    "slideshow": {
     "slide_type": "subslide"
    }
   },
   "source": [
    "Therefore the efficiency of chemical reactions is $\\epsilon \\approx \\frac{1.6\\times10^{-19}}{1.7\\times 10^{-27}} \\approx 1\\times 10^8 $J/kg.\n",
    "\n",
    "* If chemical reactions were the source of the Sun's power it would last only $\\approx \\frac{M_\\odot \\epsilon}{L_\\odot} = 15\\,000\\,\\mathrm{years}$."
   ]
  },
  {
   "cell_type": "markdown",
   "metadata": {
    "slideshow": {
     "slide_type": "fragment"
    }
   },
   "source": [
    "This is >100000 times too short!\n",
    "- The Sun is not powered by chemical reactions"
   ]
  },
  {
   "cell_type": "markdown",
   "metadata": {
    "slideshow": {
     "slide_type": "slide"
    }
   },
   "source": [
    "## Gravitational Energy?\n",
    "\n",
    "Gravitational potential energy for a proton coming from $\\infty$ to a radius $R$\n",
    "\n",
    "$$E=\\frac{GMm_p}{R}$$\n",
    "\n",
    "So the efficiency is $\\epsilon \\approx \\frac{GM}{R} \\approx 10^{11}\\,\\mathrm{J/kg}$. This is greater than the chemical energy.\n",
    "\n",
    "Estimate lifetime the same way $\\frac{M_\\odot \\epsilon}{L_\\odot} \\approx 1.6\\times10^{7}\\mathrm{years}$.\n",
    "\n",
    "This is about 100 times too small - the Sun is not powered by ongoing gravitational collapse.\n",
    "- But this is a large amount of energy, we will see later how important it is."
   ]
  },
  {
   "cell_type": "markdown",
   "metadata": {
    "slideshow": {
     "slide_type": "subslide"
    }
   },
   "source": [
    "### Lord Kelvin\n",
    "\n",
    "Kelvin performed this calculation himself. The timescale is called the __Kelvin-Helmholtz Timescale__.\n",
    "\n",
    "__On the Age of the Sun’s Heat__\n",
    "By Sir William Thomson (Lord Kelvin)\n",
    "Macmillan's Magazine, vol. 5 (March 5, 1862), pp. 388-393\n",
    "\n",
    "“As for the future, we may say, with equal certainty, that inhabitants of the earth can not continue to enjoy the light and heat essential to their life for many million years longer _unless sources now unknown to us are prepared in the great storehouse of creation._”\n",
    "\n",
    "Sensibly he hedged his bets in the final sentence!\n"
   ]
  },
  {
   "cell_type": "markdown",
   "metadata": {
    "slideshow": {
     "slide_type": "subslide"
    }
   },
   "source": [
    "Kelvin did not know about the theory of relativity, $E=mc^2$ and atomic nucleii. Let us look to these for the power we need."
   ]
  },
  {
   "cell_type": "markdown",
   "metadata": {
    "slideshow": {
     "slide_type": "slide"
    }
   },
   "source": [
    "### Relativistic energy\n",
    "\n",
    "Einstein discovered the relationship between mass and energy, the famous $E=mc^2$.\n",
    "\n",
    "For the total conversion of mass to energy we have $\\epsilon = \\frac{mc^2}{m} = c^2 = 9\\times 10^{16}$ J/kg.\n",
    "\n",
    "If total conversion was the energy source, we would have $\\tau_\\odot = \\frac{M_\\odot c^2}{L_\\odot} = 3\\times 10^{13}\\,\\mathrm{years}$!"
   ]
  },
  {
   "cell_type": "markdown",
   "metadata": {
    "slideshow": {
     "slide_type": "subslide"
    }
   },
   "source": [
    "This is easily long enough to keep the Sun bright.\n",
    "\n",
    "However, this complete conversion requires an equal amount of matter and antimatter.\n",
    "\n",
    "- We do not see the signature gamma rays from matter annihilation\n",
    "- If half the Sun were anti-matter what would prevent explosive annihilation?\n",
    "\n",
    "- The Sun is not powered by matter annihilation"
   ]
  },
  {
   "cell_type": "markdown",
   "metadata": {
    "slideshow": {
     "slide_type": "slide"
    }
   },
   "source": [
    "## Nuclear Fusion\n",
    "\n",
    "We need a way to turn mass into energy in a controlled way:\n",
    "- Under conditions of very high temperature and very high density, several light nuclei can fuse to form a single nucleus\n",
    "- The newly formed nucleus has a slightly lower mass than the combination of the separate nuclei\n",
    "- This mass deficit $\\Delta m$ is released as fusion energy $\\Delta E = \\Delta m c^2$.\n"
   ]
  },
  {
   "cell_type": "markdown",
   "metadata": {
    "slideshow": {
     "slide_type": "subslide"
    }
   },
   "source": [
    "## Nuclear fusion in the Sun\n",
    "\n",
    "<img class=\"right_panel\" width=\"500px\" src=\"img/H-He.png\">\n",
    "\n",
    "* In the Sun, four Hydrogen nucleii (protons) fuse together to form a Helium-4 nucleus (alpha particle).\n",
    "* Energy is released in the form of radiation (gamma-rays) and neutrinos."
   ]
  },
  {
   "cell_type": "markdown",
   "metadata": {
    "slideshow": {
     "slide_type": "subslide"
    }
   },
   "source": [
    "### Energy budget\n",
    "\n",
    "To calculate $\\Delta E = \\Delta m c^2$ we need the mass of a Helium nucleus $m_\\alpha$ and the mass of the proton $m_p$.\n",
    "\n",
    "- $m_p = 1.673\\times 10^{-27}\\,\\mathrm{kg}$\n",
    "- $4 m_p = 6.690\\times 10^{-27}\\,\\mathrm{kg}$\n",
    "- $m_\\alpha = 6.644\\times 10^{-27}\\,\\mathrm{kg}$\n",
    "\n",
    "So $\\Delta m = 4m_p - m_\\alpha = 0.046 \\times 10^{-27}\\,$kg.\n",
    "\n",
    "And $\\Delta E = \\Delta m c^2 = 4.127 \\times 10^{-12}\\,$J. This is the energy available in one H-He fusion reaction."
   ]
  },
  {
   "cell_type": "markdown",
   "metadata": {
    "slideshow": {
     "slide_type": "subslide"
    }
   },
   "source": [
    "So $$\\epsilon_\\mathrm{Fusion} =\\frac{\\Delta E}{m_p} = 2.47\\times 10^{15}\\,\\mathrm{J\\,kg^{-1}}$$\n",
    "and the lifetime would be\n",
    "$$\\tau = \\frac{M_\\odot \\epsilon_\\mathrm{Fusion}}{L_\\odot} = 4\\times 10^{11}\\,\\mathrm{years}$$\n",
    "\n",
    "This is around 100 times the age of the Sun - plausible?\n",
    "- Yes, if we do not assume that all of the Sun's mass undergoes fusion."
   ]
  },
  {
   "cell_type": "markdown",
   "metadata": {
    "slideshow": {
     "slide_type": "slide"
    }
   },
   "source": [
    "# Stellar Formation\n",
    "\n",
    "We have verified the general picture of stars as fusion-powered for most of their lifetimes. But let's back-track and look again at that energy from gravitational collapse, because we had asked the question\n",
    "- Why and how do stars form?"
   ]
  },
  {
   "cell_type": "markdown",
   "metadata": {
    "slideshow": {
     "slide_type": "subslide"
    }
   },
   "source": [
    "We know that stars have a finite lifetime, so they must have been born at some point in the past.\n",
    "For the Sun this was about 4.6 billion years ago. __Gravity__ is the key player.\n",
    "\n",
    "What did it form from?\n",
    " - Interstellar gas cloud"
   ]
  },
  {
   "cell_type": "markdown",
   "metadata": {
    "slideshow": {
     "slide_type": "subslide"
    }
   },
   "source": [
    "The galaxy is full of Hydrogen and Helium produced in the big bang, and dust and gas left over from previous generations of stars (Population II).\n",
    "\n",
    "- If it is not completely uniform then gravity will cause clumps to collapse.\n",
    "\n",
    "- As it collapses, the gas heats up (gravitational potential energy is converted to heat energy)"
   ]
  },
  {
   "cell_type": "markdown",
   "metadata": {
    "slideshow": {
     "slide_type": "subslide"
    }
   },
   "source": [
    "| Object | Number density (particles / $m^3$) |\n",
    "|--------|------------------------------------|\n",
    "| Earth's atmosphere | $2.5\\times 10^{25}$ |\n",
    "| Laboratory vacuum | $1\\times 10^{16}$ |\n",
    "| 'Dense' Interstellar cloud | $1\\times 10^{14}$ |\n",
    "| 'Average' Interstellar Cloud | $1\\times 10^{13}$ |\n",
    "\n",
    "The density is very low, so we need a lot of mass ($>100 M_\\odot$) to collapse under gravity."
   ]
  },
  {
   "cell_type": "markdown",
   "metadata": {
    "slideshow": {
     "slide_type": "subslide"
    }
   },
   "source": [
    "- If the cloud is initially rotating even slightly, the rotation speed increases as material collapses inward\n",
    "- Spinning material flattens into a __protoplanetary disc__\n",
    "\n",
    "- The dense central part forms a protostar\n",
    "- Surrounding material continues to accrete onto the protostar\n",
    "- The temperature rises, and the gas becomes ionised\n",
    "- Eventually, if enough material is accreted, the temperature becomes high enough to initiate nuclear fusion - a star is born!\n",
    "- Radiation from the hot star pushes material out until equilibrium is reached."
   ]
  },
  {
   "cell_type": "markdown",
   "metadata": {
    "slideshow": {
     "slide_type": "subslide"
    }
   },
   "source": [
    "<video src=\"img/cluster1mre.avi.mp4\" controls>"
   ]
  },
  {
   "cell_type": "markdown",
   "metadata": {
    "slideshow": {
     "slide_type": "subslide"
    }
   },
   "source": [
    "![Eagle Nebula](img/EagleNebula.jpg)\n",
    "\n",
    "The Eagle Nebula showing recently formed stars"
   ]
  },
  {
   "cell_type": "markdown",
   "metadata": {
    "slideshow": {
     "slide_type": "subslide"
    }
   },
   "source": [
    "![How star are formed](img/HowStarsAreFormed.jpg)"
   ]
  },
  {
   "cell_type": "markdown",
   "metadata": {
    "slideshow": {
     "slide_type": "subslide"
    }
   },
   "source": [
    "#### Protoplantery disc around nearby star Formalhaut\n",
    "\n",
    "![Formalhaut's protoplanetary disc](img/Formalhaut.jpg)"
   ]
  },
  {
   "cell_type": "markdown",
   "metadata": {
    "slideshow": {
     "slide_type": "slide"
    }
   },
   "source": [
    "# Protostars\n",
    "\n",
    "Let's model this cloud collapse in a bit more detail.\n",
    "\n",
    "We see that initial non-uniformities are amplified by gravity and the cloud fragments as it collapses.\n",
    "- Each fragment produces a proto-star\n",
    "\n",
    "The temperature of the proto-star increases as gravitational potential energy is converted to heat.\n",
    "- Initially, the temperature is 10s of kelvin\n",
    "\n",
    "$$\\lambda_{peak} = 0.0029 / T_\\mathrm{eff} \\approx 10^{-4}\\,\\mathrm{m} $$\n",
    "\n",
    "- This radiation is far-infrared, and too long-wavelength to be absorbed by absorption lines in the gas\n",
    "- The cloud is very diffuse\n",
    "- Radiation prevents the temperature from increasing very rapidly"
   ]
  },
  {
   "cell_type": "markdown",
   "metadata": {
    "slideshow": {
     "slide_type": "subslide"
    }
   },
   "source": [
    "Remember Stefan-Boltzmann Law\n",
    "$$ L = 4\\pi R^2 \\sigma T^4$$\n",
    "\n",
    "At first $T$ is low, but $R$ is very large (hundreds of a.u.).\n",
    "\n",
    "- As the cloud collapses, the temperature rises slowly to begin with\n",
    "- But luminosity is decreasing as $R$ gets smaller\n",
    "- The temperature eventually begins to rise in the core of the cloud"
   ]
  },
  {
   "cell_type": "markdown",
   "metadata": {
    "slideshow": {
     "slide_type": "slide"
    }
   },
   "source": [
    "# Gravitational Collapse - Energy budget\n",
    "\n",
    "How much energy will be liberated from the gravitational field when the gas cloud collapses?\n",
    "\n",
    "- What is the total gravitational self-energy of a sphere of mass M and radius R? (i.e. how much energy would it take to unbind the cloud?)"
   ]
  },
  {
   "cell_type": "markdown",
   "metadata": {
    "slideshow": {
     "slide_type": "subslide"
    }
   },
   "source": [
    "We can get a rough estimate by making a crude approximation:\n",
    "- Two half-spheres, each mass $M/2$ come together\n",
    "- Their approximate centres are a distance $R$ apart\n",
    "\n",
    "\n",
    "\\begin{align}\n",
    "E_G &= -\\frac{G\\left(\\frac{M}{2}\\right)\\left(\\frac{M}{2}\\right)}{R} \\\\\n",
    "&= -\\frac{GM^2}{R}\\times\\frac{1}{4}\n",
    "\\end{align}"
   ]
  },
  {
   "cell_type": "markdown",
   "metadata": {
    "slideshow": {
     "slide_type": "subslide"
    }
   },
   "source": [
    "To make a more precise estimate we need to know how the density changes at difference radii.\n",
    "\n",
    "If we assume a uniform density, we get\n",
    "\\begin{align}\n",
    "E_G = -\\frac{GM^2}{R}\\times\\frac{3}{5}\n",
    "\\end{align}\n",
    "\n",
    "So we can remember that in a realistic situation the result will be $\\approx\\frac{GM^2}{R}$ times a small factor."
   ]
  },
  {
   "cell_type": "markdown",
   "metadata": {
    "slideshow": {
     "slide_type": "subslide"
    }
   },
   "source": [
    "So the energy released from the gravitational field as the cloud collapses will be $E_{init} - E_{final}$. If the cloud starts out very large we can assume $E_{init}\\approx =0$ and so the energy available is\n",
    "$$\\approx \\frac{GM^2}{R}$$"
   ]
  },
  {
   "cell_type": "markdown",
   "metadata": {
    "slideshow": {
     "slide_type": "subslide"
    }
   },
   "source": [
    "## Kelvin-Helmholtz timescale\n",
    "\n",
    "As we have seen before, the lifetime of the Sun if it were powered by heat left over from its contraction is\n",
    "$\\tau_{KH}= \\frac{GM_\\odot^2}{R_\\odot L_\\odot}$, the Kelvin=Helmholtz or _thermal_ timescale.\n",
    "\n",
    "For the Sun this is about $10^7$ years. This is roughly the time it takes a $1 M_\\odot$ protostar to collapse.\n",
    "\n",
    "- This time is quite short by astronomical standards.\n",
    "- This is the reason we do not see many protostars."
   ]
  },
  {
   "cell_type": "markdown",
   "metadata": {
    "slideshow": {
     "slide_type": "subslide"
    }
   },
   "source": [
    "For a $1M_\\odot$ protostar, after about 10000 years, it will have\n",
    "- $T=2000-3000 K$\n",
    "- $R\\approx 20R_\\odot$\n",
    "- $L\\approx 100 L_\\odot$\n",
    "\n",
    "For a $0.08 M_\\odot$ star, the pressure and temperature are never high enough to trigger nuclear fusion.\n",
    "- It will still shine for its Kelvin-Helmholtz timescale though - a brown dwarf\n",
    "- Planets also have residual heat left over from their formation. Jupiter gives off twice as much heat as it receives from the Sun!"
   ]
  },
  {
   "cell_type": "markdown",
   "metadata": {
    "slideshow": {
     "slide_type": "subslide"
    }
   },
   "source": [
    "## Hayashi Tracks\n",
    "\n",
    "- This evolutionary path for the proto-star moves it around on the HR diagram.\n",
    "- T-Tauri variable stars (see part 1.3) are examples of unstable protostars evolving toward stability.\n",
    "- For low-mass stars ($<3M_\\odot$) this is mostly vertical motion downward until the proto-star hits the main sequence.\n",
    "- During this phase the protostar is unstable - remember T-Tauri variables!"
   ]
  },
  {
   "cell_type": "markdown",
   "metadata": {
    "slideshow": {
     "slide_type": "subslide"
    }
   },
   "source": [
    "## Henyey Tracks\n",
    "\n",
    "Higher mass stars have another phase:\n",
    "- As the star continues to heat up, the gas in the cloud becomes fully ionised.\n",
    "- No un-ionised atoms to provide atomic absorption lines - the gas becomes transparent in its diffuse outer regions\n",
    "- The protostar slowly contracts until the onset of nuclear reactions in the core\n",
    "- This slow contraction with an increase in temperature produces a nearly horizontal track on the HR diagram - slight luminosity increase with large temperature increase."
   ]
  },
  {
   "cell_type": "markdown",
   "metadata": {
    "slideshow": {
     "slide_type": "subslide"
    }
   },
   "source": [
    "![Pre Main Sequence Evolution](img/PreMainSequence.jpg)"
   ]
  },
  {
   "cell_type": "markdown",
   "metadata": {
    "slideshow": {
     "slide_type": "subslide"
    }
   },
   "source": [
    "## Pre-main-sequence Stars\n",
    "\n",
    "All have distinctive characteristics :\n",
    "- unstable luminosity\n",
    "- eject lots of gas\n",
    "- surrounded by warm clouds (from which they formed)\n",
    "- T Tauri stars are a good example of pre-MS stars"
   ]
  },
  {
   "cell_type": "markdown",
   "metadata": {
    "slideshow": {
     "slide_type": "subslide"
    }
   },
   "source": [
    "<img class=\"right_panel\" style=\"max-width: 40%\" src=\"img/PolarOutflow.png\">\n",
    "\n",
    "- Young stars also exhibit ‘bipolar outflows’\n",
    "- these are jets of material in opposite directions extending over a distance scale of about 1 lightyear\n",
    "- the jets indicate that the new star is gaining material from a surrounding accretion disk\n"
   ]
  },
  {
   "cell_type": "markdown",
   "metadata": {
    "slideshow": {
     "slide_type": "subslide"
    }
   },
   "source": [
    "## Bipolar outflow from protostar HH211\n",
    "\n",
    "![HH211](img/HH211.jpg)"
   ]
  },
  {
   "cell_type": "markdown",
   "metadata": {
    "slideshow": {
     "slide_type": "slide"
    }
   },
   "source": [
    "## Emission Nebulae\n",
    "\n",
    "- Young stars are also often surrounded by emission nebulae\n",
    "- these are known as HII regions\n",
    "- The UV light from a hot star ( ~ 20000 K) sweeps out a cavity and ionises the surrounding hydrogen\n",
    "- Recombination produces Hɑ and other emissions as well \n",
    "- overall a red glow\n",
    "\n",
    "- The Orion, Eagle, Trifid and Lagoon nebulae are all (beautiful) examples of emission nebulae"
   ]
  },
  {
   "cell_type": "markdown",
   "metadata": {
    "slideshow": {
     "slide_type": "subslide"
    }
   },
   "source": [
    "![Orion](img/Orion.jpg)"
   ]
  },
  {
   "cell_type": "markdown",
   "metadata": {
    "slideshow": {
     "slide_type": "subslide"
    }
   },
   "source": [
    "![Triffid](img/Triffid.jpg)"
   ]
  },
  {
   "cell_type": "markdown",
   "metadata": {
    "slideshow": {
     "slide_type": "subslide"
    }
   },
   "source": [
    "![Eagle](img/Eagle.jpg)"
   ]
  },
  {
   "cell_type": "markdown",
   "metadata": {
    "slideshow": {
     "slide_type": "subslide"
    }
   },
   "source": [
    "![Lagoon](img/Lagoon.jpg)"
   ]
  },
  {
   "cell_type": "markdown",
   "metadata": {
    "slideshow": {
     "slide_type": "slide"
    }
   },
   "source": [
    "## Cloud Collapse\n",
    "\n",
    "### What conditions result in cloud collapse?\n",
    "\n"
   ]
  },
  {
   "cell_type": "markdown",
   "metadata": {
    "slideshow": {
     "slide_type": "subslide"
    }
   },
   "source": [
    "The __Virial Theorem__ states that the total kinetic energy of a stable, self-gravitating mass distribution, is negative one half of the total gravitational potential energy\n",
    "$$K.E = -\\frac{1}{2} P.E.$$\n",
    "\n",
    "This helps us calculate the conditions that must exist for cloud collapse"
   ]
  },
  {
   "cell_type": "markdown",
   "metadata": {
    "slideshow": {
     "slide_type": "notes"
    }
   },
   "source": [
    "- The number of particles with mass $m_p$ in the cloud (total mass $M_c$) is $N = M_c/m_p$\n",
    "- The potential energy of a spherical cloud with uniform density is\n",
    "$$E_G = -\\frac{3}{5}\\frac{GM_c^2}{R_c}$$\n",
    "\n",
    "- The cloud is a _gas_\n",
    "\n",
    "The kinetic energy of each particle in the gas is the thermal energy $\\frac{3}{2}k_B T$\n",
    "\n",
    "So the total K.E. is $$E_K = \\frac{3M_c}{2m_p}k_B T $$\n",
    "\n",
    "So the Virial Theorem tells us\n",
    "\n",
    "$$\n",
    "\\frac{3M_c}{2m_p}k_BT = -\\frac{1}{2}\\times \\left(-\\frac{3}{5}\\frac{GM_c^2}{R_c}\\right)\n",
    "$$\n",
    "\n",
    "The cloud will collapse if the virial theorem is unbalanced, i.e.\n",
    "\\begin{align}\n",
    "\\frac{3M_c}{2m_p}k_BT &< -\\frac{1}{2}\\times \\left(-\\frac{3}{5}\\frac{GM_c^2}{R_c}\\right) \\\\\n",
    "\\frac{k_BT}{m_p} &< \\frac{1}{5} \\frac{GM_c}{R_c}\n",
    "\\end{align}\n",
    "\n",
    "So for a cloud of radius $R_c$ at temperature $T$, collapse will happen if\n",
    "$$\n",
    "M_C > \\frac{5k_BTR_c}{m_p G}\n",
    "$$\n",
    "\n",
    "If the cloud has initial density $$\\rho_0 = \\frac{M_c}{(4/3)\\pi R_c^3}$$\n",
    "then\n",
    "$$\n",
    "R_C = \\left(\\frac{3M_C}{4\\pi\\rho_0}\\right)^{1/3}\n",
    "$$\n",
    "Substituting into previous expression for collapse we find\n",
    "$$\n",
    "M_C > \\frac{5k_BT}{m_p G}\\left(\\frac{3M_C}{4\\pi\\rho_0}\\right)^{1/3}\n",
    "$$"
   ]
  },
  {
   "cell_type": "markdown",
   "metadata": {
    "slideshow": {
     "slide_type": "subslide"
    }
   },
   "source": [
    "### Jeans mass\n",
    "So, simplifying we find the necessary mass for a cloud to collapse is\n",
    "$$\n",
    "M_C > \\left(\\frac{5k_B T}{m_P G}\\right)^{3/2}\\left(\\frac{3}{4\\pi\\rho_0}\\right)^{1/2}\n",
    "$$\n",
    "This critical mass is called the __Jeans Mass__, $M_J$.\n",
    "- A cloud with $M_C>M_J$ will collapse under gravity"
   ]
  },
  {
   "cell_type": "markdown",
   "metadata": {
    "slideshow": {
     "slide_type": "subslide"
    }
   },
   "source": [
    "For a dense interstellar gas cloud we have $\\rho_0 = m_p \\times 10^{14} = 1.67\\times10^{-13}\\,\\mathrm{kg\\,m^{-3}}$. If we assume an initial temperature $T\\approx 10 K$.\n",
    "\n",
    "Then $M_J \\approx 6\\times 10^{29}\\,\\mathrm{kg} \\approx \\frac{1}{2}M_\\odot$.\n",
    "- So we can roughly predict the mass of a star!\n",
    "- Real collapsing clouds fragment and have a range of temperatures and shapes so this is very rough"
   ]
  },
  {
   "cell_type": "markdown",
   "metadata": {
    "slideshow": {
     "slide_type": "subslide"
    }
   },
   "source": [
    "Initially the collapse is essentially free-fall.\n",
    "- The cloud can radiate away the liberated energy as the density is low\n",
    "- Temperature remains fairly constant until the late stages\n"
   ]
  },
  {
   "cell_type": "markdown",
   "metadata": {
    "slideshow": {
     "slide_type": "subslide"
    }
   },
   "source": [
    "### Cloud collapse - temperature\n",
    "\n",
    "Using the Virial theorem we can also predict the temperature of the cloud once it reaches equilibrium\n",
    "- Denote the final state with subscript $*$\n",
    "\\begin{align}\n",
    "\\frac{3}{2}k_BT_*\\frac{M_*}{m_p} &= \\frac{1}{2}\\times\\frac{3}{5}\\times \\frac{GM_*^2}{R_*} \\\\\n",
    "T_* &= \\frac{GM_*m_p}{5k_BR_*}\n",
    "\\end{align}"
   ]
  },
  {
   "cell_type": "markdown",
   "metadata": {
    "slideshow": {
     "slide_type": "subslide"
    }
   },
   "source": [
    "For a $1 M_\\odot$ star with radius $1 R_\\odot$, and $m_p=1.66\\times 10^{-27}\\,\\mathrm{kg}$ we find\n",
    "$$\n",
    "T_*\\approx 4\\times 10^6\\,\\mathrm{K}\n",
    "$$\n",
    "- Given the rather crude approximations this isn't a bad estimate for the core temperature of the star"
   ]
  },
  {
   "cell_type": "markdown",
   "metadata": {
    "slideshow": {
     "slide_type": "subslide"
    }
   },
   "source": [
    "So, for a large enough $M_*/R_*$ ratio the temperature becomes high enough to fuse Hydrogen into Helium.\n",
    "- The temperature released by fusion provides the energy needed to stabilise the cloud against further contraction\n",
    "\n",
    "## The proto-star becomes a star"
   ]
  },
  {
   "cell_type": "markdown",
   "metadata": {
    "slideshow": {
     "slide_type": "slide"
    }
   },
   "source": [
    "# Main sequence Stars\n",
    "\n",
    "### Nuclear fusion\n"
   ]
  },
  {
   "cell_type": "markdown",
   "metadata": {
    "slideshow": {
     "slide_type": "subslide"
    }
   },
   "source": [
    "We have seen that fusing 4 Hydrogen nuclei into a Helium nucleus is a plausible mechanism for producing stellar energy.\n",
    "- We had assumed that all the star's mass is available for fusion\n",
    "- Collision of 4 H nuclei is incredibly unlikely.\n",
    "- Fusion is much more likely in a series of steps involving two-particle fusion\n",
    "- This is called the p-p chain reaction"
   ]
  },
  {
   "cell_type": "markdown",
   "metadata": {
    "slideshow": {
     "slide_type": "subslide"
    }
   },
   "source": [
    "![P-P chain reaction](img/ppchain.png)"
   ]
  },
  {
   "cell_type": "markdown",
   "metadata": {
    "slideshow": {
     "slide_type": "subslide"
    }
   },
   "source": [
    "## The p-p chain reaction\n",
    "\n",
    "1. Two mass-1 isotopes of Hydrogen (protons) undergo a simultaneous fusion and beta decay, producing a positron, a neutrino and a mass-2 isotope of Hydrogen (deuterium)\n",
    "$$^1H +\\ ^1H \\rightarrow \\beta^+ + \\nu +\\ ^2H$$\n",
    "\n",
    "2. The deuterium reacts with another $^1H$ to form Helium-3 and  a gamma ray\n",
    "$$^1H+\\ ^2H \\rightarrow\\ ^3He + \\gamma$$"
   ]
  },
  {
   "cell_type": "markdown",
   "metadata": {
    "slideshow": {
     "slide_type": "subslide"
    }
   },
   "source": [
    "3. Two helium-3 isotopes produced in separate implementations of the first two stages fuse to form helium-4 plus two mass-1 hydrogen isotopes (protons)\n",
    "$$^3He + \\ ^3He \\rightarrow\\ ^4He+2\\ ^1H$$\n",
    "\n",
    "So the net reaction is\n",
    "$$ 4\\ ^1H \\rightarrow \\ ^4He + 2\\beta^+ + 2\\nu + 2\\gamma$$"
   ]
  },
  {
   "cell_type": "markdown",
   "metadata": {
    "slideshow": {
     "slide_type": "subslide"
    }
   },
   "source": [
    "A small amount of energy is carried off by neutrinos\n",
    "\n",
    "![neutrinograph](img/neutrino_sun.jpg)\n",
    "_A \"neutrinograph\" of the Sun_"
   ]
  },
  {
   "cell_type": "markdown",
   "metadata": {
    "slideshow": {
     "slide_type": "subslide"
    }
   },
   "source": [
    "### p-p reaction in stars\n",
    "\n",
    "- In stars $\\sim 1 M_\\odot$, about 85% of nuclear reaction occur via the p-p chain.\n",
    "    - The other reactions are the temporary creation of heavier elements: $^7Be$, $^7Li$\n",
    "\n",
    "- In more massive stars the core temperature is higher $>1.7 \\times 10^7\\,\\mathrm{K}$ and other reactions are possible\n",
    "    - The dominant one is the CNO cycle"
   ]
  },
  {
   "cell_type": "markdown",
   "metadata": {
    "slideshow": {
     "slide_type": "subslide"
    }
   },
   "source": [
    "<img class=\"right_panel\" src=\"img/CNO.png\">\n",
    "\n",
    "- Net reaction is $4 ^1H \\rightarrow ^4He + 3\\gamma + 2\\beta^+ + 2\\nu$\n",
    "- Carbon is needed for this reaction to take place\n",
    "- It acts as a catalyst but is not used up\n",
    "- You don't need to memorise this reaction!"
   ]
  },
  {
   "cell_type": "markdown",
   "metadata": {
    "slideshow": {
     "slide_type": "subslide"
    }
   },
   "source": [
    "### Energy Creation Rates : pp-chain or CNO-cycle?\n",
    "- The energy creation rates for the 2 chains depend strongly on temperature\n",
    "- However, for the CNO-cycle to work at all, carbon, nitrogen and oxygen must be present\n",
    "    - this will depend on the star type\n",
    "- At lower masses and, therefore, temperatures, the pp-chain dominates\n",
    "- At higher temperatures, there is a sudden transition to dominance by the CNO-cycle\n"
   ]
  },
  {
   "cell_type": "markdown",
   "metadata": {
    "slideshow": {
     "slide_type": "subslide"
    }
   },
   "source": [
    "The energy production rate varies strongly with temperature for the CNO-cycle and so is more important for heavier stars – which have higher interior temperatures.\n",
    "\n",
    "<img src=\"img/pp_vs_cno.png\" height=\"300px\">"
   ]
  },
  {
   "cell_type": "markdown",
   "metadata": {
    "slideshow": {
     "slide_type": "slide"
    }
   },
   "source": [
    "# Stellar Structure"
   ]
  },
  {
   "cell_type": "markdown",
   "metadata": {
    "slideshow": {
     "slide_type": "subslide"
    }
   },
   "source": [
    "# Modelling stars as gases\n",
    "\n",
    "So far we have been talking about stars as being made up of gases.\n",
    "- The mean density of a star is around 1.4 times that of water\n",
    "- The central density in the core is about 150 times that of water\n",
    "\n",
    "Are we justified in using this model?"
   ]
  },
  {
   "cell_type": "markdown",
   "metadata": {
    "slideshow": {
     "slide_type": "subslide"
    }
   },
   "source": [
    "At high temperatures, Hydrogen is ionised into protons and electrons\n",
    "- These are _tiny_ compared to Hydrogen atoms\n",
    "\n",
    "Let's compare the density of Hydrogen atoms to protons.\n",
    "\n",
    "| Quantity | Hydrogen | Protons |\n",
    "|----------|---------|----------|\n",
    "| Radius | $\\sim 10^{-10}\\,\\mathrm{m}$ | $\\sim 10^{-15}\\,\\mathrm{m}$ |\n",
    "| Volume | $\\sim 10^{-30}\\,\\mathrm{m}^3$ | $\\sim 10^{-45}\\,\\mathrm{m}^3$ |\n",
    "| Equivalent number density | $\\sim 10^{30}\\,\\mathrm{m}^{-3}$ | $\\sim 10^{45}\\,\\mathrm{m}^{-3}$ |\n",
    "| Equivalent mass density | $\\sim 1.7\\times 10^{3}\\,\\mathrm{kg\\,m^{-3}}$ | $\\sim 1.7\\times 10^{18}\\,\\mathrm{kg\\,m^{-3}}$ |"
   ]
  },
  {
   "cell_type": "markdown",
   "metadata": {
    "slideshow": {
     "slide_type": "subslide"
    }
   },
   "source": [
    "- In the photosphere, the density of hydrogen is only 0.0001 kg/m$^3$\n",
    "- The hydrogen is mostly un-ionised (see part 4 - stellar atmospheres)\n",
    "- Since the density of neutral hydrogen is much lower than the density of maximally packed hydrogen atoms it behaves quite like an ideal gas.\n"
   ]
  },
  {
   "cell_type": "markdown",
   "metadata": {
    "slideshow": {
     "slide_type": "subslide"
    }
   },
   "source": [
    "- In the interior, the temperature is so high that hydrogen is fully ionised\n",
    "- Density at the core is $\\approx 150000\\,\\mathrm{kg\\,m^{-3}}$, $\\ll 10^{18}\\,\\mathrm{kg\\,m^{-3}}$ maximal density for protons\n",
    "- We can think of it as a gas made up of a mixture of protons and electrons"
   ]
  },
  {
   "cell_type": "markdown",
   "metadata": {
    "slideshow": {
     "slide_type": "subslide"
    }
   },
   "source": [
    "# Stellar structure - equilibrium\n",
    "\n",
    "Inside a stable star, the inward pull of gravity is balanced by the thermal pressure due to the heat.\n",
    "\n",
    "We can use this fact to develop a model of the stellar interior based on __hydrostatic equilibrium__.\n",
    "\n",
    "This can help us work out what the central temperature and pressure is for a star."
   ]
  },
  {
   "cell_type": "markdown",
   "metadata": {
    "slideshow": {
     "slide_type": "subslide"
    }
   },
   "source": [
    "# Hydrostatic Equilibrium\n",
    "\n",
    "<img src=\"img/equilibrium_diagram.png\" style=\"float: right; max-width:500px\">\n",
    "\n",
    "- Consdier a small slab of the star, surface area $A$, thickness $dr$ at a distance $r$ from the centre\n",
    "- $M(r)$ is the mass _inside_ radius $r$\n",
    "- $\\rho(r)$ is the density at radius $r$\n",
    "- The Mass of the slab is then $dm = A dr \\rho$\n",
    "\n",
    "In equilibrium the forces on each side of the slab are balanced."
   ]
  },
  {
   "cell_type": "markdown",
   "metadata": {
    "slideshow": {
     "slide_type": "notes"
    }
   },
   "source": [
    "\\begin{align}\n",
    "F_{grav} &= -\\frac{GM(r)dm}{r^2}\\\\\n",
    "&=-\\frac{GM(r)\\rho(r)A dr}{r^2}\n",
    "\\end{align}\n",
    "\n",
    "This is balanced by the extra pressure from the gas below, which is $F_{pressure}=AdP$.\n",
    "\n",
    "The slab does not move, so the two are balanced:\n",
    "\\begin{align}\n",
    "F_{pressure}&=F_{grav}\\\\\n",
    "AdP&=-\\frac{GM(r)\\rho(r)Adr}{r^2} \\\\\n",
    "\\frac{dP}{dr}&=-\\frac{GM(r)\\rho(r)}{r^2}\n",
    "\\end{align}\n",
    "\n",
    "This is the equation of hydrostatic equilibrium.\n",
    "We can solve this differential equation to find the pressure a function of radius, $P(r)$.\n",
    "- But we need to know $M(r)$ and $\\rho(r)$ to solve the equation.\n",
    "- Note the negative sign: the pressure decreases torward the outside of the star (as expected)\n",
    "\n",
    "- For simplicity we can assume the star has uniform density: $\\rho_{av}$.\n",
    "- Then the mass inside a radius $r$ is $M(r)=\\frac{4}{3}\\pi r^3\\rho_{av}$.\n",
    "\n",
    "Inserting this into the equation of hydrostatic equilibrium gives us:\n",
    "$$\n",
    "\\frac{dP}{dr} = -\\frac{GM(r)\\rho(r)}{r^2} = -\\frac{4}{3}\\pi G\\rho_{av}^2 r\n",
    "$$"
   ]
  },
  {
   "cell_type": "markdown",
   "metadata": {
    "slideshow": {
     "slide_type": "subslide"
    }
   },
   "source": [
    "#### Solving the equation of hydrostatic equilibrium\n",
    "Starting with\n",
    "\n",
    "$$\\frac{dP}{dr} = -\\frac{GM(r)\\rho(r)}{r^2} = -\\frac{4}{3}\\pi G\\rho_{av}^2 r\n",
    "$$\n",
    "\n",
    "We need to use boundary conditions to solve the equation:\n",
    "- At the surface of the star the pressure drops to 0, so $P(R)=0$, where $R$ is the radius of the star.\n",
    "- At the centre, $r=0$, let the pressure be $P_0$"
   ]
  },
  {
   "cell_type": "markdown",
   "metadata": {
    "slideshow": {
     "slide_type": "notes"
    }
   },
   "source": [
    "Solve the equation by integrating both sides\n",
    "\\begin{align}\n",
    "\\int_{P_0}^0 dP &= -\\frac{4}{3}\\pi G\\rho_{av}^2 \\int_0^R r dr \\\\\n",
    "\\left[P\\right]^0_{P_0} &= -\\frac{4}{3}\\pi G\\rho_{av}^2\\left[\\frac{r^2}{2}\\right]_0^R \\\\\n",
    "0 - P_0 &= -\\frac{4}{6}\\pi G\\rho_{av}^2 \\left[R^2-0\\right] \\\\\n",
    "P_0 &= \\frac{2}{3}\\pi G\\rho_{av}^2 R^2\n",
    "\\end{align}\n"
   ]
  },
  {
   "cell_type": "markdown",
   "metadata": {
    "slideshow": {
     "slide_type": "subslide"
    }
   },
   "source": [
    "### Central pressure of the Sun\n",
    "\n",
    "Our result\n",
    "$$P_0 = \\frac{2}{3}\\pi G\\rho_{av}^2 R^2$$\n",
    "can be applied to find the central pressure in the Sun.\n",
    "\n",
    "- $\\rho_{av}=\\frac{M_\\odot}{\\frac{4}{3}\\pi R^3}=1409\\,\\mathrm{kg\\,m}^{-3}$\n",
    "\n",
    "Using $R_\\odot=6.957\\times10^{8}\\,\\mathrm{m}$, we find\n",
    "\n",
    "$$P_0 = 1.3\\times 10^{14}\\,\\mathrm{N\\,m}^{-2}$$\n",
    "\n",
    "- About a billion times the air pressure in the room!"
   ]
  },
  {
   "cell_type": "markdown",
   "metadata": {
    "slideshow": {
     "slide_type": "subslide"
    }
   },
   "source": [
    "## More accurate estimate\n",
    "\n",
    "A better model would allow the density to increase toward the centre.\n",
    "- They predict:\n",
    "    - $P_0 \\approx 10^{16}\\,\\mathrm{N\\,m}^{-2}$\n",
    "    - $\\rho_0 \\approx 10^5\\,\\mathrm{kg\\,m}^{-3}$\n",
    "- This density is about 10 times the density of lead"
   ]
  },
  {
   "cell_type": "markdown",
   "metadata": {
    "slideshow": {
     "slide_type": "subslide"
    }
   },
   "source": [
    "## Central temperature in the Sun\n",
    "\n",
    "We can use the ideal gas law: $PV=nRT$\n",
    "- $P$: Pressure\n",
    "- $V$: Volume\n",
    "- $n$: number of moles of the gas\n",
    "- $R=N_A k_B$ is the ideal gas constant\n",
    "- $N_A=6.02\\times 10^{23}\\,\\mathrm{mol}^{-1}$ is Avogadro's constant"
   ]
  },
  {
   "cell_type": "markdown",
   "metadata": {
    "slideshow": {
     "slide_type": "subslide"
    }
   },
   "source": [
    "Re-write this as\n",
    "$$P=\\frac{nN_Ak_BT}{V} = \\frac{M}{V}\\frac{k_BT}{\\mu}$$\n",
    "- Where $\\mu$ is the mean molecular weight of the atoms\n",
    "    - Since we are talking about Hydrogen, $\\mu=m_p$ the proton mass\n",
    "- $\\rho = \\frac{M}{V} = \\frac{\\mu n N_A}{V}$ is the density\n",
    "\n",
    "This gives us\n",
    "$$\n",
    "P=\\frac{M}{V}\\frac{k_BT}{\\mu} = \\rho_{av}\\frac{k_B T}{\\mu}\n",
    "$$"
   ]
  },
  {
   "cell_type": "markdown",
   "metadata": {
    "slideshow": {
     "slide_type": "subslide"
    }
   },
   "source": [
    "Rearrange to find the central temperature\n",
    "$$\n",
    "T_0 = \\frac{\\mu P_0}{k_B\\rho_{av}} \\approx 10^7\\,\\mathrm{K}\n",
    "$$\n",
    "While we assumed constant density here, it turns out that more sophisticated models give approximately the same answer."
   ]
  },
  {
   "cell_type": "markdown",
   "metadata": {
    "slideshow": {
     "slide_type": "subslide"
    }
   },
   "source": [
    "## Stellar structure - more realistic models\n",
    "\n",
    "More realistic models allow for temperature, pressure and density gradients inside the star.\n",
    "- When the temperature gradient is too high, pressure at the bottom of a slab is greater than required to balance gravity\n",
    "- the slab will experience a net outward force\n",
    "- convection can occur instead of simple energy transport by radiation."
   ]
  },
  {
   "cell_type": "markdown",
   "metadata": {
    "slideshow": {
     "slide_type": "subslide"
    }
   },
   "source": [
    "# Interior of Star $<1.5 M_\\odot$\n",
    "\n",
    "<img src=\"img/sun_interior.jpg\" class=\"right_panel\">\n",
    "\n",
    "- In stars like the Sun, photons scatter off nuclei or electrons other every millimetre or so\n",
    "- It takes them about 50,000 years to escape the Sun\n",
    "- Hydrogen is converted to helium in the core;\n",
    "- very little helium escapes\n",
    "- Both radiation and convection transport heat energy from the core to the surface\n"
   ]
  },
  {
   "cell_type": "markdown",
   "metadata": {
    "slideshow": {
     "slide_type": "subslide"
    }
   },
   "source": [
    "![Stellar interiors](img/stellar_interiors.png)"
   ]
  }
 ],
 "metadata": {
  "celltoolbar": "Slideshow",
  "kernelspec": {
   "display_name": "Python 3",
   "language": "python",
   "name": "python3"
  },
  "language_info": {
   "codemirror_mode": {
    "name": "ipython",
    "version": 3
   },
   "file_extension": ".py",
   "mimetype": "text/x-python",
   "name": "python",
   "nbconvert_exporter": "python",
   "pygments_lexer": "ipython3",
   "version": "3.9.7"
  }
 },
 "nbformat": 4,
 "nbformat_minor": 4
}
