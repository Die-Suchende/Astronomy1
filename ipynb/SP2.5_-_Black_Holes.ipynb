{
 "cells": [
  {
   "cell_type": "markdown",
   "metadata": {
    "slideshow": {
     "slide_type": "slide"
    }
   },
   "source": [
    "# Stellar Physics\n",
    "\n",
    "## Part 2.5: Black Holes"
   ]
  },
  {
   "cell_type": "markdown",
   "metadata": {
    "slideshow": {
     "slide_type": "subslide"
    }
   },
   "source": [
    "### The Tolman-Oppenheimer-Volkoff mass limit\n",
    "\n",
    "![rho-p plot](img/logrhologP4.jpg)"
   ]
  },
  {
   "cell_type": "markdown",
   "metadata": {
    "slideshow": {
     "slide_type": "subslide"
    }
   },
   "source": [
    "- White dwarf equilibria occur where $P_{\\text{c}} = P_{\\text{Qe}}$.\n",
    "- Neutron star equilibria occur where $P_{\\text{c}} = P_{\\text{Qp}}$.\n",
    "- Above $M_{\\text{TOV}}$, no equilibria occur."
   ]
  },
  {
   "cell_type": "markdown",
   "metadata": {
    "slideshow": {
     "slide_type": "subslide"
    }
   },
   "source": [
    "## Karl Schwarzschild - Schwarzschild Radius\n",
    "\n",
    "- Classically, for a particle to be able to escape the gravitational pull of a massive object, it must be moving fast enough for __its kinetic energy to balance or exceed its gravitational potential energy.__\n",
    "- The classical escape speed, $v_{\\text{e}}$, for an object of mass $M$ and radius $R$ is then given by\n",
    "\\begin{align}\n",
    "\\frac{1}{2}mv_{\\text{e}}^{2}&=\\frac{GMm}{R}\\nonumber\\\\\n",
    "v_{\\text{e}}&=\\sqrt{\\frac{2GM}{R}}\n",
    "\\end{align}\n",
    "- According to _Special Relativity_, the maximum speed that any particle can have is the speed of light in a vacuum, $c$. Therefore, any physically-realisable escape speed cannot exceed $c$."
   ]
  },
  {
   "cell_type": "markdown",
   "metadata": {
    "slideshow": {
     "slide_type": "subslide"
    }
   },
   "source": [
    "- Setting $v_{\\text{e}} = c$, and solving the previous equation for the radius we find\n",
    "\\begin{equation}\n",
    "R_S=\\frac{2GM}{c^{2}}\\nonumber\n",
    "\\end{equation}\n",
    "  where $R_S$ is known as the __Schwarzschild Radius__.\n",
    "- This is NOT a rigorous derivation of the Schwarzschild Radius -- see next slide.\n",
    "- In units of solar mass, we find\n",
    "\\begin{equation}\n",
    "R_S\\approx 1.5\\times 10^{-27}\\,M\\,m\\approx 3000\\left(\\frac{M}{M_{\\odot}}\\right)\\,m\\nonumber\n",
    "\\end{equation}\n",
    "- The Schwarzchild radius of the Earth is therefore $\\approx 1$ cm."
   ]
  },
  {
   "cell_type": "markdown",
   "metadata": {
    "slideshow": {
     "slide_type": "subslide"
    }
   },
   "source": [
    "If an object has a radius smaller than the $R_S$ for its mass, then the escape speed from its surface will be greater than the speed of light. Therefore nothing, not even light, can escape from it. We can refer to such an object a __black hole__.\n",
    "- Strictly speaking, the expression for $R_S$ should be derived using _General Relativity_. \n",
    "- _It's a convenient coincidence that our simple, classical argument gives the same expression_, and it is a useful  way to help us remember the formula for $R_S$."
   ]
  },
  {
   "cell_type": "markdown",
   "metadata": {
    "slideshow": {
     "slide_type": "subslide"
    }
   },
   "source": [
    "![Black hole](img/blackhole.jpg)\n",
    "\n",
    "_Distortion of space around a black hole_"
   ]
  },
  {
   "cell_type": "markdown",
   "metadata": {
    "slideshow": {
     "slide_type": "subslide"
    }
   },
   "source": [
    "Classically, the Schwarzschild Radius marks the boundary of the black hole:\n",
    "objects outside $R_S$ can in principle escape from it, those inside $R_S$ cannot.\n",
    "- Note that the __event horizon__ defined by $R_S$ is not a physical surface: it is simply the demarcation of the edge of the concealed zone, an ``imaginary surface'' in spacetime (a bit like the horizon is an imaginary line on the surface of the Earth). \n",
    "- Therefore, we expect the laws of physics _inside_ the event horizon to be just the same as those _outside_ the black hole."
   ]
  },
  {
   "cell_type": "markdown",
   "metadata": {
    "slideshow": {
     "slide_type": "subslide"
    }
   },
   "source": [
    "### Black hole universality\n",
    "\n",
    "- Black holes \"have no hair\". (Known as the \"no hair\" theorem or conjecture).\n",
    "- Black holes are in some sense very simple objects and the theorem states that any black hole is completely described by 3 numbers - _its mass, angular momentum, and electric charge_.\n",
    "- If these numbers are the same for any two black holes then it doesn't matter what type of mass lies inside the event horizon."
   ]
  },
  {
   "cell_type": "markdown",
   "metadata": {
    "slideshow": {
     "slide_type": "subslide"
    }
   },
   "source": [
    "### Spacetime distortion\n",
    "\n",
    "<div class=\"left_panel\">\n",
    "<p>In General Relativity, we visualise gravity as being due to distortion, or curvature, of the fabric of spacetime.\n",
    "    </p>\n",
    "<q>Spacetime tells matter how to move, matter tells spacetime how to curve.</q> -John Wheeler\n",
    "\n",
    "</div>\n",
    "\n",
    "<img src=\"img/spacetime2.jpg\" class=\"right_panel\">"
   ]
  },
  {
   "cell_type": "markdown",
   "metadata": {
    "slideshow": {
     "slide_type": "subslide"
    }
   },
   "source": [
    "Larger masses cause a correspondingly greater distortion, or\n",
    "curvature, of space time. Particle orbits are trajectories through\n",
    "this curved spacetime."
   ]
  },
  {
   "cell_type": "markdown",
   "metadata": {
    "slideshow": {
     "slide_type": "fragment"
    }
   },
   "source": [
    "Greater and greater masses of smaller and smaller physical\n",
    "extent cause progressively greater curvature of spacetime, giving\n",
    "rise to deeper and deeper 'gravity wells'."
   ]
  },
  {
   "cell_type": "markdown",
   "metadata": {
    "slideshow": {
     "slide_type": "subslide"
    }
   },
   "source": [
    "<video src=\"img/GW150914_SXS.m4v\" controls style=\"max-width: 100%;\" />\n",
    "    \n",
    "<p>An animation of two black holes merging, showing the behaviour of the gravity wells</p>"
   ]
  },
  {
   "cell_type": "markdown",
   "metadata": {
    "slideshow": {
     "slide_type": "subslide"
    }
   },
   "source": [
    "- The gravitational effect of a black hole is so strong that it `punches a hole' in spacetime - hence the name _black hole_. Any particle trajectory crossing the event horizon cannot re-emerge: it must disappear down the hole.\n",
    "- However, Stephen Hawking proposed a mechanism by which energy and mass _can_ escape from a black hole."
   ]
  },
  {
   "cell_type": "markdown",
   "metadata": {
    "slideshow": {
     "slide_type": "slide"
    }
   },
   "source": [
    "## Tidal forces\n",
    "\n",
    "<img src=\"img/tidal.png\" class=\"left_panel\">\n",
    "\n",
    "<div class=\"right_panel\">\n",
    "Stellar-mass holes exert powerful tidal forces to nearby objects\n",
    "</div>"
   ]
  },
  {
   "cell_type": "markdown",
   "metadata": {
    "slideshow": {
     "slide_type": "subslide"
    }
   },
   "source": [
    "The difference in force acting on your head and your feet is\n",
    "\\begin{align}\n",
    "        \\Delta F &\\approx \\frac{GMm}{R^{2}} -\n",
    "        \\frac{GMm}{(R+h)^{2}}\\nonumber\\\\\n",
    "        &\\approx\n",
    "        GMm\\left(\\frac{1}{R^{2}}-\\frac{1}{(R+h)^{2}}\\right)\\nonumber\\\\\n",
    "        &\\approx\n",
    "        GMm\\left(\\frac{2Rh +\n",
    "            h^{2}}{R^{4}+2R^{3}h+R^{2}}\\right)\\nonumber\\\\\n",
    "        &\\approx\n",
    "        2GMmh/R^{3}\\nonumber\n",
    "\\end{align}\n",
    "\n",
    "At the Schwarzchild radius\n",
    "\\begin{equation}\n",
    "         \\Delta F\\approx\n",
    "10^{12}\\left(\\frac{M}{M_{\\odot}}\\right)^{-2}\\left(\\frac{m}{100\\text{kg}}\\right)\n",
    "\\left(\\frac{h}{1\\text{m}}\\right)\\,\\text{N}\\nonumber\n",
    "\\end{equation}"
   ]
  },
  {
   "cell_type": "markdown",
   "metadata": {
    "slideshow": {
     "slide_type": "slide"
    }
   },
   "source": [
    "## Hawking radiation\n",
    "\n",
    "- According to quantum mechanics, the `vacuum' of space is not completely empty. Pairs of virtual particles and anti-particles are spontaneously created, and then annihilate each other. \n",
    "- They `borrow' energy from the vacuum, and this is allowed so long as their lifetime $\\Delta t$ is less than the maximum allowed by the Heisenberg Uncertainty Principle: $\\Delta t \\leq \\hbar/E$, where $\\hbar$ is the Plank constant and $E$ is the total energy of the virtual particle- antiparticle pair.\n",
    "- This happens both inside and outside the event horizon (since the same physics applies in both places):\n",
    "\n",
    "![Hawking radiation](img/HawkingRad1.jpg)"
   ]
  },
  {
   "cell_type": "markdown",
   "metadata": {
    "slideshow": {
     "slide_type": "subslide"
    }
   },
   "source": [
    " Suppose a virtual particle-antiparticle pair is created very near to the event horizon: \n",
    "\n",
    "![Hawking Radiation 2](img/HawkingRad2.jpg)\n",
    "\n",
    "- One particle crosses the event horizon and is trapped inside the black hole. Therefore, it cannot annihilate with its partner, and so the partner can escape.\n",
    "- An external observer sees the escaping particle coming from the vicinity of the black hole: it appears that the black hole is radiating particles. \n",
    "- For energy to be conserved, the black hole must lose the corresponding mass- energy. We call this mass-loss process _black hole evaporation_.\n",
    "- The escaping particles are called _Hawking Radiation_."
   ]
  },
  {
   "cell_type": "markdown",
   "metadata": {
    "slideshow": {
     "slide_type": "subslide"
    }
   },
   "source": [
    "We can think about Hawking radiation another way.\n",
    "\n",
    "<div class=\"left_panel\">\n",
    "    <list>\n",
    "        <li> Quantum mechanics describes the position of a particle by its\n",
    "    wavefunction. \n",
    "        <li> The wavefunction of a particle behind a barrier extends outside the barrier (but with a reduced amplitude).\n",
    "        <li> So there is a small but finite probability of finding the particle outside the barrier. \n",
    "        <li> Particles near the event horizon can 'quantum tunnel' out of the black hole in this way.\n",
    "    </list>\n",
    "</div>\n",
    "\n",
    "<img src=\"img/tunnel.jpg\" class=\"right_panel\">"
   ]
  },
  {
   "cell_type": "markdown",
   "metadata": {
    "slideshow": {
     "slide_type": "subslide"
    }
   },
   "source": [
    "The particle wavelengths of the Hawking Radiation will be\n",
    "    comparable to the Schwarzschild Radius: $\\lambda \\approx R_S$.\n",
    "- If the particles are photons, the photon energy will be given by\n",
    "\\begin{equation}\n",
    "E = h\\nu=\\frac{hc}{\\lambda}\\approx \\frac{hc}{R_S}=\\frac{hc^{3}}{2GM}\\nonumber\n",
    "\\end{equation}\n",
    "- These photons escape and form a radiation field just outside\n",
    "  the event horizon. In practice, this has a perfect blackbody\n",
    "  spectrum."
   ]
  },
  {
   "cell_type": "markdown",
   "metadata": {
    "slideshow": {
     "slide_type": "subslide"
    }
   },
   "source": [
    "We can find the characteristic temperature of this radiation using $E \\approx kT$, so\n",
    "\\begin{equation}\n",
    "    T \\approx\n",
    "\\frac{hc^{3}}{2kGM}\\,\\left(\\times\\frac{1}{8\\pi^{2}}\\right)\\nonumber\n",
    "\\end{equation}\n",
    "- We can now use this temperature with the Stefan-Boltzmann law to define the Hawking Luminosity:\n",
    "\\begin{align}\n",
    "  L_{\\text{H}}&=4\\pi R_S^{2}\\sigma T^{4}\\nonumber\\\\\n",
    "    &=4\\pi\\left(\\frac{2GM}{c^{2}}\\right)^{2}\\sigma\\left(\\frac{hc^{3}}{16\\pi^{2}kGM}\\right)^{4}\\nonumber\\\\\n",
    "    &=\\frac{\\sigma}{4096\\pi^{7}}\\left(\\frac{h^{2}c^{4}}{k^{2}G}\\right)^{2}M^{-2}\\nonumber %\\\\\n",
    "    %&=\\frac{hc^6}{30720\\pi^2G^2M^2}\\nonumber\n",
    "\\end{align}\n",
    "- (this is the first theoretical derivation of a law containing both $h$ and $G$ - a hint toward quantum gravity!)\n",
    "- We see that the Hawking Luminosity varies _inversely_ with the square of the mass, so smaller black holes are more luminous. For a $1\\,M_{\\odot}$ black hole, $L_{\\text{H}} \\approx 10^{-27}$ W. __Unobservable in practice.__"
   ]
  },
  {
   "cell_type": "markdown",
   "metadata": {
    "slideshow": {
     "slide_type": "subslide"
    }
   },
   "source": [
    "Since the total mass-energy of a black hole of mass $M$ is $Mc^{2}$,\n",
    "the characteristic timescale for the Hawking Luminosity to radiate\n",
    "away all the black hole's energy (and hence for it to evaporate\n",
    "completely) will be given by\n",
    "\\begin{equation}\n",
    "      t_{\\text{H}}\\approx\\frac{Mc^{2}}{L_{\\text{H}}}\\approx\n",
    "10^{66}\\left(\\frac{M}{M_{\\odot}}\\right)^{3}\\,\\text{years}\\nonumber\n",
    "\\end{equation}  \n",
    "- Since the Universe is about 14 billion years old ($\\sim 10^{10}$ years), for a black hole to have completely evaporated it must have a $t_{\\text{H}}$ of less than this time. Using the age    of the Universe as an upper limit gives us the mass of the smallest black hole to have had the chance to evaporate: $M\\approx 10^{-18.7}\\,M_{\\odot}\\approx 10^{12}$ kg.\n",
    "- Using our equation for the Schwarzschild radius, we find that this corresponds to $R_S \\approx 10^{-15}$ m.\n",
    "- Hence only miniscule black holes (about the size of an atomic nucleus) will have had enough time to evaporate completely."
   ]
  },
  {
   "cell_type": "markdown",
   "metadata": {
    "slideshow": {
     "slide_type": "subslide"
    }
   },
   "source": [
    "## Blandford-Znajek Process\n",
    "\n",
    "<div class=\"left_panel\">\n",
    "    Energy can also be extracted from <it>spinning</it> black holes if they are embedded in strong\n",
    "magnetic fields via the Blandford-Znajek Process. It is channeled out in\n",
    "powerful jets along the spin axis of the black hole.\n",
    "    \n",
    "This is thought to be the mechanism for producing Gamma-ray bursts and quasars.\n",
    "\n",
    "The B-Z process is thought to provide sufficient power to see these from megaparsec distances.\n",
    "</div>\n",
    "\n",
    "<img src=\"img/M87beaming.jpg\" class=\"right_panel\">"
   ]
  },
  {
   "cell_type": "markdown",
   "metadata": {
    "slideshow": {
     "slide_type": "slide"
    }
   },
   "source": [
    "## Compact X-ray accretion sources\n",
    "\n",
    "- We know that the energy released by a falling mass $m$ accreting onto an object of mass $M$ and radius $R$ is\n",
    "\\begin{equation}\n",
    "E_{\\text{acc}}\\approx \\frac{GMm}{R}\\nonumber \n",
    "\\end{equation}\n",
    "- The energy which would be released by completely annihilating the mass $m$ is (from Einstein's mass-energy equivalence)\n",
    "\\begin{equation}\n",
    "E_{\\text{mass}}\\approx mc^{2}\\nonumber \n",
    "\\end{equation}\n",
    "- So we can define an accretion efficiency $\\eta$ as the fraction of a test mass's annihilation energy which would be liberated by its accretion onto an object:\n",
    "\\begin{equation}\n",
    "\\eta = \\frac{E_{\\text{acc}}}{E_{\\text{mass}}}=\\frac{GMm}{R}\\frac{1}{mc^{2}}=\\frac{GM}{Rc^{2}}\\nonumber\n",
    "\\end{equation}"
   ]
  },
  {
   "cell_type": "markdown",
   "metadata": {
    "slideshow": {
     "slide_type": "subslide"
    }
   },
   "source": [
    "- We can calculate this accretion efficiency for various objects:\n",
    "\n",
    "| Object | Sun | White Dwarf | Neutron Star | Black Hole |\n",
    "|--------|-----|-------------|--------------|------------|\n",
    "| $\\eta$ | $\\sim 10^{-6}$ | $\\sim 10^{-4}$ | $\\sim 0.2$ | $\\sim 0.5$|\n",
    "\n",
    "- Hence accretion onto neutron stars and black holes is a highly efficient energy source. Such systems appear as extremely luminous X-ray sources, with luminosities in the region of $10^{30}$ W.\n",
    "- These sources often `flicker' on timescales of less than a second. Therefore they must be less than about a light-second in size ($\\sim 10^{8}$ m), otherwise emission coming from various points in the source would smear out the flickering.\n",
    "- Only accretion onto neutron stars and black holes gives the required efficiency in such a small volume. _Compact X-ray accretion sources_ are therefore another convincing piece of    evidence for the existence of neutron stars and black holes."
   ]
  },
  {
   "cell_type": "markdown",
   "metadata": {
    "slideshow": {
     "slide_type": "subslide"
    }
   },
   "source": [
    "## How can we tell the difference between accretion onto a neutron star and onto a black hole?\n",
    "\n",
    "- Accreting material piles up on the surface of a neutron star, leading to periodic, very bright X-ray bursts (in the same way as accreting white dwarfs give nova outbursts).\n",
    "- Some compact X-ray accretion sources do not show burst emission profiles. It is believed that these systems contain black holes: the black hole has no `solid' surface on which       material can pile up - instead the accreting matter slips beneath the event horizon and becomes hidden from view."
   ]
  },
  {
   "cell_type": "markdown",
   "metadata": {
    "slideshow": {
     "slide_type": "slide"
    }
   },
   "source": [
    "## Other black-hole signatures"
   ]
  },
  {
   "cell_type": "markdown",
   "metadata": {
    "slideshow": {
     "slide_type": "subslide"
    }
   },
   "source": [
    "### Very close periapses in stellar orbits\n",
    "\n",
    "Many galactic centres (including the Milky Way) are believed to contain supermassive black holes (massing millions of $M_{\\odot}$).\n",
    "\n",
    "<img src=\"img/pulsarorbits.jpg\" class=\"right_panel\">\n",
    "<div class=\"left_panel\">\n",
    "<list>\n",
    "    <li>High spatial resolution observations of the orbits of stars near the galactic centre show that their closest approach to the central gravitating mass occurs at extremely  small orbital radii.\n",
    "<li>Characterisation of the orbit of these stars allows us to determine the mass and maximum radius of the central gravitating mass.\n",
    "    </list>\n",
    "    </div>"
   ]
  },
  {
   "cell_type": "markdown",
   "metadata": {
    "slideshow": {
     "slide_type": "subslide"
    }
   },
   "source": [
    "- Infra-red stellar orbital observations show that the gravitating mass at the centre of the Milky Way has a mass of $\\sim 4\\times 10^{6}\\,M_{\\odot}$ and a radius of less than 140 AU.\n",
    "- The Schwarzschild Radius of an object of this mass would be 0.08 AU, so a black hole is a good candidate.\n",
    "- We know of no other type of object which could have this huge mass and still fit into a radius as small as 140 AU."
   ]
  },
  {
   "cell_type": "markdown",
   "metadata": {
    "slideshow": {
     "slide_type": "subslide"
    }
   },
   "source": [
    "### Gravitational Lensing\n",
    "\n",
    "General Relativity predicts that light is affected by\n",
    "      gravity in the same way that matter is: light rays will be\n",
    "      deflected by the presence of gravitating matter. In this way,\n",
    "      mass can act as a gravitational lens, focusing light from\n",
    "      distant sources. The lensing effect is most pronounced for\n",
    "      extremely dense objects like black holes.\n",
    "      \n",
    "![micro-lensing](img/microlens1.jpg)"
   ]
  },
  {
   "cell_type": "markdown",
   "metadata": {
    "slideshow": {
     "slide_type": "subslide"
    }
   },
   "source": [
    "Black holes may be detectable by the distortion they cause\n",
    "in space time bending the light from more distant sources. We\n",
    "call this effect gravitational lensing. Some promising\n",
    "black hole candidates have been identified, but as yet there are\n",
    "no unambiguous detections."
   ]
  },
  {
   "cell_type": "markdown",
   "metadata": {
    "slideshow": {
     "slide_type": "subslide"
    }
   },
   "source": [
    "## Gravitational Waves\n",
    "\n",
    "![Chirp](img/chirp.png)"
   ]
  },
  {
   "cell_type": "markdown",
   "metadata": {
    "slideshow": {
     "slide_type": "subslide"
    }
   },
   "source": [
    "- Gravitational waves are tiny perturbations in space-time caused by accelerating mass.  They travel at the speed of light.\n",
    "- They interact so _incredibly weakly_ with matter that they are _very_ hard to detect.\n",
    "- Therefore we rely on some of the most violent and energetic astrophysical events in the universe to provide signals.\n",
    "- We also require the most sensitive measuring devices ever constructed.\n",
    "- On September 14th 2015 the Advanced LIGO interferometers first detected a signal from the merger of 2 black holes.\n",
    "- Dozens more binary black hole gravitational-wave signals have been observed since, with masses\n",
    "    between $\\sim 8 - 50\\,M_\\odot$. Larger BHs make louder signals so these tend to be heavier than ones we know about in the galaxy.\n",
    "- A binary neutron star coalescence was detected in 2017, which revealed that these are    responsible for short gamma-ray bursts and kilonovae which produce very heavy elements like gold."
   ]
  },
  {
   "cell_type": "markdown",
   "metadata": {
    "slideshow": {
     "slide_type": "subslide"
    }
   },
   "source": [
    "As black holes in a tight binary system radiate gravitational waves the orbit shrinks in a run-away process. Eventually when it reaches a few $R_S$ apart, they merge to form a single, larger black hole.\n",
    "\n",
    "![binary black holes](img/binarybh.svg)"
   ]
  },
  {
   "cell_type": "markdown",
   "metadata": {
    "slideshow": {
     "slide_type": "subslide"
    }
   },
   "source": [
    "![Masses in the stellar graveyard](img/Masses_of_Dead_Stars_LIGO_Virgo_default.png)"
   ]
  }
 ],
 "metadata": {
  "celltoolbar": "Slideshow",
  "kernelspec": {
   "display_name": "Python 3",
   "language": "python",
   "name": "python3"
  },
  "language_info": {
   "codemirror_mode": {
    "name": "ipython",
    "version": 3
   },
   "file_extension": ".py",
   "mimetype": "text/x-python",
   "name": "python",
   "nbconvert_exporter": "python",
   "pygments_lexer": "ipython3",
   "version": "3.9.1"
  }
 },
 "nbformat": 4,
 "nbformat_minor": 4
}
