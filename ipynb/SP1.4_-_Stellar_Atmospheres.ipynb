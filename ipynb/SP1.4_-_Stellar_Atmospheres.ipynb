{
 "cells": [
  {
   "cell_type": "markdown",
   "metadata": {
    "slideshow": {
     "slide_type": "slide"
    }
   },
   "source": [
    "# Part 4 - Stellar Atmospheres\n",
    "\n",
    "So far we have thought of at stars as simplified balls of hot gas. In this part we will start to invetigate the composition and structure of stars. As we have seen, there are dark lines in the spectra of stars that can reveal their composition.\n"
   ]
  },
  {
   "cell_type": "markdown",
   "metadata": {
    "slideshow": {
     "slide_type": "subslide"
    }
   },
   "source": [
    "## Vogt-Russell Theorem\n",
    "\n",
    "The structure of a star, in hydrostatic and thermal equilibrium, with all energy derived from nuclear reactions, is uniquely determined by its mass and the distribution of chemical elements throughout its interior."
   ]
  },
  {
   "cell_type": "markdown",
   "metadata": {
    "slideshow": {
     "slide_type": "subslide"
    }
   },
   "source": [
    "__Spectroscopy__ is the method for identifying the elements by their spectral lines.\n",
    "\n",
    "Remember Kirchoff's Laws from part 2:\n",
    "\n",
    "- __1.__ A hot and opaque solid, liquid or highly compressed gas emits a continuous blackbody as-named by Kirchhoff) spectrum with no spectral lines \n",
    "- __2.__ A hot, transparent gas, illuminated by a continuum source, produces a spectrum of bright emission lines\n",
    "- __3.__ If a continuous spectrum passes through a transparent gas at a lower temperature, the cooler gas will absorb at characteristic wavelengths resulting in dark absorption lines"
   ]
  },
  {
   "cell_type": "markdown",
   "metadata": {
    "slideshow": {
     "slide_type": "subslide"
    }
   },
   "source": [
    "Kirchoff's laws tell us that the absorption lines indicate the presence of a cooler layer of diffuse gas, on top of a hot layer of denser gas."
   ]
  },
  {
   "cell_type": "markdown",
   "metadata": {
    "slideshow": {
     "slide_type": "subslide"
    }
   },
   "source": [
    "## The Sun\n",
    "\n",
    "<img class=\"right_panel\" src=\"img/SunAtmosphereSchematic.png\" />\n",
    "\n",
    "When we observe the Sun, we see light from\n",
    "- The Photosphere\n",
    "- The Chromosphere\n",
    "- The Corona\n",
    "\n",
    "in descending order of contribution."
   ]
  },
  {
   "cell_type": "markdown",
   "metadata": {
    "slideshow": {
     "slide_type": "subslide"
    }
   },
   "source": [
    "## The Photosphere\n",
    "\n",
    "The Sun has no solid surface but becomes opaque to visible light at the photosphere.\n",
    "\n",
    "The photosphere is about 500 km thick and temperature, T , varies throughout.\n",
    "- $T_{base} \\approx 6500 \\mathrm{K}$\n",
    "- $T_{top} \\approx 4400 \\mathrm{K}$\n",
    " \n",
    " \n",
    "Most of the light comes from a region where the temperature  $T \\approx 5800$ K, where the density is about one thousandth that of air.\n",
    "\n",
    "So the Sun is not a perfect black-body with a single temperature.\n"
   ]
  },
  {
   "cell_type": "markdown",
   "metadata": {
    "slideshow": {
     "slide_type": "subslide"
    }
   },
   "source": [
    "- What do you notice?\n",
    "\n",
    "<video height=\"600px\" src=\"img/MDI-Sunspot-Crossings-2001-large.m4v\" controls>"
   ]
  },
  {
   "cell_type": "markdown",
   "metadata": {
    "slideshow": {
     "slide_type": "subslide"
    }
   },
   "source": [
    "- The Photosphere is marked by bright, bubbling granules of plasma, and darker, cooler sunspots\n",
    "- sunspots are NOT really cool, just about 1500K cooler than the rest of the photosphere\n",
    "- Sunspots appear to move across the Sun’s disk, showing us that the Sun is actually rotating\n",
    "- The Sun is a ball of gas, not a solid, and different regions rotate at different rates\n",
    "- the Sun’s equatorial regions rotate in about 24 days\n",
    "- the polar regions take more than 30 days"
   ]
  },
  {
   "cell_type": "markdown",
   "metadata": {
    "slideshow": {
     "slide_type": "subslide"
    }
   },
   "source": [
    "- Solar flares - extending hundreds of thousands of miles above the surface - originate in the photosphere\n",
    "- These flares produce bursts of radiation across the electromagnetic spectrum, from X-rays, to radio waves"
   ]
  },
  {
   "cell_type": "markdown",
   "metadata": {
    "slideshow": {
     "slide_type": "slide"
    }
   },
   "source": [
    "# The Chromosphere\n",
    "\n",
    "<img src=\"img/chromosphere.jpg\" style=\"width: contain\">\n",
    "\n",
    "Image credit: http://antwrp.gsfc.nasa.gov/apod/ap040611.html"
   ]
  },
  {
   "cell_type": "markdown",
   "metadata": {
    "slideshow": {
     "slide_type": "subslide"
    }
   },
   "source": [
    "- We get only a little light from the chromosphere – the next layer of gas\n",
    "- The chromosphere is seen as a dim reddish-pink glow from super-heated Hydrogen\n",
    "- The glow is only really seen during an eclipse\n",
    "- At other times, light from the chromosphere is usually too weak to be seen against the brighter photosphere\n",
    "- The chromosphere is about 2000 km thick\n",
    "- It is hottest furthest from the Sun : $T \\approx 20000$ K"
   ]
  },
  {
   "cell_type": "markdown",
   "metadata": {
    "slideshow": {
     "slide_type": "slide"
    }
   },
   "source": [
    "# The Corona\n",
    "\n",
    "![Corona](img/corona.jpg)"
   ]
  },
  {
   "cell_type": "markdown",
   "metadata": {
    "slideshow": {
     "slide_type": "subslide"
    }
   },
   "source": [
    "### The Corona\n",
    "\n",
    "- Very hot : $T\\approx 10^6$ K\n",
    "- Outer atmosphere, extending as far as $\\approx 3 R_\\odot$\n",
    "- Again, only really seen visually from Earth during an eclipse\n",
    "- Together with the chromosphere, it contributes about $10^{-4} L_\\odot$\n",
    "- Very diffuse and eventually leads to the Solar Wind\n",
    "    - the solar wind stretches out to about 100 AU\n",
    "    - its effect is seen on Earth as the Aurora"
   ]
  },
  {
   "cell_type": "markdown",
   "metadata": {
    "slideshow": {
     "slide_type": "subslide"
    }
   },
   "source": [
    "## The Sun in extreme Ultra-violet light\n",
    "\n",
    "![Sun in extreme ultraviolet](img/Sun_1MK.jpg)\n",
    "\n",
    "This image from SOHO highlights temperatures of ~1 MK."
   ]
  },
  {
   "cell_type": "markdown",
   "metadata": {
    "slideshow": {
     "slide_type": "slide"
    }
   },
   "source": [
    "# Our not-so-quiet star\n",
    "\n",
    "<video src=\"img/soho_gallery.m4v\" controls>"
   ]
  },
  {
   "cell_type": "markdown",
   "metadata": {
    "slideshow": {
     "slide_type": "subslide"
    }
   },
   "source": [
    "### Solar flares can produce aurora\n",
    "\n",
    "![Aurora](img/aurora.jpg)\n",
    "The aurora borealis over Alaska"
   ]
  },
  {
   "cell_type": "markdown",
   "metadata": {
    "slideshow": {
     "slide_type": "subslide"
    }
   },
   "source": [
    "### Different wavelength light can reveal different structures in the solar atmosphere\n",
    "\n",
    "![Sun in different wavebands](img/sun_multiband.jpg)"
   ]
  },
  {
   "cell_type": "markdown",
   "metadata": {
    "slideshow": {
     "slide_type": "slide"
    }
   },
   "source": [
    "# Spectroscopy\n",
    "\n",
    "- Each chemical element has its unique spectral line fingerprint\n",
    "- From a measurement of its spectrum, the pattern of lines seen allows identification of the elements in a star’s atmosphere\n",
    "- Strengths of the spectral lines tells us about stellar temperature; line strength depends on\n",
    "    - number of atoms present\n",
    "    - temperature of the gas\n"
   ]
  },
  {
   "cell_type": "markdown",
   "metadata": {
    "slideshow": {
     "slide_type": "subslide"
    }
   },
   "source": [
    "## Doppler shifts\n",
    "\n",
    "- Wavelengths and ‘widths’ of lines are affected by Doppler shifts due to the motion of the stellar atmosphere\n",
    "    - Effects on lines due to bulk motions allow measurement of overall rotation and large-scale expansion or contraction (e.g.: Cepheids)\n",
    "    - Effects on lines due to random thermal motions of atoms in the atmosphere allow measurement of temperature and pressure\n",
    "- But it can be hard to disentangle all of these!"
   ]
  },
  {
   "cell_type": "markdown",
   "metadata": {
    "slideshow": {
     "slide_type": "subslide"
    }
   },
   "source": [
    "## Atomic absorption lines\n",
    "\n",
    "We really need Quantum Mechanics to accurately understand spectral lines\n",
    "- However we can simplify using the Bohr Model\n",
    "- this works well for hydrogen, and sometimes for other elements too\n",
    "- Since most of the Sun is Hydrogen we will stick to the simple picture"
   ]
  },
  {
   "cell_type": "markdown",
   "metadata": {
    "slideshow": {
     "slide_type": "subslide"
    }
   },
   "source": [
    "## The Bohr Model\n",
    "\n",
    "- Electrons, bound in atoms, are only allowed certain energies\n",
    "- These energies correspond to certain ‘orbits’ around the nucleus\n",
    "- These orbits must have angular momenta equal to an integer multiple of a universal constant – Planck’s constant\n",
    "- Only photons with energies corresponding to differences between energy levels can be emitted or absorbed\n"
   ]
  },
  {
   "cell_type": "markdown",
   "metadata": {
    "slideshow": {
     "slide_type": "subslide"
    }
   },
   "source": [
    "## Energy levels\n",
    "<img class=\"right_panel\" src=\"https://upload.wikimedia.org/wikipedia/en/d/df/Bohr_model_Balmer_32.svg\">\n",
    "\n",
    "- Electrons, bound in atoms, are only allowed certain energies\n",
    "- These energies correspond to certain ‘orbits’ around the nucleus\n",
    "- These orbits must have angular momenta equal to an integer multiple of a universal constant – Planck’s constant\n",
    "- Only photons with energies corresponding to differences between energy levels can be emitted or absorbed\n"
   ]
  },
  {
   "cell_type": "markdown",
   "metadata": {
    "slideshow": {
     "slide_type": "subslide"
    }
   },
   "source": [
    "The energy of the nth level of hydrogen\n",
    "$$E\\propto -\\frac{1}{n^2}$$\n",
    "\n",
    "- So for a transition between level $m$ (higher energy state) and level $n$ (a lower energy state) a photon would be emitted of energy corresponding to the energy difference between the states\n",
    "$$\\delta E_{mn} \\propto  \\left(\\frac{1}{n^2} - \\frac{1}{m^2}\\right)$$"
   ]
  },
  {
   "cell_type": "markdown",
   "metadata": {
    "slideshow": {
     "slide_type": "subslide"
    }
   },
   "source": [
    "From quantum theory we can relate the energy to the wavelength: $\\Delta E_{mn} = \\frac{hc}{\\lambda_{mn}}$.\n",
    "\n",
    "So this means we can calculate the wavelength of the emitted photon:\n",
    "$$\\frac{1}{\\lambda_{mn}} = R_\\infty \\left(\\frac{1}{n^2} - \\frac{1}{m^2}\\right)$$\n",
    "\n",
    "All the constants are hidden in $R_\\infty$. This equation is the __Rydberg Equation__."
   ]
  },
  {
   "cell_type": "markdown",
   "metadata": {
    "slideshow": {
     "slide_type": "subslide"
    }
   },
   "source": [
    "$R_\\infty = 1.097\\times 10^{7}\\,m^{-1}$ is the __Rydberg constant__.\n",
    "\n",
    "- Depending on the values of m and n , we can calculate the characteristic wavelengths (of the lines) corresponding to several series of transitions\n",
    "- When doing calculations remember that the result for wavelength must be positive; so make sure that you use n < m to get a positive result"
   ]
  },
  {
   "cell_type": "markdown",
   "metadata": {
    "slideshow": {
     "slide_type": "slide"
    }
   },
   "source": [
    "## Series of lines in Hydrogen\n",
    "\n",
    "In Hydrogen some of the transitions have special names:\n",
    "\n",
    "__Lyman Series__ (Ly): Transitions from excited states $m>1$ to the ground state ($n=1$)\n",
    "- Ly$\\alpha$: m=2 to n=1\n",
    "- Ly$\\beta$: m=3 to n=1\n",
    "- etc\n",
    "\n",
    "__Balmer Series__ (H): Transitions from $m>2$ to $n=2$\n",
    "- H$\\alpha$: m=3 to n=2\n",
    "- H$\\beta$: m=4 to n=2\n",
    "- etc"
   ]
  },
  {
   "cell_type": "markdown",
   "metadata": {
    "slideshow": {
     "slide_type": "subslide"
    }
   },
   "source": [
    "__Emission__\n",
    "\n",
    "- electron drops to a lower level\n",
    "- photon is emitted, of energy corresponding to the energy difference between the transition levels"
   ]
  },
  {
   "cell_type": "markdown",
   "metadata": {
    "slideshow": {
     "slide_type": "fragment"
    }
   },
   "source": [
    "__Absorption__\n",
    "- electron jumps to a higher level\n",
    "- photon of the correct energy – corresponding to the energy level difference – is needed for this to happen"
   ]
  },
  {
   "cell_type": "markdown",
   "metadata": {
    "slideshow": {
     "slide_type": "slide"
    }
   },
   "source": [
    "## Spectral lines in the light from the Sun\n",
    "\n",
    "Strongest visible line from solar hydrogen is H$\\alpha$\n",
    "- We see this in absorption in the chromosphere\n",
    "- We see other atoms in absorption :\n",
    "    - hydrogen, helium, magnesium, sodium, iron, chromium …\n",
    "- There are about 250,000 lines in total\n",
    "- Identify by heating elements in the lab and observing spectra"
   ]
  },
  {
   "cell_type": "markdown",
   "metadata": {
    "slideshow": {
     "slide_type": "subslide"
    }
   },
   "source": [
    "__Will H$\\alpha$ absorption happen?__\n",
    "\n",
    "H$\\alpha$ absorption involves an electron going from from n = 2 to m = 3\n",
    "- i.e. the electron must already be in an excited state!\n",
    "\n",
    "The electron gets from the ground state (n =1) to the n = 2 state by thermal excitation\n",
    "- The chances of this depend on the Boltzmann factor"
   ]
  },
  {
   "cell_type": "markdown",
   "metadata": {
    "slideshow": {
     "slide_type": "subslide"
    }
   },
   "source": [
    "### Boltzmann factor\n",
    "The probability of an electron occupying energy state E is :\n",
    "$$P(E) \\propto \\exp\\left(-\\frac{E}{k_B T}\\right)$$\n",
    "\n",
    "here $k_B = 1.381\\times 10^{-23}\\, \\mathrm{JK}^{-1}$ is Boltzmann’s constant\n",
    "\n",
    "The minus sign in the exponential tells us that states with $E\\gg k_BT$ are very improbable\n"
   ]
  },
  {
   "cell_type": "markdown",
   "metadata": {
    "slideshow": {
     "slide_type": "subslide"
    }
   },
   "source": [
    "## Energy level occupation\n",
    "\n",
    "We know that\n",
    "- 2 electrons can occupy the n = 1 shell\n",
    "- 8 electrons can occupy the n = 2 shell\n",
    "\n",
    "If there are 8 possible states in the n=2 shell there is 8 times the probability of finding an electron there.\n",
    "\n",
    "So we can calculate the ratio of the population of atoms in the two states from :\n",
    "\n",
    "$$\\frac{N_2}{N_1}=\\frac{8\\exp(-E_2/k_BT)}{2\\exp(-E_1/k_BT)}= \\frac{8}{2}\\exp -\\frac{\\Delta E_{21}}{k_BT}$$\n",
    "\n",
    "Here  $\\Delta E_{21}$  is the energy difference between the n = 1 and n = 2 states\n"
   ]
  },
  {
   "cell_type": "markdown",
   "metadata": {
    "slideshow": {
     "slide_type": "subslide"
    }
   },
   "source": [
    "## $\\Delta E$ for Hydrogen lines\n",
    "\n",
    "For Ly$\\alpha$ we have\n",
    "\n",
    "$$\\Delta E_{21} = h\\nu_{21} = hc/\\lambda_{21}$$\n",
    "\n",
    "$$\\Delta E_{21} = hcR_\\infty\\left(\\frac{1}{1^2}-\\frac{1}{2^2}\\right)= 1.64\\times 10^{-18}\\,\\mathrm{J}$$"
   ]
  },
  {
   "cell_type": "markdown",
   "metadata": {
    "slideshow": {
     "slide_type": "subslide"
    }
   },
   "source": [
    "## What fraction of atoms are in the $n=2$ state?\n",
    "\n",
    "For $T=6000$K, we find:\n",
    "$$\\frac{N_2}{N_1} \\approx 10^{-8}$$\n",
    "\n",
    "- i.e. 99,999,999  out of every 100 million hydrogen atoms is in the ground state\n",
    "\n",
    "So this transition is very unlikely at this temperature\n",
    "- We still see this line though because there is just so much hydrogen in the Sun\n"
   ]
  },
  {
   "cell_type": "markdown",
   "metadata": {},
   "source": [
    "## Rydberg Equation for other elements\n",
    "\n",
    "- The Rydberg equation is a good approximation for Hydrogen.\n",
    "- Fails to take account of eletron orbital screening in heavier elements\n",
    "- But for single-electrons around heavier nuclei (i.e nearly fully ionised atoms) we can write\n",
    "\n",
    "$$\\frac{1}{\\lambda_{nm}} = Z^2 R_\\infty\\left(\\frac{1}{m^2} - \\frac{1}{n^2}\\right)$$\n",
    "\n",
    "Where $Z$ is the atomic number of the element"
   ]
  },
  {
   "cell_type": "markdown",
   "metadata": {
    "slideshow": {
     "slide_type": "slide"
    }
   },
   "source": [
    "# Ionisation\n",
    "\n",
    "- Under extreme conditions atoms can be ionised\n",
    "- Atoms can lose electrons if they absorb enough energy from photons\n",
    "- For hydrogen, this requires a minimum ionisation energy, $\\chi$\n",
    "- We can find $\\chi$ by using the Rydberg Equation with $m=\\infty$"
   ]
  },
  {
   "cell_type": "markdown",
   "metadata": {
    "slideshow": {
     "slide_type": "subslide"
    }
   },
   "source": [
    "$$\\chi = hc R_\\infty\\left(\\frac{1}{n^2} - \\frac{1}{\\infty^2}\\right)$$\n",
    "\n",
    "$$\\chi = \\frac{13.6}{n^2}\\mathrm{eV}$$\n",
    "\n",
    "This is the energy required to remove an electron from an energy level n to infinity. We normalise to 13.6 eV since this is the ionisation energy from the lowest energy level.\n",
    "\n",
    "When the electron has been knocked out of the atom, an ion is left.\n",
    "\n",
    "eV is an electron-volt, a small unit of energy (not voltage!)\n",
    "- $1\\, \\mathrm{eV} = 1.602\\times 10^{-19}\\, \\mathrm{J}$"
   ]
  },
  {
   "cell_type": "markdown",
   "metadata": {
    "slideshow": {
     "slide_type": "subslide"
    }
   },
   "source": [
    "## How do ions form?\n",
    "\n",
    "Two processes:\n",
    "\n",
    "- Absoption of a photon with at least $\\chi$ Joules of energy\n",
    "- Collision with another particle like an electron (scattering)"
   ]
  },
  {
   "cell_type": "markdown",
   "metadata": {
    "slideshow": {
     "slide_type": "subslide"
    }
   },
   "source": [
    "## Ion formation by photon absorption\n",
    "\n",
    "In a black-body with temperature T , there is a distribution of energies\n",
    "\n",
    "- The average photon has energy $E=k_B T$, but some have higher energy \n",
    "- Only photons with energies greater than the ionisation energy, $\\chi$ , can cause ionisation to happen\n",
    "\n",
    "There will always be _some_ sufficiently energetic photons …."
   ]
  },
  {
   "cell_type": "markdown",
   "metadata": {
    "slideshow": {
     "slide_type": "subslide"
    }
   },
   "source": [
    "![ionisation energy](img/ionisation.png)"
   ]
  },
  {
   "cell_type": "markdown",
   "metadata": {
    "slideshow": {
     "slide_type": "subslide"
    }
   },
   "source": [
    "## Ion formation by scattering\n",
    "\n",
    "Collisions can occur with other particles, e.g.: electrons\n",
    "There will be a similar distribution of energies.\n",
    "\n",
    "The average this time will be\n",
    "$$E=\\frac{3}{2}k_B T$$\n",
    "\n",
    "So the fraction with $E>\\chi$  will be higher"
   ]
  },
  {
   "cell_type": "markdown",
   "metadata": {
    "slideshow": {
     "slide_type": "subslide"
    }
   },
   "source": [
    "What proportion of atoms do we expect to be ionised?\n",
    "Need to find the equilibrium in the following reaction :\n",
    " photon + atom $\\leftrightharpoons$ electron + ion\n",
    " \n",
    "The answer to this is the Saha Equation:\n",
    "\n",
    "$$\\frac{\\mathrm{number\\ of\\ atoms}}{\\mathrm{number\\ of\\ ions}} \\approx \\frac{10^{21} T^{3/2} \\exp(-\\chi / k_B T)}{\\mathrm{number\\ of\\ electrons}}$$\n",
    "\n",
    "The rule of thumb is that 50% ionisation occurs when $k_B T \\approx \\chi /18$.\n"
   ]
  },
  {
   "cell_type": "markdown",
   "metadata": {
    "slideshow": {
     "slide_type": "slide"
    }
   },
   "source": [
    "## The Solar Photosphere\n",
    "\n",
    "- Temperature $T\\approx 6000$K\n",
    "- $18 k_BT \\approx 9.3\\,\\mathrm{eV}$\n",
    "\n",
    "\n",
    "| Element | Ionisation Energy (eV) | Status in photosphere |\n",
    "|---------|------------------------|-----------------------|\n",
    "| H | 13.6 | a few ions |\n",
    "| He | 24.6 | effectively no ions |\n",
    "| Na | 5.14 | almost fully ionised |\n",
    "| Fe | 7.9 | almost fully ionised |"
   ]
  },
  {
   "cell_type": "markdown",
   "metadata": {
    "slideshow": {
     "slide_type": "slide"
    }
   },
   "source": [
    "## Line strength\n",
    "\n",
    "Line strength depends on two things: \n",
    "- Element abundance\n",
    "- Temperature\n",
    "\n",
    "Temperature is critical because it determines\n",
    "- the number of atoms in the correct state\n",
    "- the number of photons with enough energy to cause transition\n",
    "\n",
    "Line strength is, therefore, a good indicator of temperature\n"
   ]
  },
  {
   "cell_type": "markdown",
   "metadata": {
    "slideshow": {
     "slide_type": "subslide"
    }
   },
   "source": [
    "## Effects of temperature\n",
    "\n",
    "- If a gas gets too hot, all the atoms may already be ionised\n",
    "    - there may not be any low-level electrons able to absorb energy\n",
    "    - There may not be any high-level electrons able to emit energy\n",
    "- If a gas is too cool, electrons may be in too low an energy state for a particular line\n",
    "    - Remember that Balmer absorption needs n = 2\n"
   ]
  },
  {
   "cell_type": "markdown",
   "metadata": {
    "slideshow": {
     "slide_type": "subslide"
    }
   },
   "source": [
    "Line strengths of different elements vary with temperature in different ways.\n",
    "This is crucial to the Harvard Classification scheme we looked at before\n",
    "\n",
    "- In what follows we will consider only visible spectra"
   ]
  },
  {
   "cell_type": "markdown",
   "metadata": {
    "slideshow": {
     "slide_type": "subslide"
    }
   },
   "source": [
    "## Effects of temperature on hydrogen lines\n",
    "\n",
    "Balmer series is strongest when $T\\approx 10^4 K$\n",
    "- If it’s cooler, there are not enough photons to excite electrons\n",
    "- If it’s hotter, the atmosphere is fully ionised\n"
   ]
  },
  {
   "cell_type": "markdown",
   "metadata": {
    "slideshow": {
     "slide_type": "subslide"
    }
   },
   "source": [
    "![Balmer lines](img/BalmerLines.png)"
   ]
  },
  {
   "cell_type": "markdown",
   "metadata": {
    "slideshow": {
     "slide_type": "subslide"
    }
   },
   "source": [
    "## Effects of temperature on helium lines\n",
    "\n",
    "For visible lines, require $T > 10^4$ K\n",
    "\n",
    "Best temperature is $T\\approx 250000$ K\n",
    "\n",
    "- Little is seen from the Sun in absorption although they are observed faintly in the upper chromosphere during eclipses\n",
    "- Helium ions can also be excited to a state that gives visual absorption lines if the temperature is ~350000 K, as in the corona\n"
   ]
  },
  {
   "cell_type": "markdown",
   "metadata": {
    "slideshow": {
     "slide_type": "slide"
    }
   },
   "source": [
    "## Metal lines\n",
    "\n",
    "- In astronomy, ‘Metal’ means all elements after helium in the periodic table!\n",
    "- These are very rare ( ~ 0.1% of the stellar atmosphere)\n",
    "- Metal lines only dominate at low temperatures where hydrogen and helium are ‘frozen out’\n",
    "- Strong lines from singly ionised calcium and iron are observed, as are those from singly and doubly ionised iron if it’s hot enough\n"
   ]
  },
  {
   "cell_type": "markdown",
   "metadata": {
    "slideshow": {
     "slide_type": "fragment"
    }
   },
   "source": [
    "The relative abundances of metals in all stars is fairly similar\n",
    "\n",
    "However the abundance of metals relative to hydrogen is very different in some stars!"
   ]
  },
  {
   "cell_type": "markdown",
   "metadata": {
    "slideshow": {
     "slide_type": "subslide"
    }
   },
   "source": [
    "## Population I stars\n",
    "\n",
    "The ratio of metals to hydrogen and helium is very much like that found in the Sun.\n",
    "\n",
    "- Young stars, generally made from material ejected from older stars\n",
    "- They’ve formed late in the evolution of the Galaxy and, for that reason are found predominantly in the Galactic disk"
   ]
  },
  {
   "cell_type": "markdown",
   "metadata": {
    "slideshow": {
     "slide_type": "subslide"
    }
   },
   "source": [
    "## Population II stars\n",
    "\n",
    "The ratio of metals to hydrogen and helium is 100 times less than that found in the Sun\n",
    "\n",
    "- These are ‘metal poor’ stars\n",
    "- They are old stars, formed before the Galaxy was a disk and, therefore, are found predominantly in the Galactic halo"
   ]
  },
  {
   "cell_type": "markdown",
   "metadata": {
    "slideshow": {
     "slide_type": "subslide"
    }
   },
   "source": [
    "## Chemical Composition of the Universe\n",
    "\n",
    "| Element | % of total atoms |\n",
    "|---------|------------------|\n",
    "| H       | ~85% |\n",
    "| He | ~15% |\n",
    "| C, N, O, Ne | ~0.1% Each |\n",
    "| Si, Mg, Fe, Al | ~0.01% Each |\n",
    "\n",
    "_What is the origin of the elements?_"
   ]
  },
  {
   "cell_type": "markdown",
   "metadata": {
    "slideshow": {
     "slide_type": "subslide"
    }
   },
   "source": [
    "## Molecular Bands\n",
    "\n",
    "Molecules can form in the outer atmospheres of cool stars\n",
    "The typical binding energies of molecules are 4 - 6 eV\n",
    "\n",
    "- This means that the lines will ‘fade out’ if T > ~5000 K\n",
    "\n",
    "- We observe TiO, ZrO, CN and  sometimes even H$_2$O\n"
   ]
  }
 ],
 "metadata": {
  "celltoolbar": "Slideshow",
  "kernelspec": {
   "display_name": "Python 3",
   "language": "python",
   "name": "python3"
  },
  "language_info": {
   "codemirror_mode": {
    "name": "ipython",
    "version": 3
   },
   "file_extension": ".py",
   "mimetype": "text/x-python",
   "name": "python",
   "nbconvert_exporter": "python",
   "pygments_lexer": "ipython3",
   "version": "3.7.5"
  }
 },
 "nbformat": 4,
 "nbformat_minor": 4
}
