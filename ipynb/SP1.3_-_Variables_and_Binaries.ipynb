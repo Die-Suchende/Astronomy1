{
 "cells": [
  {
   "cell_type": "markdown",
   "metadata": {
    "slideshow": {
     "slide_type": "slide"
    }
   },
   "source": [
    "# Stellar Physics \n",
    "\n",
    "## Part 3 - Variable Stars and Binary Stars\n"
   ]
  },
  {
   "cell_type": "markdown",
   "metadata": {
    "slideshow": {
     "slide_type": "notes"
    }
   },
   "source": [
    "We saw at the beginning that some stars appear to change their brightness over time, either periodically or in sudden events. In this section we will look at the different types of variability and how we can explain them with our understanding of stellar physics. We will see that variable stars can be valuable sources of information that is difficult to get any other way."
   ]
  },
  {
   "cell_type": "markdown",
   "metadata": {
    "slideshow": {
     "slide_type": "slide"
    }
   },
   "source": [
    "## Variable Stars Introduction\n",
    "\n",
    "- By ‘variable’ we mean that the star’s flux changes with time\n",
    "- We observe this by measuring changes in apparent magnitude\n",
    "- It can be a real variation because the star itself changes or an apparent variation e.g. something moves in front of the star and blocks its light fully, or partially, from us\n",
    "- The variation can be _irregular_ or _regular_"
   ]
  },
  {
   "cell_type": "markdown",
   "metadata": {
    "slideshow": {
     "slide_type": "slide"
    }
   },
   "source": [
    "# Irregular variable stars"
   ]
  },
  {
   "cell_type": "markdown",
   "metadata": {
    "slideshow": {
     "slide_type": "subslide"
    }
   },
   "source": [
    "\n",
    "## Irregular variable stars: Novae\n",
    "\n",
    "- Novae are sometimes called cataclysmic variables\n",
    "- They flare in brightness irregularly, sometimes only once\n",
    "- Their luminosity may increase by a factor of 1000 over a period of ~ a week and then decay slowly\n",
    "- All novae exist in binary systems in which material is transferred from one star to the other causing a bright outburst"
   ]
  },
  {
   "cell_type": "markdown",
   "metadata": {
    "slideshow": {
     "slide_type": "subslide"
    }
   },
   "source": [
    "![mass transfer](img/nova.jpg)"
   ]
  },
  {
   "cell_type": "markdown",
   "metadata": {
    "slideshow": {
     "slide_type": "subslide"
    }
   },
   "source": [
    "## Irregular Variable Stars: T Tauri Stars\n",
    "\n",
    "This is a class of irregular variable stars named after their prototype : T Tauri in the constellation of Taurus\n",
    "- Their luminosity increases by a factor of three in a few days\n",
    "- T Tauri stars are very young stars – _protostars_ that are powered by gravitational energy as they contract and move towards the Main Sequence\n",
    "- We will see where they fit into stellar evolution later"
   ]
  },
  {
   "cell_type": "markdown",
   "metadata": {
    "slideshow": {
     "slide_type": "slide"
    }
   },
   "source": [
    "## Irregular Variable Stars: Type II Supernovae\n",
    "\n",
    "- The end state of a very massive star\n",
    "- After nuclear fuel is exhausted, the core collapses and the outer layers are blown off\n",
    "- A small dense neutron star remains, surrounded by expanding spheres of circumstellar matter\n",
    "\n",
    "We will study these in detail when we revisit the end stages of stellar evolution"
   ]
  },
  {
   "cell_type": "markdown",
   "metadata": {
    "slideshow": {
     "slide_type": "subslide"
    }
   },
   "source": [
    "### Supernova 1987a\n",
    "\n",
    "<img src=\"img/SN1987a.png\" style=\"max-width: 400px; float: center; padding: 0.1cm\" />\n",
    "\n",
    "- SN1987a is the closest supernova of modern times\n",
    "- Exploded on February 23, 1987 in the Large Magellanic Cloud\n",
    "- Because of its closeness – only 168,000 light years – SN 1987A is the best-studied supernova of all time"
   ]
  },
  {
   "cell_type": "markdown",
   "metadata": {
    "slideshow": {
     "slide_type": "slide"
    }
   },
   "source": [
    "## Irregular Variable Stars : Type Ia Supernovae\n",
    "\n",
    "In 2014 an example of such a Type Ia supernova (SN2014J) was seen in M82 – 11.4 million light years from us\n",
    "- This was the brightest SN seen since SN1987A\n",
    "- We would only expect one such Type 1a SN in M82 every few decades\n",
    "\n",
    "![SN2014j](img/SN2014j.jpg)"
   ]
  },
  {
   "cell_type": "markdown",
   "metadata": {
    "slideshow": {
     "slide_type": "subslide"
    }
   },
   "source": [
    "## Supernovae - types?\n",
    "\n",
    "Supernovae are classified according to observational features\n",
    "- We will learn how to classify them in part 2.1\n",
    "- Type Ia supernovae are important because they all have nearly equal brightness\n",
    "- They are \"standard candles\" which can be used to measure distance\n",
    "- This is used for cosmology!"
   ]
  },
  {
   "cell_type": "markdown",
   "metadata": {
    "slideshow": {
     "slide_type": "slide"
    }
   },
   "source": [
    "# Regular Variable Stars\n",
    "\n",
    "Regular variables exhibit flux variations that follow a regular repeating pattern\n",
    "- Examples are: RR Lyrae, Miras, Cepheids\n",
    "\n",
    "We will look more closely at Cepheids\n",
    "Named after the star d Cephei which was first observed in 1786.\n"
   ]
  },
  {
   "cell_type": "markdown",
   "metadata": {
    "slideshow": {
     "slide_type": "slide"
    }
   },
   "source": [
    "# Cepheid Variable Stars\n",
    "\n",
    "Cepheids are very luminous giant or supergiant stars.\n",
    "- Luminosity varies by factors of up to ten\n",
    "- Depending on the star, this variation repeats over periods between 1 and 100 days.\n",
    "- Example: Polaris (the Pole Star) has a period of about 4 days and changes its luminosity by about 5% over that period\n"
   ]
  },
  {
   "cell_type": "markdown",
   "metadata": {
    "slideshow": {
     "slide_type": "subslide"
    }
   },
   "source": [
    "## V-band apparent magnitude of Polaris\n",
    "\n",
    "![Polaris Light Curve](img/polaris_light_curve.jpg)\n",
    "\n",
    "Image credit: Turner _et al_, Period Changes of Polaris, Publications of the Astronomical Society of the Pacific,  Vol. 117 No. 828 (2005)"
   ]
  },
  {
   "cell_type": "markdown",
   "metadata": {
    "slideshow": {
     "slide_type": "subslide"
    }
   },
   "source": [
    "<img src=\"img/CepheidPulsations.png\" style=\"float: right; padding: 0.5cm; max-height: 400px\">\n",
    "Cepheid variables pulsate with a very regular period.\n",
    "Radial pulsation results in a regular pulsation of\n",
    "\n",
    "- velocity of the star's surface\n",
    "- Effective Temperature\n",
    "- Luminosity\n"
   ]
  },
  {
   "cell_type": "markdown",
   "metadata": {
    "slideshow": {
     "slide_type": "subslide"
    }
   },
   "source": [
    "<img src=\"img/InstabilityStrip.png\" style=\"float: left; padding: 0.5cm; max-height: 500px\">\n",
    "\n",
    "- Cepheid variables sit in a region of the HR diagram called the _instability strip_\n",
    "- Lies at roughly right-angles to the main sequence, toward the direction of the Giant branch"
   ]
  },
  {
   "cell_type": "markdown",
   "metadata": {
    "slideshow": {
     "slide_type": "subslide"
    }
   },
   "source": [
    "## Cepheid Period-Luminosity relation\n",
    "<img src=\"img/PeriodLuminosity.png\" style=\"float: right; padding: 0.5cm; max-height: 300px\">\n",
    "\n",
    "- For cepheids the period of the pulsation depends only on the average luminosity of the star.\n",
    "- The longer the pulsation period $P$, the more luminous the star\n",
    "- There are two types, with period-magnitude relations\n",
    " - $M=-(1.8 + 2.4\\log_{10} P)$ (Type I - massive, young cepheids)\n",
    " - $M=-(0.4 + 2.4\\log_{10} P)$ (Type II - older, smaller cepheids)\n",
    "- Where $P$ is the period in days, and $M$ is the absolute magnitude of the star."
   ]
  },
  {
   "cell_type": "markdown",
   "metadata": {
    "slideshow": {
     "slide_type": "subslide"
    }
   },
   "source": [
    "## Cepheid Variable Stars as distance indicators\n",
    "\n",
    "If you observe a Cepheid and measure its period of oscillation then you can find the intrinsic luminosity from the period-luminosity relationship\n",
    "- You can measure the flux $F$ from the Cepheid\n",
    "- You know how flux is related to luminosity $L$: $$F=\\frac{L}{4\\pi D^2}$$\n",
    "\n",
    " \n",
    "Therefore, you can calculate the distance, $D$ , to the Cepheid\n"
   ]
  },
  {
   "cell_type": "markdown",
   "metadata": {
    "slideshow": {
     "slide_type": "slide"
    }
   },
   "source": [
    "# Binary stars\n",
    "\n",
    "Stars are often found in pairs, at least half the \"stars\" we see are actually binary systems with two stars orbiting around each other. Since we know the laws of orbital motion this gives us a great new avenue to explore what we can learn about these stars from the observations. They can give us some direct measurements of mass that are hard to come by without the mass-luminosity relationship."
   ]
  },
  {
   "cell_type": "markdown",
   "metadata": {
    "slideshow": {
     "slide_type": "subslide"
    }
   },
   "source": [
    "4 main classes of binaries\n",
    "\n",
    "- Visual binaries – where with telescopes it is possible to resolve the two components\n",
    "- Astrometric binaries – where we cannot resolve the individual stars but where we see a periodic wobble of the observed overall position\n",
    "- Spectroscopic – where the components are not resolvable but where Doppler shifts in their spectral lines reveal that there are two stars orbiting their centre of mass\n",
    "- Eclipsing binaries – where we cannot resolve the individual stars but where we see a periodic brightening and dimming\n"
   ]
  },
  {
   "cell_type": "markdown",
   "metadata": {
    "slideshow": {
     "slide_type": "slide"
    }
   },
   "source": [
    "## Visual Binaries\n",
    "\n",
    "<img src=\"img/VisualBinary.png\" style=\"float: right; max-height: 400px; padding: 0.5cm\">\n",
    "\n",
    "Visual binaries tend to be relatively near to us\n",
    "Otherwise we could not resolve the components\n",
    "- ~1000 visual binaries have been identified\n",
    "- long-term (many year) observations may be needed to establish the orbit\n",
    "- A good example is 70 Ophiuchi (right): you need to be patient!"
   ]
  },
  {
   "cell_type": "markdown",
   "metadata": {
    "slideshow": {
     "slide_type": "slide"
    }
   },
   "source": [
    "## Astrometric binaries\n",
    "\n",
    "If one of the stars is much brighter than the other, it might be possible to only see one of them.\n",
    "The presence of a binary companion can be deduced from the apparent wobble of the star as it moves in its elliptical orbit. This situation is described as an __astrometric binary__."
   ]
  },
  {
   "cell_type": "markdown",
   "metadata": {
    "slideshow": {
     "slide_type": "slide"
    }
   },
   "source": [
    "## Binary systems - orbital analysis\n",
    "\n",
    "We know how to analyse orbits of planets in our solar system or satellites round the Earth\n",
    "For these cases one mass is huge compared to the other, so we approximate and deal with the orbit as if the larger mass is stationary.\n",
    "\n",
    "Treatment of the dynamics of binary systems is only slightly harder because the masses of the components can be more comparable\n",
    "In such a binary system, the stars orbit about their centre of mass – a point in between them"
   ]
  },
  {
   "cell_type": "markdown",
   "metadata": {
    "slideshow": {
     "slide_type": "subslide"
    }
   },
   "source": [
    "Newton and Kepler's laws still apply:\n",
    "- The centre of mass does not move (Newton 1)\n",
    "- Orbital motion is in a plane (conservation of angular momentum)\n",
    "- Both bodies feel the same attractive force, $F=\\frac{GM_1M_2}{r^2}$\n",
    "- Orbits are ellipses, with the centre of mass at one focus (Kepler 1)"
   ]
  },
  {
   "cell_type": "markdown",
   "metadata": {
    "slideshow": {
     "slide_type": "subslide"
    }
   },
   "source": [
    "<img src=\"img/binary_orbit.png\" style=\"float:left; padding: 0.5cm;\">\n",
    "\n",
    "A line between the two stars always passes through the centre of mass.\n",
    "If the masses are equal, the centre of mass is half way between them.\n",
    "\n",
    "If the two masses are different, the centre of mass is closer to the heavier object.\n",
    "\n",
    "$$ \\frac{m_1}{m_2} = \\frac{r_2}{r_1} = \\frac{a_2}{a_1}$$\n",
    "\n",
    "where $a$ is the semi-major axis of the ellipse."
   ]
  },
  {
   "cell_type": "markdown",
   "metadata": {
    "slideshow": {
     "slide_type": "subslide"
    }
   },
   "source": [
    "Kepler's laws of orbital motion apply to the orbits of both stars about the centre of mass:\n",
    "\n",
    "$$P^2 = \\frac{4\\pi^2}{G(m_1+m_2)}(a_1+a_2)^3$$\n",
    "\n",
    "(Note that the total mass $m_1+m_2$ appears, where if $m_1\\gg m_2$ one can be neglected in the planetary motion form of the law - c.f. Dynamical Astronomy)\n",
    "\n",
    "- If we measure the period $P$, and the angular separation of the stars, and the distance to the binary is known, then we can find the semi-major axis\n",
    "- This allows us to find the total mass of the system $m_1+m_2$\n",
    "- This is simple for a face-on binary but in general one has to also measure the inclination"
   ]
  },
  {
   "cell_type": "markdown",
   "metadata": {
    "slideshow": {
     "slide_type": "subslide"
    }
   },
   "source": [
    "- Centre of mass dynamics tells us $m_1a_1 = m_2a_2$.\n",
    "- For visual binaries, we can measure both $a_1$ and $a_2$, so we can find $m_1/m_2$\n",
    "- Since we also know the total mass, this means we can deduce the individual masses $m_1$ and $m_2$\n",
    "\n",
    "$$m_1 = \\frac{(m_1+m_2)r_2}{r_1+r_2}\\quad m_2=\\frac{(m_1+m_2)r_1}{r_1+r_2}$$\n",
    "\n",
    "- Determination of mass is a key result from binary star observations"
   ]
  },
  {
   "cell_type": "markdown",
   "metadata": {
    "slideshow": {
     "slide_type": "slide"
    }
   },
   "source": [
    "## Spectroscopic binaries\n",
    "\n",
    "If the stars are too close together to resolve separately, we can still deduce whether the system is a binary by measuring spectral lines. Light from each star is doppler shifted as they move toward and away from us.\n",
    "\n",
    "- When a star is moving away from us, its light is shifted toward the red end of the spectrum (redshifted)\n",
    "- When a star is moving toward us, its light is shifted toward the blue end of the spectrum (blueshifted)\n"
   ]
  },
  {
   "cell_type": "markdown",
   "metadata": {
    "slideshow": {
     "slide_type": "subslide"
    }
   },
   "source": [
    "![Spectroscopic binary](img/SpectroscopicBinary.png)"
   ]
  },
  {
   "cell_type": "markdown",
   "metadata": {
    "slideshow": {
     "slide_type": "subslide"
    }
   },
   "source": [
    "The speed toward and away from us is reduced by the inclination of the orbital plane.\n",
    "$$ v= v_{true} \\sin\\iota$$\n",
    "where $\\iota$ is the __inclination angle__ between the orbital angular momentum vector and our line of sight."
   ]
  },
  {
   "cell_type": "markdown",
   "metadata": {
    "slideshow": {
     "slide_type": "subslide"
    }
   },
   "source": [
    "For a spectral line with wavelength $\\lambda_0$ in the reference frame of the star, the doppler shift causes a shift of size $\\delta\\lambda$.\n",
    "\n",
    "$$\\frac{\\delta\\lambda}{\\lambda_0}=\\frac{v}{c}$$\n",
    "where $v$ is the speed of the source toward or away from us along the line of sight."
   ]
  },
  {
   "cell_type": "markdown",
   "metadata": {
    "slideshow": {
     "slide_type": "subslide"
    }
   },
   "source": [
    "Our knowledge of dynamics tells us that\n",
    "\n",
    "$$\\frac{v_1}{v_2}=\\frac{a_1}{a_2}=\\frac{m_2}{m_1}$$\n",
    "\n",
    "- The $\\sin\\iota$ term from inclination cancels out!"
   ]
  },
  {
   "cell_type": "markdown",
   "metadata": {
    "slideshow": {
     "slide_type": "subslide"
    }
   },
   "source": [
    "- In order to find the individual masses we need a way to measure $m_1+m_2$ as before.\n",
    "- Remember that $v_1=r_1\\omega$ and $v_2 = r_2\\omega$.\n",
    "- The angular frequency $\\omega = 2\\pi/P$\n",
    "- So we can write\n",
    "    $$v_1+v_2 = \\frac{2\\pi a}{P}$$\n",
    "- And so\n",
    "    $$m_1+m_2 = \\frac{P}{2\\pi G}(v_1+v_2)^3$$"
   ]
  },
  {
   "cell_type": "markdown",
   "metadata": {
    "slideshow": {
     "slide_type": "fragment"
    }
   },
   "source": [
    "Unfortunately, the $\\sin\\iota$ term doesn't cancel out here. If we don't precisely know the inclination then we have an uncertainty on the total mass\n",
    "- So we are limited in our ability to deduce the individual masses"
   ]
  },
  {
   "cell_type": "markdown",
   "metadata": {
    "slideshow": {
     "slide_type": "slide"
    }
   },
   "source": [
    "## Eclipsing binaries\n",
    "\n",
    "- Eclipsing binaries are a type of regular variable star\n",
    "- The presence of a binary can be deduced by measureing the light curve (magnitude over time)"
   ]
  },
  {
   "cell_type": "markdown",
   "metadata": {
    "slideshow": {
     "slide_type": "subslide"
    }
   },
   "source": [
    "<video width=\"80%\" autoplay controls src=\"img/eclipsing_binary.m4v\" />\n"
   ]
  },
  {
   "cell_type": "markdown",
   "metadata": {
    "slideshow": {
     "slide_type": "subslide"
    }
   },
   "source": [
    "- The stars will eclipse each other only if we are viewing the system near edge-on ($\\iota \\approx 90^\\circ$)\n",
    "- So we can safely assume that we know the inclination\n",
    "- If we can also measure the doppler shift spectroscopically, then we can measure the individual masses using the spectroscopic method"
   ]
  },
  {
   "cell_type": "markdown",
   "metadata": {
    "slideshow": {
     "slide_type": "subslide"
    }
   },
   "source": [
    "## Which eclipse is which?\n",
    "\n",
    "![eclipses](img/eclipse_hollow.svg)"
   ]
  },
  {
   "cell_type": "markdown",
   "metadata": {
    "slideshow": {
     "slide_type": "notes"
    }
   },
   "source": [
    "Which eclipse will produce the greater reduction in the brightness (primary minimum)?\n",
    "\n",
    "We can write the flux from each star as $$F_1=\\frac{4\\pi r_1^2 \\sigma T_1^4}{4\\pi d^2}$$ $$F_2=\\frac{4\\pi r_2^2 \\sigma T_2^4}{4\\pi d^2}$$. Assume for now that $r_1>r_2$, i.e. star 1 is bigger.\n",
    "\n",
    "- Consider the flux received:\n",
    " - When both stars are visible, $F_0 = F_1 + F_2$\n",
    " - When 2 moves behind 1, the flux is $F = F_1$\n",
    " - When 1 moves behind 2, the flux is\n",
    " \n",
    "\\begin{align}\n",
    "F' &= F_1(1-\\frac{r_2^2}{r_1^2}) + F_2 \\\\\n",
    "  & = \\frac{4\\pi r_1^2 \\sigma T_1^4}{4\\pi d^2}(1-\\frac{r_2^2}{r_1^2}) + \\frac{4\\pi r_2^2 \\sigma T_2^4}{4\\pi d^2} \\\\\n",
    "  & = \\frac{\\sigma}{d^2}\\left((r_1^2-r_2^2)T_1^4 + r_2^2T_2^4\\right) \\\\\n",
    "  &= \\frac{\\sigma}{d^2}\\left(r_1^2T_1^4 + r_2^2(T_2^4 - T_1^4)\\right)\n",
    "\\end{align}\n",
    "\n",
    "- If $T_2>T_1$, then $F' > F_1$: secondary minimum\n",
    "- If $T_2<T_1$, then $F' < F_1$: primary minimum"
   ]
  },
  {
   "cell_type": "markdown",
   "metadata": {
    "slideshow": {
     "slide_type": "subslide"
    }
   },
   "source": [
    "## Primary and secondary minima\n",
    "\n",
    "![eclipse](img/eclipse.svg)\n",
    "\n",
    "\n",
    "- At the primary minimum, the hotter star moves behind the cooler\n",
    "- At the secondary minimum the cooler star moves behind the hotter\n",
    "\n",
    "The smaller star obscures a chunk of the larger, but it adds its own light. If it is higher temperature then it will be replaced by a brighter patch."
   ]
  },
  {
   "cell_type": "markdown",
   "metadata": {
    "slideshow": {
     "slide_type": "subslide"
    }
   },
   "source": [
    "It can be shown that if\n",
    "- F_0 is the flux when no eclipse is happening\n",
    "- F_p is the primary eclipse flux\n",
    "- F_s is the secondary eclipse flux\n",
    "\n",
    "$$\\frac{F_0 - F_p}{F_0 - F_s} = \\left(\\frac{T_2}{T_1}\\right)^4$$\n",
    "\n",
    "where $T_1$ is the temperature of the larger star, and $T_2$ the smaller.\n",
    "We can find the ratio of the temperatures."
   ]
  },
  {
   "cell_type": "markdown",
   "metadata": {
    "slideshow": {
     "slide_type": "subslide"
    }
   },
   "source": [
    "So in eclipsing, spectroscopic binaries we can get\n",
    "- The orbital period (from either light curve or spectroscopy)\n",
    "- Speed of the stars in orbit (from spectroscopy), which can be used to find the size of the orbit\n",
    "- There is enough information to calculate the mass of the two stars\n",
    "\n",
    "The light curve gives us even more information, allowing us to compute the size of each star!\n",
    "This can be done by measuring the time of the transit, and combining with the speed measured via doppler line shift."
   ]
  }
 ],
 "metadata": {
  "celltoolbar": "Slideshow",
  "kernelspec": {
   "display_name": "Python 3",
   "language": "python",
   "name": "python3"
  },
  "language_info": {
   "codemirror_mode": {
    "name": "ipython",
    "version": 3
   },
   "file_extension": ".py",
   "mimetype": "text/x-python",
   "name": "python",
   "nbconvert_exporter": "python",
   "pygments_lexer": "ipython3",
   "version": "3.7.5"
  }
 },
 "nbformat": 4,
 "nbformat_minor": 2
}
