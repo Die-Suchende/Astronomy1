{
 "cells": [
  {
   "cell_type": "markdown",
   "metadata": {
    "slideshow": {
     "slide_type": "slide"
    }
   },
   "source": [
    "# Stellar Physics\n",
    "\n",
    "## Part 2.1 - Supernovae"
   ]
  },
  {
   "cell_type": "markdown",
   "metadata": {
    "slideshow": {
     "slide_type": "slide"
    }
   },
   "source": [
    "In the second part of this course we will be looking at post-main-sequence evolution.\n",
    "This means we will be looking at the end states of stellar evolution: white dwarfs, neutron stars, and black holes.\n",
    "Unlike main sequence stars we have been looking at so far, these objects are _not_ powered by nuclear fusion. We will require some new physics to understand their behaviour and explain the observations."
   ]
  },
  {
   "cell_type": "markdown",
   "metadata": {
    "slideshow": {
     "slide_type": "slide"
    }
   },
   "source": [
    "## Recap\n",
    "\n",
    "We already know that star form from collapse of gas clouds. Why doesn't the collapse continue down to a point?\n",
    "\n",
    "- Protostars release gravitational potential energy as heat\n",
    "- Main sequence stars and 'burning' stars, have nuclear reactions to release heat\n",
    "- This heat creates pressure in the interior that stops further collapse (hydrostatic equilibrium)\n",
    "\n",
    "$$P = nRT/V $$\n",
    "\n",
    "We need a finite temperature $T$ to create pressure.\n",
    "Since a star is losing heat into space, the heat energy must be continually replenished."
   ]
  },
  {
   "cell_type": "markdown",
   "metadata": {
    "slideshow": {
     "slide_type": "slide"
    }
   },
   "source": [
    "<img src=\"img/balance.png\" class=\"right_panel\">\n",
    "\n",
    "- In protostars, contraction continues until fusion takes over\n",
    "- In burning stars, fusion of successively heavier elements takes place\n",
    "- But there is a limited amount of fuel in a star (see Iron Catastrophe)"
   ]
  },
  {
   "cell_type": "markdown",
   "metadata": {
    "slideshow": {
     "slide_type": "slide"
    }
   },
   "source": [
    "![Iron Catastrophe](img/iron_catastrophe.png)"
   ]
  },
  {
   "cell_type": "markdown",
   "metadata": {
    "slideshow": {
     "slide_type": "slide"
    }
   },
   "source": [
    "When the fuel runs out, the star will resume _contracting_, since there is no longer a thermal pressure to balance gravity.\n",
    "\n",
    "- So what is it that keeps White Dwarfs, Neutron Stars etc from collapsing?\n",
    "- And why is it that some stars _do_ collapse to black holes?"
   ]
  },
  {
   "cell_type": "markdown",
   "metadata": {
    "slideshow": {
     "slide_type": "slide"
    }
   },
   "source": [
    "## Low-mass stars ($\\sim 1 M_\\odot$)\n",
    "\n",
    "<img src=\"img/helix_neb.jpg\" class=\"left_panel\">\n",
    "_The helix nebula, formed 10000 years ago and 700 light years away_\n",
    "\n",
    "Stars fuse elements up to carbon. Thereafter, because stellar mass is low, core pressure due to self-gravity is not enough to cause sufficient temperature rise to begin fusion of heavier elements.\n",
    "\n",
    "Carbon core collapses to form a white dwarf (see later), outer layers are expelled to form a planetary nebula.\n",
    "\n"
   ]
  },
  {
   "cell_type": "markdown",
   "metadata": {
    "slideshow": {
     "slide_type": "slide"
    }
   },
   "source": [
    "## High-mass stars ($\\gtrsim 8M_\\odot$)\n",
    "\n",
    "<img src=\"img/tycho_nova.jpg\" class=\"right_panel\">\n",
    "\n",
    "_The Tycho supernova remnant (Seen in 1572, the 3rd/4th\n",
    "recorded in our galaxy).  A type Ia event. (185, 1006, 1054, 1572, 1604,\n",
    "1987*)_\n",
    "\n",
    " Stars continue fusion up to nickel and iron. Iron is\n",
    " the most tightly bound atomic nucleus -- no more energy available\n",
    " from fusion.\n",
    " \n",
    " Star also collapses, but since it is much more\n",
    " massive than a white-dwarf-progenitor, more gravitational energy\n",
    " can be released: much more violent event - a __supernova__.\n"
   ]
  },
  {
   "cell_type": "markdown",
   "metadata": {
    "slideshow": {
     "slide_type": "slide"
    }
   },
   "source": [
    "## Fates of stars\n",
    "\n",
    "| ZAMS mass | Collapsing mass | Fate |\n",
    "|-----------|-----------------|------|\n",
    "| $\\lesssim 8\\,M_\\odot$ | $1.4\\,M_\\odot$ | white dwarf |\n",
    "| $8 - 25 M_\\odot$ | 1.4 - 3 $M_\\odot$ | Neutron Star |\n",
    "| $\\gtrsim 25 M_\\odot$ | $\\gtrsim 3 M_\\odot$ | Black Hole |\n",
    "\n",
    "\n",
    "In very late stages of stellar evolution, much of the\n",
    "  star's initial mass (_Zero Age Main Sequence Mass_) is blown off as\n",
    "  the outer layers are shed into space (_radiation pressure_). The mass of the collapsing\n",
    "  core is therefore much less than the _ZAMS_ mass.\n"
   ]
  },
  {
   "cell_type": "markdown",
   "metadata": {
    "slideshow": {
     "slide_type": "slide"
    }
   },
   "source": [
    "## Supernova classification\n",
    "\n",
    "Supernovae are classified into different types depending on whether they show hydrogen in their spectrum. Type I have almost no hydrogen, Type II do show presence of hydrogen.\n",
    "\n",
    "- Type Ia are believed to be the result of accreting white dwarfs being pushed over the mass limit and undergoing further nuclear fusion in a runaway reaction that destroys the star.\n",
    "- Types Ib, Ic and II result from the collapse of high-mass stars straight to a neutron star or black hole.\n"
   ]
  },
  {
   "cell_type": "markdown",
   "metadata": {
    "slideshow": {
     "slide_type": "slide"
    }
   },
   "source": [
    "<img src=\"img/SNspectra.gif\" class=\"left_panel\">\n",
    "<img src=\"img/sn_cat.png\" class=\"right_panel\">\n"
   ]
  },
  {
   "cell_type": "markdown",
   "metadata": {
    "slideshow": {
     "slide_type": "slide"
    }
   },
   "source": [
    "The lack of hydrogren indicates that the the stars involved have been stripped of their hydrogen envelopes.\n",
    "\n",
    "- Types Ia,b,c indicate that different mechanisms are at work.\n",
    "- Type Ia are found in all types of galaxies.\n",
    "- Types Ib,c are only found in spiral galaxies where there was recent star formation.\n",
    "- This implies that Types Ib,c and due to massive short-lived stars."
   ]
  },
  {
   "cell_type": "markdown",
   "metadata": {
    "slideshow": {
     "slide_type": "slide"
    }
   },
   "source": [
    "## Supernova mechanism\n",
    "\n",
    "<img src=\"img/onion.png\" class=\"right_panel\">\n",
    "\n",
    "Need $> 8M_\\odot$ for core collapse to allow carbon and oxygen burning.\n",
    "- An onion-like shell structure develops with fusion by-products (ashes)\n",
    "sinking down through the layers.\n",
    "- The final stage is silicon\n",
    "burning which generates a\n",
    "host of nuclei centred around\n",
    "the 56Fe minimum of the 26\n",
    "binding energy curve.\n",
    "- Since each stage is less energy efficient, they take shorter and shorter times to complete (for a 20M⊙ star, Hydogen burning took 107 years; Silicon burning takes\n",
    "∼days)."
   ]
  },
  {
   "cell_type": "markdown",
   "metadata": {
    "slideshow": {
     "slide_type": "slide"
    }
   },
   "source": [
    "- Nuclear fuel is exhausted in the core. Radiated energy can no\n",
    "    longer be replaced, so pressure falls.\n",
    "    _Hydrostatic equilibrium is\n",
    "    lost_, so core rapidly contracts ($\\sim 1/4$ second).\n",
    "    \n",
    "- Contraction releases gravitational potential energy, causing\n",
    "    temperature to rise to $T\\sim~ 5\\times 10^{9}$K. High temperature\n",
    "    allows _endothermic_ (heat absorbing) reactions.\n"
   ]
  },
  {
   "cell_type": "markdown",
   "metadata": {
    "slideshow": {
     "slide_type": "slide"
    }
   },
   "source": [
    "## Photodisintegration\n",
    "\n",
    "  Earlier _exothermic_ fusion reactions are reversed:\n",
    "  photodisintegration.\n",
    "  \\begin{align}\n",
    "    ^{56}_{26}\\text{Fe}+\\gamma&\\rightarrow\n",
    "    13\\,^{4}_{2}\\text{He}+4\\,\\text{n}\\nonumber\\\\\n",
    "    ^{4}_{2}\\text{He}+\\gamma&\\rightarrow 2\\text{p}^{+}+2\\,\\text{n}\\nonumber\n",
    "  \\end{align}\n"
   ]
  },
  {
   "cell_type": "markdown",
   "metadata": {
    "slideshow": {
     "slide_type": "fragment"
    }
   },
   "source": [
    "## Neutron capture\n",
    "\n",
    "  Endothermic reactions also create elements _heavier_ than iron by\n",
    "  neutron capture,e.g.\n",
    "  \\begin{align}\n",
    "    ^{56}_{26}\\text{Fe}+128\\text{n}&\\rightarrow\n",
    "    ^{238}_{26}\\text{Fe}\\nonumber\\\\\n",
    "    ^{238}_{26}\\text{Fe}&\\rightarrow ^{238}_{92}\\text{U}+66\\text{e}^{-}+66\\bar{\\text{v}}_{\\text{e}}\\nonumber\n",
    "  \\end{align}\n",
    "  Produces elements heavier than iron, e.g. copper, silver, gold,\n",
    "  platinum, bismuth, thorium, uranium, etc.\n"
   ]
  },
  {
   "cell_type": "markdown",
   "metadata": {
    "slideshow": {
     "slide_type": "slide"
    }
   },
   "source": [
    "## Electron capture\n",
    "\n",
    "  Endothermic reactions absorb $\\sim 2/3$ of gravitational energy\n",
    "  released by initial collapse $\\rightarrow$ further contraction\n",
    "  $\\rightarrow$ further temperature rise.\n",
    "  \n",
    "  Core temperature\n",
    "  reaches $\\sim 10^{10}$K. Hot enough for inverse beta decay (reverse\n",
    "  of normal beta decay of radioactive nuclei).\n",
    "  \\begin{align}\n",
    "    \\text{p}^{+}+\\text{e}^{-}&\\rightarrow\n",
    "    \\text{n}+\\text{v}_{\\text{e}}\\nonumber\n",
    "  \\end{align}\n",
    "  \n",
    "  This process is highly endothermic. Also, since neutrinos are very\n",
    "  weakly interacting, they easily escape to space: 2 particles\n",
    "  ($\\text{p}^{+}$ and $\\text{e}^{-}$) become one\n",
    "  neutron. Consequence: {\\bf extreme pressure drop in core}. Core separates\n",
    "  from the outer envelope and goes into __free-fall__, collapsing at $\\sim\n",
    "  10^{5}\\,\\text{km}\\,\\text{s}^{-1}$ ($\\sim 1/3 c$).\n"
   ]
  },
  {
   "cell_type": "markdown",
   "metadata": {
    "slideshow": {
     "slide_type": "slide"
    }
   },
   "source": [
    "## Collapse\n",
    "\n",
    "- Core collapses to radius of $\\sim 20$ km. Consists of closely-packed\n",
    "    neutrons at $\\sim 3\\times$ nuclear densities ($\\sim 10^{9}$ tonnes\n",
    "    cm$^{-3}$).\n",
    "- At this point, core stiffens due to __degeneracy\n",
    "    pressure__ (see later) and abruptly halts collapse. Degenerate core rebounds\n",
    "    slightly, sending shock wave back up through in-falling\n",
    "    material.\n",
    "- Shock wave initiates further endothermic reactions and loses energy,\n",
    "    but is boosted by huge flux of neutrinos emanating from core.\n",
    "    Further in-falling material continues to strike degenerate core and\n",
    "    rebound $\\sim$ elastically.\n"
   ]
  },
  {
   "cell_type": "markdown",
   "metadata": {
    "slideshow": {
     "slide_type": "slide"
    }
   },
   "source": [
    "## Remnant\n",
    "\n",
    " Bouncing material and enormous neutrino flux blows outer layers of star off\n",
    "into space, forming a supernova remnant.\n"
   ]
  },
  {
   "cell_type": "markdown",
   "metadata": {
    "slideshow": {
     "slide_type": "slide"
    }
   },
   "source": [
    "## The Crab Nebula\n",
    "\n",
    "<img src=\"img/crab_nebula.jpg\" class=\"left_panel\">\n",
    "\n",
    "<div style=\"right_panel\">\n",
    "- ${\\sim}6500$ light years away.\n",
    "<br />\n",
    "- Diameter of $\\sim 11$ light years.\n",
    "<br />\n",
    "- Current expansion velocity $\\sim\n",
    "      1500$ km s$^{-1}$, i.e. $\\sim 0.5\\%$ of speed of light.\n",
    "<br />\n",
    "- This is the 2nd recorded observed supernova. Seen on July 4th 1054 by\n",
    "a court astrologer during China's Sung dynasty.\n",
    "<br />\n",
    "- Initially visible during the day!\n",
    "</div>"
   ]
  },
  {
   "cell_type": "markdown",
   "metadata": {
    "slideshow": {
     "slide_type": "slide"
    }
   },
   "source": [
    "## Why do SN remnants expand so quickly?\n",
    "\n",
    "<img src=\"img/density.svg\" class=\"right_panel\">\n",
    "\n",
    " As the shock wave travels out through stellar envelope, carrying energy\n",
    "    and momentum, it encounters material of ever decreasing density.\n"
   ]
  },
  {
   "cell_type": "markdown",
   "metadata": {
    "slideshow": {
     "slide_type": "slide"
    }
   },
   "source": [
    "<img src=\"img/volume.svg\" class=\"right_panel\">\n",
    "\n",
    "Energy and momentum is conserved. __Shock wave__ passing\n",
    "    into lower density region transmits momentum to a progressively\n",
    "    lower mass of material per unit surface area of the wave.\n",
    "    \n",
    "$$p=mv$$\n",
    "\n",
    "Roughly same $p$ and smaller $m$ results in larger\n",
    "    $v$. Low-density outer layers attain huge expulsion velocity."
   ]
  },
  {
   "cell_type": "markdown",
   "metadata": {
    "slideshow": {
     "slide_type": "slide"
    }
   },
   "source": [
    "## Energy Budget\n",
    "\n",
    "    \n",
    "<img src=\"img/SN1994D.jpg\" class=\"right_panel\">\n",
    "\n",
    "Observationally, supernovae brighten rapidly to $\\sim\n",
    "    10^{9}\\,L_{\\odot}$ in about 10 days, then slowly dim over about\n",
    "    100 days, i.e. they may briefly outshine their entire host galaxy.\n"
   ]
  },
  {
   "cell_type": "markdown",
   "metadata": {
    "slideshow": {
     "slide_type": "slide"
    }
   },
   "source": [
    "## Luminosity\n",
    "\n",
    " Energy source is the _release of gravitational potential energy_ by\n",
    "  the contraction of the core.\n",
    "  \n",
    "![contraction](img/contraction.jpg)"
   ]
  },
  {
   "cell_type": "markdown",
   "metadata": {
    "slideshow": {
     "slide_type": "notes"
    }
   },
   "source": [
    "Gravitational potential energy of a uniform sphere is roughly\n",
    "  \\begin{equation}\n",
    "    E=-\\frac{GM^{2}}{r}\\nonumber\n",
    "  \\end{equation}\n",
    "  So energy released by contraction is roughly\n",
    "  \\begin{equation}\n",
    "    \\Delta\n",
    "    E\\approx\\left(\\frac{GM^{2}}{r_{1}}\\right)-\\left(\\frac{GM^{2}}{r_{2}}\\right)\\nonumber\n",
    "    \\end{equation}\n",
    "  and since $r_{1}\\gg r_{2}$\n",
    "  \\begin{equation}\n",
    "    \\Delta\n",
    "    E\\approx \\frac{GM^{2}}{r_{2}}\\nonumber\n",
    "  \\end{equation}"
   ]
  },
  {
   "cell_type": "markdown",
   "metadata": {
    "slideshow": {
     "slide_type": "slide"
    }
   },
   "source": [
    "- Using typical __neutron star__ values of $M=1.4M_{\\odot}$ and $r_{2}=20$km, we find energy released $E\\approx 10^{46}$ J.\n",
    "- This is equivalent to $L_{\\odot}$ emitted continuously for $10^{20}$ seconds, or $\\sim 100$ times the Sun's total energy production over its Main Sequence lifetime, but in only $\\sim 1/4$ second!\n",
    "- About $2/3$ of released energy is reabsorbed in endothermic reactions.\n",
    "- Most of remaining $1/3$ is released as neutrinos - about $10^{57}$ of them.\n",
    "- About $1\\%$ goes into kinetic energy of the _ejecta_.\n",
    "- About $1\\%$ goes into photons, with about $0.01\\%$ as a visible flash."
   ]
  },
  {
   "cell_type": "markdown",
   "metadata": {
    "slideshow": {
     "slide_type": "slide"
    }
   },
   "source": [
    "- Supernovae produce __cosmic rays__ (extremely high energy particles, mostly protons but also some electrons and heavier nuclei).\n",
    "- Supernovae distribute heavier elements into space, which are    then incorporated into new stars and planets. Some of the material    in the human body was ``cooked'' in supernovae."
   ]
  },
  {
   "cell_type": "markdown",
   "metadata": {
    "slideshow": {
     "slide_type": "fragment"
    }
   },
   "source": [
    "- The supernova shock wave can disrupt interstellar gas clouds, perturbing their equilibrium and causing collapse and fragmentation -- new stars form, thus completing the cycle of stellar life.\n",
    "- With roughly 2 supernovae per galaxy per 100 years, and about $10^{11}$ galaxies in the universe, there are on average about 50    supernovae per second!"
   ]
  },
  {
   "cell_type": "markdown",
   "metadata": {
    "slideshow": {
     "slide_type": "slide"
    }
   },
   "source": [
    "![SN1987A](img/SN1987A2.jpg)\n",
    "\n",
    "Supernova 1987A was the last supernova in our galaxy (actually in LMC satellite galaxy)"
   ]
  }
 ],
 "metadata": {
  "kernelspec": {
   "display_name": "Python 3",
   "language": "python",
   "name": "python3"
  },
  "language_info": {
   "codemirror_mode": {
    "name": "ipython",
    "version": 3
   },
   "file_extension": ".py",
   "mimetype": "text/x-python",
   "name": "python",
   "nbconvert_exporter": "python",
   "pygments_lexer": "ipython3",
   "version": "3.7.5"
  }
 },
 "nbformat": 4,
 "nbformat_minor": 4
}
