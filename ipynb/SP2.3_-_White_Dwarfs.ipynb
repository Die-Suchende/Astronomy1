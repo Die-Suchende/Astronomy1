{
 "cells": [
  {
   "cell_type": "markdown",
   "metadata": {
    "slideshow": {
     "slide_type": "slide"
    }
   },
   "source": [
    "# Stellar Physics\n",
    "\n",
    "## Part 2.3: White dwarfs\n"
   ]
  },
  {
   "cell_type": "markdown",
   "metadata": {
    "slideshow": {
     "slide_type": "slide"
    }
   },
   "source": [
    "## An example\n",
    "\n",
    "<img src=\"img/Herschel_40_foot.jpg\" class=\"right_panel\">\n",
    "<div class=\"left_panel\">\n",
    "<list>\n",
    "<li> This image shows hot gas around a dying, Sun-like star 2500 light years away.\n",
    "<li> It is a planetary nebula discovered by William Herschel in 1788.\n",
    "<li> In $\\sim 30,000$ years it will fade leaving a White Dwarf star.\n",
    "    </list>\n",
    "</div>"
   ]
  },
  {
   "cell_type": "markdown",
   "metadata": {
    "slideshow": {
     "slide_type": "slide"
    }
   },
   "source": [
    "### White dwarfs on the HR diagram\n",
    "\n",
    "<img src=\"img/HR_whitedwarf.jpg\" class=\"right_panel\">\n",
    "<div class=\"left_panel\">\n",
    "    <list>\n",
    "<li> White dwarfs are made from the cores of stars with ZAMS mass $\\leq 8$M$_{\\odot}$.\n",
    "<li> There is not enough pressure to initiate fusion beyond helium burning.\n",
    "<li> At the end of the giant star phase it expels its surface layers as a planetary nebula.\n",
    "<li> Leaving the core exposed as a white dwarf star.\n",
    "<li> There is no supernova explosion.\n",
    "    </list>\n",
    "    </div>"
   ]
  },
  {
   "cell_type": "markdown",
   "metadata": {
    "slideshow": {
     "slide_type": "subslide"
    }
   },
   "source": [
    "<img src=\"img/WDlife2.png\" >\n",
    "This figure shows real white dwarfs in the zoomed in panel. Observe that they follow the expected $L\\propto T^4$ line of constant radius quite closely. This shows white dwarfs of different ages at different stages of cooling."
   ]
  },
  {
   "cell_type": "markdown",
   "metadata": {
    "slideshow": {
     "slide_type": "slide"
    }
   },
   "source": [
    "### Modeling white dwarfs\n",
    "\n",
    "We have seen that the central pressure in a star is given by\n",
    "\\begin{equation}\n",
    "  P_{\\text{c}}=\\left(\\frac{\\pi}{6}\\right)^{1/3}GM^{2/3}\\rho^{4/3}\\nonumber\n",
    "\\end{equation}\n",
    "and in a stellar remnant where both electrons and protons are \\red{non-\n",
    "relativistic}, the dominant degeneracy pressure is due to electrons,\n",
    "given by\n",
    "\\begin{equation}\n",
    "{P_{\\text{Qe}}=\\frac{\\beta}{2} \\frac{\\hbar^{2}}{m_{\\text{e}}}\\left(\\frac{\\rho}{m_{\\text{p}}}\\right)^{5/3}}\\nonumber\n",
    "\\end{equation}\n",
    "where $\\beta$ is a dimensionless constant of order unity.\n",
    "\n",
    "(For the idealised case we considered in Lecture 2.2,  we assumed $\\beta = 2$).\n",
    "\n",
    "__A stellar remnant where the self-gravity is balanced by electron\n",
    "degeneracy pressure is called a white dwarf__."
   ]
  },
  {
   "cell_type": "markdown",
   "metadata": {
    "slideshow": {
     "slide_type": "subslide"
    }
   },
   "source": [
    "### White dwarf density\n",
    "\n",
    "Equating $P_{\\text{Qe}}$ and $P_{\\text{c}}$, we have (solving for the density)\n",
    "\\begin{align}\n",
    "  \\frac{\\beta}{2}\\frac{\\hbar^{2}}{m_{\\text{e}}}\\left(\\frac{\\rho}{m_{\\text{p}}}\\right)^{5/3}&=\\left(\\frac{\\pi}{6}\\right)^{1/3}GM^{2/3}\\rho^{4/3}\\nonumber\\\\\n",
    "      \\rho^{1/3}&=\\left(\\frac{\\pi}{6}\\right)^{1/3}GM^{2/3}\\frac{2}{\\beta}\\frac{m_{\\text{e}}}{\\hbar^{2}}m_{\\text{p}}^{5/3}\\nonumber\\\\\n",
    "\\rho_{\\text{WD}}&=\\frac{4\\pi}{3\\beta^{3}}G^{3}\\frac{m_{\\text{e}}^{3}m_{\\text{p}}^{5}}{\\hbar^{6}}M^{2}\\nonumber\n",
    "\\end{align}\n",
    "\n",
    "- Hence the density of a white dwarf depends on the __square of its mass__.\n",
    "- Calculating out the constants, we find that the density of a white dwarf $\\rho_{\\text{WD}}$ is about $10^{7}$ times greater than the density of water, i.e. $\\rho_{\\text{WD}}\\approx 10^{10}\\,\\text{kg m}^{-3}$.\n",
    "- So 1 cm$^{3}$ of white dwarf material weighs about 10 tons!"
   ]
  },
  {
   "cell_type": "markdown",
   "metadata": {
    "slideshow": {
     "slide_type": "slide"
    }
   },
   "source": [
    "### White dwarf radius\n",
    "\n",
    "What is the radius of a white dwarf star? "
   ]
  },
  {
   "cell_type": "markdown",
   "metadata": {
    "slideshow": {
     "slide_type": "notes"
    }
   },
   "source": [
    "Substitute\n",
    "    \\begin{equation}\n",
    "      \\rho=\\frac{M}{\\frac{4}{3}\\pi R^{3}}\\nonumber\n",
    "    \\end{equation}\n",
    "    into the previous equation and solve for the radius\n",
    "    \\begin{align}\n",
    "      \\frac{M}{\\frac{4}{3}\\pi\n",
    "        R^{3}}&=\\frac{4\\pi}{3\\beta^{3}}G^{3}\\frac{m_{\\text{e}}^{3}m_{\\text{p}}^{5}}{\\hbar^{6}}M^{2}\\nonumber\\\\\n",
    "      \\frac{1}{R^{3}}&=\\left(\\frac{4\\pi}{3}\\right)^{2}\\left(\\frac{G}{\\beta}\\right)^{3}\\frac{m_{\\text{e}}^{3}m_{\\text{p}}^{5}}{\\hbar^{6}}M\\nonumber\\\\\n",
    "      R&=\\left(\\left(\\frac{4\\pi}{3}\\right)^{2}\\left(\\frac{G}{\\beta}\\right)^{3}\\frac{m_{\\text{e}}^{3}m_{\\text{p}}^{5}}{\\hbar^{6}}M\\right)^{-1/3}\\nonumber\\\\\n",
    "      R_{\\text{WD}}&=\\left(\\frac{3}{4\\pi}\\right)^{2/3}\\frac{\\beta}{G}\\frac{\\hbar^{2}}{m_{\\text{e}}m_{\\text{p}}^{5/3}}M^{-1/3}\\nonumber \n",
    "    \\end{align}"
   ]
  },
  {
   "cell_type": "markdown",
   "metadata": {
    "slideshow": {
     "slide_type": "subslide"
    }
   },
   "source": [
    "- Note that the radius of the white dwarf depends only on some universal constants and its mass, $M$.\n",
    "- Note also an important property - the radius is inversely proportional to the cube root of the mass $\\rightarrow$ _a more massive white dwarf is smaller than a less massive white dwarf!_"
   ]
  },
  {
   "cell_type": "markdown",
   "metadata": {
    "slideshow": {
     "slide_type": "fragment"
    }
   },
   "source": [
    "To make the radius expression easier to use, we can multiply out\n",
    "the constants to give the radius of a white dwarf in metres as a\n",
    "function of its mass in solar masses."
   ]
  },
  {
   "cell_type": "markdown",
   "metadata": {
    "slideshow": {
     "slide_type": "notes"
    }
   },
   "source": [
    "\\begin{align}\n",
    "     R_{\\text{WD}}&=2.986\\times 10^{16}M^{-1/3}\\,\\text{m}\\nonumber\\\\\n",
    "     R_{\\text{WD}}&=2.986\\times\n",
    "     10^{16}\\left(\\frac{M}{M_{\\odot}}\\right)^{-1/3}M_{\\odot}^{-1/3}\\,\\text{m}\\nonumber\\\\\n",
    "     R_{\\text{WD}}&\\approx 2\\times\n",
    "10^{6}\\left(\\frac{M}{M_{\\odot}}\\right)^{-1/3}\\,\\text{m}\\nonumber\n",
    "\\end{align}"
   ]
  },
  {
   "cell_type": "markdown",
   "metadata": {
    "slideshow": {
     "slide_type": "fragment"
    }
   },
   "source": [
    "A white dwarf has the mass of the Sun in roughly the volume of the Earth."
   ]
  },
  {
   "cell_type": "markdown",
   "metadata": {
    "slideshow": {
     "slide_type": "slide"
    }
   },
   "source": [
    "## Summary of white dwarf properties\n",
    "\n",
    "- Mostly carbon, some oxygen (inert former stellar core).\n",
    "- Supported by electron degeneracy pressure.\n",
    "- Much leftover gravitational energy from collapse, so very hot. $5,000 > T > 80,000$ K - glows in a range of colours.\n",
    "- Very small ($\\sim 10^{6}$ m), so very dim: $\\sim 10^{-3}$ to $10^{-4} L_{\\odot}$.\n",
    "- Very high density: $\\sim 10^{7}$ to $10^{11} \\text{kg m}^{-3}$.\n",
    "\n",
    "\n",
    "White dwarfs have no energy sources, so energy radiated to space\n",
    "is not replenished. White dwarfs cool down completely over very\n",
    "long timescales. When the white dwarf reaches ambient temperature\n",
    "it no longer shines, and is called a black dwarf.\n",
    "    "
   ]
  },
  {
   "cell_type": "markdown",
   "metadata": {
    "slideshow": {
     "slide_type": "slide"
    }
   },
   "source": [
    "## Chandrasekhar mass limit"
   ]
  },
  {
   "cell_type": "markdown",
   "metadata": {
    "slideshow": {
     "slide_type": "notes"
    }
   },
   "source": [
    "<img src=\"img/Chandrasekhar.png\" class=\"right_panel\">\n",
    "Named after Subrahmanyan Chandrasekhar: Nobel prize 1983"
   ]
  },
  {
   "cell_type": "markdown",
   "metadata": {
    "slideshow": {
     "slide_type": "subslide"
    }
   },
   "source": [
    "We have shown that\n",
    "\\begin{equation}\n",
    "  R_{\\text{WD}}\\propto M^{-1/3}\\nonumber\n",
    "\\end{equation}\n",
    "\n",
    "- So, as $M$ increases $\\rightarrow$ $R$ decreases $\\rightarrow$\n",
    "$\\rho$ increases $\\rightarrow$ particles confined to smaller\n",
    "volumes $\\rightarrow$ particle speeds increase (by HUP)\n",
    "$\\rightarrow$ particle speeds approach $c$ $\\rightarrow$\n",
    "_non-relativistic particle approximation fails_.\n",
    "- We must consider more carefully what happens when the electrons become\n",
    "relativistic, and how this will affect the degeneracy pressure."
   ]
  },
  {
   "cell_type": "markdown",
   "metadata": {
    "slideshow": {
     "slide_type": "subslide"
    }
   },
   "source": [
    "When does the non-relativistic approximation fail? When\n",
    "    \\begin{align}\n",
    "      v&\\rightarrow c\\nonumber\\\\\n",
    "      p=mv&\\rightarrow mc\\nonumber\n",
    "    \\end{align}\n",
    "    We know from the Heisenberg uncertainty principle that\n",
    "    \\begin{equation}\n",
    "      p_{x}\\approx\\frac{\\hbar}{\\Delta x}\\approx\\hbar \\left(\\frac{\\rho}{m_{\\text{p}}}\\right)^{1/3}\\nonumber\n",
    "    \\end{equation}\n",
    "    So at the Chandrasekhar mass limit \n",
    "    \\begin{equation}\n",
    "      p\\approx\\hbar \\left(\\frac{\\rho}{m_{\\text{p}}}\\right)^{1/3}\\approx m_{\\text{e}}c\\nonumber\n",
    "    \\end{equation}"
   ]
  },
  {
   "cell_type": "markdown",
   "metadata": {
    "slideshow": {
     "slide_type": "notes"
    }
   },
   "source": [
    "From our expression for the White Dwarf density we can now write\n",
    "    \\begin{equation}\n",
    "      \\hbar\\left(\\frac{1}{m_{\\text{p}}}\\frac{4\\pi}{3\\beta^{3}}G^{3}\\frac{m_{\\text{e}}^{3}m_{\\text{p}}^{5}}{\\hbar^{6}}M^{2}\\right)^{1/3}\\approx\n",
    "m_{\\text{e}}c\\nonumber\n",
    "    \\end{equation}\n",
    "    We rearrange and solve for the stellar mass, $M$, to give\n",
    "    \\begin{align}\n",
    "      \\hbar^{3}\\frac{1}{m_{\\text{p}}}\\frac{4\\pi}{3\\beta^{3}}G^{3}\\frac{m_{\\text{e}}^{3}m_{\\text{p}}^{5}}{\\hbar^{6}}M^{2}&\\approx\n",
    "    m_{\\text{e}}^{3}c^{3}\\nonumber\\\\\n",
    "    \\frac{4\\pi}{3\\beta^{3}}G^{3}\\frac{m_{\\text{p}}^{4}}{\\hbar^{3}}M^{2}&\\approx\n",
    "    c^{3}\\nonumber\n",
    "    \\end{align}"
   ]
  },
  {
   "cell_type": "markdown",
   "metadata": {
    "slideshow": {
     "slide_type": "subslide"
    }
   },
   "source": [
    "\\begin{equation}\n",
    "M_{\\text{Ch}}\\approx\\left(\\frac{3}{4\\pi}\\right)^{1/2}\\frac{1}{m_{\\text{p}}^{2}}\\left(\\frac{\\beta\\hbar\n",
    "        c}{G}\\right)^{3/2}\\nonumber\n",
    "    \\end{equation}\n",
    "\n",
    "- $M_{\\text{Ch}}$ is called the Chandrasekhar Mass Limit, and is the __maximum mass__ that a white dwarf can be.\n",
    "- Calculating out the constants, we find $M_{\\text{Ch}} \\approx 0.9 M_{\\odot}$.\n",
    "- Note a more detailed calculation gives $M_{\\text{Ch}} \\approx 1.44 M_{\\odot}$ - this is the canonical value.\n",
    "- Also notice that this limit _only_ depends on a handful of known physical constants."
   ]
  },
  {
   "cell_type": "markdown",
   "metadata": {
    "slideshow": {
     "slide_type": "subslide"
    }
   },
   "source": [
    "### What  happens above the Chandrasekhar mass limit?\n",
    "\n",
    "Electrons are relativistic, so we need to use the relativistic\n",
    "energy equation:\n",
    "    \\begin{equation}\n",
    "      E^{2}=p^{2}c^{2}+m_{0}^{2}c^{4}\\nonumber\n",
    "    \\end{equation}\n",
    "where $E$ is the total energy of the particle, $m_{0}$ is its rest mass,\n",
    "and $p$ is now the relativistic momentum.\n",
    "    "
   ]
  },
  {
   "cell_type": "markdown",
   "metadata": {
    "slideshow": {
     "slide_type": "fragment"
    }
   },
   "source": [
    "At high speeds ($v\\rightarrow c$), the kinetic energy dominates\n",
    "over the rest-mass energy, so\n",
    "    \\begin{equation}\n",
    "      E\\approx pc\\nonumber\n",
    "    \\end{equation}"
   ]
  },
  {
   "cell_type": "markdown",
   "metadata": {
    "slideshow": {
     "slide_type": "fragment"
    }
   },
   "source": [
    "Using the general thermodynamic relation as before, we find that\n",
    "    the quantum degeneracy pressure due to relativistic electrons is\n",
    "    given by\n",
    "    \\begin{equation}\n",
    "      P_{\\text{QeR}}\\propto\n",
    "      nE_{\\text{eR}}\\propto\\frac{\\rho}{m_{\\text{p}}}E_{\\text{eR}}\\propto\\frac{\\rho}{m_{\\text{p}}}pc\\propto\\rho^{4/3}\\nonumber\n",
    "    \\end{equation}\n",
    "    \n",
    "$p\\propto \\rho^{1/3}$ comes from the HUP.\n",
    "    Degeneracy pressure now varies with density as $\\rho^{4/3}$, not\n",
    "    $\\rho^{5/3}$ as before."
   ]
  },
  {
   "cell_type": "markdown",
   "metadata": {
    "slideshow": {
     "slide_type": "subslide"
    }
   },
   "source": [
    "### How does this affect the pressure-density graph?\n",
    "\n",
    "<img src=\"img/logrhologP2.jpg\" class=\"right_panel\">\n",
    "\n",
    "When the electrons become relativistic, the slope of the\n",
    "        degeneracy pressure curve changes from $5/3$ to $4/3$.\n",
    "\n",
    "Above the Chandrasekhar mass, the curves for the central\n",
    "pressure due to self-gravity, $P_{\\text{c}}$, and the relativistic\n",
    "electron degeneracy pressure, $P_{\\text{QeR}}$, are __parallel__. Therefore,\n",
    "these curves will no longer intersect."
   ]
  },
  {
   "cell_type": "markdown",
   "metadata": {
    "slideshow": {
     "slide_type": "subslide"
    }
   },
   "source": [
    "So above $M_{\\text{Ch}}$, there is no value of $R$ for which $P_{\\text{QeR}}$\n",
    "balances $P_{\\text{c}}$. No equilibrium is possible, and so the stellar\n",
    "remnant will continue to contract under its own gravity. \n",
    "\n",
    "It will continue to shrink past the conditions for a white dwarf\n",
    "until some pressure source _other_ than electron degeneracy\n",
    "pressure can counteract the self-gravity.\n",
    "\n",
    "- This pressure source is _neutron degeneracy pressure_.\n",
    "- It too is overcome above the _Tolman-Oppenheimer-Volkoff limit_ - see SP2.4 lectures."
   ]
  },
  {
   "cell_type": "markdown",
   "metadata": {
    "slideshow": {
     "slide_type": "slide"
    }
   },
   "source": [
    "# Observational Properties of White Dwarfs\n"
   ]
  },
  {
   "cell_type": "markdown",
   "metadata": {
    "slideshow": {
     "slide_type": "subslide"
    }
   },
   "source": [
    "## Do white dwarfs actually exist?\n",
    "\n",
    "- Yes, we can see them.\n",
    "\n",
    "<img src=\"img/WDM4.jpg\" style=\"max-height: 500px;\">"
   ]
  },
  {
   "cell_type": "markdown",
   "metadata": {
    "slideshow": {
     "slide_type": "subslide"
    }
   },
   "source": [
    "- Although very faint, they can be observed directly with a telescope\n",
    "- We can use our knowledge from SP1 to infer the physical properties in the same way we did for main sequence stars."
   ]
  },
  {
   "cell_type": "markdown",
   "metadata": {
    "slideshow": {
     "slide_type": "subslide"
    }
   },
   "source": [
    "Measuring the amount of light we receive from a white dwarf\n",
    " gives us its apparent magnitude, $m$. If we can determine the\n",
    " distance, $d$, to the star (by parallax etc),\n",
    " we can then work out its absolute magnitude,\n",
    " $M$, using the distance modulus formula from SP1:\n",
    " \n",
    "\\begin{equation}\n",
    "   M=5\\log_{10}d + m -5\n",
    "\\end{equation}\n",
    "      \n",
    "The absolute magnitude then gives us the star's luminosity,\n",
    "$L$, from Pogson's equation:\n",
    "\\begin{equation}\n",
    "   M-M_{\\odot}=-2.5\\log_{10}\\left(\\frac{L}{L_{\\odot}}\\right)\\nonumber\n",
    "\\end{equation}"
   ]
  },
  {
   "cell_type": "markdown",
   "metadata": {
    "slideshow": {
     "slide_type": "subslide"
    }
   },
   "source": [
    "- If we examine the spectrum of the light we receive from the star (and assume it emits like a blackbody), we can determine the temperature of the white dwarf using Wien's Displacement Law:\n",
    "\\begin{equation}\n",
    "\\lambda_{\\text{max}}T=b\\hspace{1cm}b=2.898\\times 10^{- 3}\\,\\text{m K}\\nonumber\n",
    "\\end{equation}\n",
    "- If we have $L$ and $T$, we can then obtain the radius of the star, $R$, using the Stefan-Boltzmann law:\n",
    "\\begin{equation}\n",
    "L=4\\pi R^{2}\\sigma T^{4}\\nonumber\n",
    "\\end{equation}\n",
    "- If the star is in a binary system, we can also work out its mass from observations of its orbital motion.\n",
    "- We can then determine the mean stellar density, and whether the white dwarf stars we observe follow our derived $R \\propto M^{-1/3}$\n",
    "  relation.\n",
    "\n"
   ]
  },
  {
   "cell_type": "markdown",
   "metadata": {
    "slideshow": {
     "slide_type": "slide"
    }
   },
   "source": [
    "## What do the observations tell us?"
   ]
  },
  {
   "cell_type": "markdown",
   "metadata": {
    "slideshow": {
     "slide_type": "subslide"
    }
   },
   "source": [
    "<img src=\"img/SiriusB.jpg\" class=\"right_panel\">\n",
    "\n",
    "Take as an example the most famous white dwarf, __Sirius B__, the binary companion of Sirius A.\n",
    "\n",
    "| Observed Properties | value | note |\n",
    "|---------------------|-------|------|\n",
    "| m | 8.44 | apparent magnitude |\n",
    "| d | 2.64 pc | distance (via parallax) |\n",
    "| T | 25200 K | Temperature (via Wien's law) |\n",
    "\n",
    "- The orbital period is 50.09 years, and system is a visual binary,\n",
    "so orbital parameters can be observed directly: orbital separation ranges\n",
    "between $8$--$32$ AU; ratio of the distances of each star from the\n",
    "centre-of-mass $r_{1}/r_{2} = 0.466$.\n",
    "- Binary observations give a mass 0.98$M_{\\odot}$ = $1.95\\times 10^{30}$kg.\n",
    "- It was realised in 1915 that this is a hot blue-white star.  Initially\n",
    "this was thought to be \"absurd\". "
   ]
  },
  {
   "cell_type": "markdown",
   "metadata": {
    "slideshow": {
     "slide_type": "subslide"
    }
   },
   "source": [
    "__Exercise__: Calculate the absolute magnitude $M$, luminosity $L$, radius $R$ and density $\\rho$ of Sirius B."
   ]
  },
  {
   "cell_type": "markdown",
   "metadata": {
    "slideshow": {
     "slide_type": "notes"
    }
   },
   "source": [
    "Using these values, we can find:\n",
    "\\begin{align}\n",
    "        M&=11.18\\nonumber\\\\\n",
    "        L&=0.023L_{\\odot}\\nonumber\\\\\n",
    "        R&=0.008R_{\\odot}=5.7\\times 10^{6}\\,\\text{m}\\nonumber\\\\\n",
    "        \\rho&=2.5\\times 10^{9}\\,\\text{kg}\\,\\text{m}^{-3}\\nonumber\n",
    "\\end{align}\n"
   ]
  },
  {
   "cell_type": "markdown",
   "metadata": {
    "slideshow": {
     "slide_type": "fragment"
    }
   },
   "source": [
    "- Hence Sirius B is about the size ($\\sim 10^{6}$ m), density\n",
    " ($\\sim 10^{9}$ kg m$^{-3}$), and temperature ($>10,000$ K) we\n",
    " expect for a white dwarf."
   ]
  },
  {
   "cell_type": "markdown",
   "metadata": {
    "slideshow": {
     "slide_type": "subslide"
    }
   },
   "source": [
    "## Another example: 40 Eridani B\n",
    "\n",
    "<img src=\"img/WDMassRadius.jpg\" class=\"right_panel\">\n",
    "\n",
    "The first white dwarf to be observed, by William Herschel in 1783.\n",
    "\n",
    "\\begin{align}\n",
    "        L&=0.013L_{\\odot},\\hspace{0.2cm}R=0.014R_{\\odot}\\nonumber\\\\\n",
    "        M&=0.5M_{\\odot},\\hspace{0.2cm}T=16,500\\,\\text{K}\\nonumber\n",
    "\\end{align}\n",
    "\n",
    "- Taking mass and radius ratios with Sirius B, we find\n",
    "\\begin{equation}\n",
    "\\frac{R_{1}}{R_{2}}=\\left(\\frac{M_{1}}{M_{2}}\\right)^{-0.61}\n",
    "\\end{equation}\n",
    "- Theoretically, the index should be $-0.33$, so the agreement isn't \n",
    "  too bad (and the sign is correct!). Observations of other white\n",
    "    dwarfs broadly confirm the relationship (but with large uncertainties)."
   ]
  },
  {
   "cell_type": "markdown",
   "metadata": {
    "slideshow": {
     "slide_type": "slide"
    }
   },
   "source": [
    "## Accretion\n",
    "\n",
    "Stellar remnants in close binary systems may gravitationally\n",
    "    attract material away from their companion stars. This material\n",
    "    flows onto the surface of the remnant in a process called _accretion_."
   ]
  },
  {
   "cell_type": "markdown",
   "metadata": {
    "slideshow": {
     "slide_type": "subslide"
    }
   },
   "source": [
    "<img src=\"img/detached.jpg\" class=\"right_panel\">\n",
    "Consider the gravitational potential in a binary\n",
    "system. The region of space around a star in which material is\n",
    "gravitationally bound to that star is called its Roche Lobe. \n",
    "\n",
    "In a binary system, these touch at the system's\n",
    "Lagrange point where the gravitational effect of each\n",
    "star exactly balances."
   ]
  },
  {
   "cell_type": "markdown",
   "metadata": {
    "slideshow": {
     "slide_type": "subslide"
    }
   },
   "source": [
    "<img src=\"img/semidetached.jpg\" class=\"right_panel\">\n",
    "\n",
    "Suppose that one member of the binary system is a compact\n",
    "object (e.g. a _white dwarf_), and that the other member\n",
    "is large enough (e.g. a _giant star_) or close enough that\n",
    "it completely fills its own _Roche Lobe_. \n",
    "\n",
    "Matter will \"spill across\" from the companion star's Roche Lobe at the\n",
    "_Lagrange point_, stream into the white dwarf's Roche Lobe and fall towards the white dwarf."
   ]
  },
  {
   "cell_type": "markdown",
   "metadata": {
    "slideshow": {
     "slide_type": "subslide"
    }
   },
   "source": [
    "<img src=\"img/accretion.jpg\" class=\"right_panel\">\n",
    "\n",
    "Since the whole system is rotating (as the stars orbit around each other), the flowing stream of matter possesses _angluar momentum_.\n",
    "\n",
    "Therefore, it doesn't fall directly down onto the white dwarf, but misses the surface and swings\n",
    "around it, _orming a spiral of in-falling matter_."
   ]
  },
  {
   "cell_type": "markdown",
   "metadata": {
    "slideshow": {
     "slide_type": "subslide"
    }
   },
   "source": [
    "- Particles feed down into the orbital plane from above and\n",
    "below, so collisions between particles cancel out the component of\n",
    "momentum perpendicular to the orbital plane.\n",
    "- However, the particles are streaming parallel to the orbital\n",
    "    plane (flowing from one star to the other), so the component of momentum parallel to the orbital plane is conserved.\n",
    "- The net effect is that the spiraling flow flattens itself into a thin __accretion disc__ in the plane of the orbit (c.f. Solar System Physics).\n",
    "- Collisions between particles in the accretion disc cause friction, which heats up the gas and makes it glow. The glowing accretion disc can be observed telescopically.\n",
    "\n",
    "![orbital plane](img/orbitalplane.jpg)"
   ]
  },
  {
   "cell_type": "markdown",
   "metadata": {
    "slideshow": {
     "slide_type": "subslide"
    }
   },
   "source": [
    "## Example system: Mira\n",
    "\n",
    "![Mira](img/mira_comp.jpg)\n",
    "_Mira system in X-rays, and artist's impression Image credit: NASA/CXC/SAO/ M. Karovska et al., M. Weiss_\n",
    "        \n",
    "This system contains a giant star in a ~400 year orbit with a\n",
    "white dwarf and lies at a distance of about 90 parsecs."
   ]
  },
  {
   "cell_type": "markdown",
   "metadata": {
    "slideshow": {
     "slide_type": "subslide"
    }
   },
   "source": [
    "## Energy source for this emission\n",
    "\n",
    "- Release of gravitational potential energy during the in-fall.\n",
    "- By a similar argument to the one we used to calculate energy release in a supernova (see Lecture 2.1), we can see that the gravitational potential energy released by a mass $m$ falling onto a body of mass $M$, radius $R$, from a height $\\gg R$ is\n",
    "\\begin{equation}\n",
    "    E\\approx\\frac{GMm}{R}\n",
    "\\end{equation}\n",
    "\n",
    "- The accretion luminosity is then given by\n",
    "\\begin{equation}\n",
    "  L_{\\text{acc}}=\\frac{dE}{dt}=\\frac{GM}{R}\\frac{dm}{dt}=\\frac{GM}{R}\\dot{m}\n",
    "\\end{equation}\n",
    "where $\\dot{m}$ is the _mass accretion rate_ (kg s$^{-1}$)."
   ]
  },
  {
   "cell_type": "markdown",
   "metadata": {
    "slideshow": {
     "slide_type": "subslide"
    }
   },
   "source": [
    "- If we assume the accretion disc radiates like a __blackbody__, we can relate the disc accretion luminosity to the disc temperature $T_{\\text{d}}$ using the Stefan-Boltzmann law:\n",
    "\\begin{equation}\n",
    "L_{\\text{acc}}=A\\sigma T^{4}_{\\text{d}}\n",
    "\\end{equation}\n",
    "\n",
    "- Since the emitting area $A$ is both sides of a flat disc, rather than the usual sphere, the emitting area for an accretion disc of radius $R_{\\text{d}}$ is\n",
    "\\begin{equation}\n",
    "      A=2\\pi R^{2}_{\\text{d}}\\nonumber\n",
    "\\end{equation}\n",
    "\n",
    "- Equating our expressions for luminosity we find\n",
    "\\begin{equation}\n",
    "L_{\\text{acc}}=\\frac{GM\\dot{m}}{R}=2\\pi\n",
    "R_{\\text{d}}^{2}\\sigma T^{4}_{\\text{d}}\n",
    "\\end{equation}"
   ]
  },
  {
   "cell_type": "markdown",
   "metadata": {
    "slideshow": {
     "slide_type": "subslide"
    }
   },
   "source": [
    "\\begin{equation}\n",
    "      L_{\\text{acc}}=\\frac{GM\\dot{m}}{R}=2\\pi\n",
    "      R_{\\text{d}}^{2}\\sigma T^{4}_{\\text{d}}\\nonumber\n",
    "\\end{equation}\n",
    "\n",
    "__Accretion discs__ are usually observed in X-rays, giving $T_{\\text{d}}\\approx\n",
    "      10^{6}$ K.  Orbital measurements of the binary system can give $M$,\n",
    "      and thus $R$ from the mass-radius relationship. If the disc can be\n",
    "      resolved, $R_{\\text{d}}$ can be determined, thus allowing us to calculate $\\dot{m}$\n",
    "      from measurements of $L_{\\text{acc}}$."
   ]
  },
  {
   "cell_type": "markdown",
   "metadata": {
    "slideshow": {
     "slide_type": "subslide"
    }
   },
   "source": [
    "## Novae\n",
    "\n",
    "<img src=\"img/tpyx.jpg\" class=\"right_panel\">\n",
    "<div class=\"left_panel\">\n",
    "    <list>\n",
    "        <li>\n",
    "Accretion transfers hydrogen on to the white dwarf. This mass ``piles up'' on the surface, and the weight of this overlying material causes the local density to increase. Eventually the density (and therefore pressure and temperature) becomes sufficiently high for _H-fusion_ to begin.\n",
    "\n",
    "<li>\n",
    "This fusion releases a large amount of energy, causing a sudden bright outburst of emission - a <b>nova</b>. This thermonuclear explosion temporarily sweeps away the accretion disc: when it builds up again sufficiently, another nova occurs.\n",
    "        </list>\n",
    "    </div>"
   ]
  },
  {
   "cell_type": "markdown",
   "metadata": {
    "slideshow": {
     "slide_type": "subslide"
    }
   },
   "source": [
    "## Supernovae\n",
    "\n",
    "- If the mass of an accreting carbon white dwarf approaches    $M_{\\text{Ch}}$, the density within the star becomes      sufficiently high that rapid carbon fusion can begin throughout       the entire star - a _carbon detonation supernova_ (Type 1a). \n",
    "- This     is probably sufficiently violent that it disrupts the entire      star, gravitationally unbinding it and blowing it apart: a      stable neutron star probably never gets a chance to form."
   ]
  },
  {
   "cell_type": "markdown",
   "metadata": {
    "slideshow": {
     "slide_type": "subslide"
    }
   },
   "source": [
    "### SN 1572 - Tycho's supernova\n",
    "\n",
    "![Tycho](img/tycho.jpg)"
   ]
  }
 ],
 "metadata": {
  "kernelspec": {
   "display_name": "Python 3",
   "language": "python",
   "name": "python3"
  },
  "language_info": {
   "codemirror_mode": {
    "name": "ipython",
    "version": 3
   },
   "file_extension": ".py",
   "mimetype": "text/x-python",
   "name": "python",
   "nbconvert_exporter": "python",
   "pygments_lexer": "ipython3",
   "version": "3.7.5"
  }
 },
 "nbformat": 4,
 "nbformat_minor": 4
}
