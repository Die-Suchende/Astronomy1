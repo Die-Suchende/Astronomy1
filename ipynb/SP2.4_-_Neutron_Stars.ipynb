{
 "cells": [
  {
   "cell_type": "markdown",
   "metadata": {
    "slideshow": {
     "slide_type": "slide"
    }
   },
   "source": [
    "# Stellar Physics\n",
    "\n",
    "## Part 2.4: Neutron Stars\n"
   ]
  },
  {
   "cell_type": "markdown",
   "metadata": {
    "slideshow": {
     "slide_type": "fragment"
    }
   },
   "source": [
    "We have seen that above the Chandrasekhar mass, electrons in a white dwarf become relativistic and __electron degeneracy pressure__ $P_{Q_e}$ is unable to balance the force of gravity to prevent further collapse.\n",
    "\n",
    "Therefore the remnant continues to collapse to smaller radii and higher densities. In our diagram, as the density $\\log\\rho$ increases during further collapse, the central pressure due to gravity increases $P_c\\propto\\rho^{4/3}$."
   ]
  },
  {
   "cell_type": "markdown",
   "metadata": {
    "slideshow": {
     "slide_type": "subslide"
    }
   },
   "source": [
    "![rhoP](img/logrhologP2.jpg)"
   ]
  },
  {
   "cell_type": "markdown",
   "metadata": {
    "slideshow": {
     "slide_type": "subslide"
    }
   },
   "source": [
    "## What about the protons?\n",
    "\n",
    "- Remember that from the  Heisenberg Uncertainty Principle all the confined\n",
    "  particles have the same momentum, $p$ ($p\\approx\\hbar/\\Delta x$).\n",
    "- Since $m_{\\text{p}}/m_{\\text{e}}\\approx 1800$ and $v = p/m$, the\n",
    "  velocity of the protons will be about a factor of _1800 times less_\n",
    "  than that of the electrons.\n",
    "- So the protons are _still non-relativistic_.  Their degeneracy\n",
    "  pressure is still given by\n",
    "\n",
    "\\begin{equation}\n",
    "P_{\\text{Qp}}=\\frac{\\beta}{2}\\frac{\\hbar^{2}}{m_{\\text{p}}}\\left(\\frac{\\rho}{m_{\\text{p}}}\\right)^{5/3}\n",
    "\\end{equation}"
   ]
  },
  {
   "cell_type": "markdown",
   "metadata": {
    "slideshow": {
     "slide_type": "subslide"
    }
   },
   "source": [
    "- Since this pressure varies with density as $\\rho^{5/3}$, it will be able to\n",
    "balance the self-gravity at some point, and the contraction will\n",
    "halt again (but at some smaller radius and higher density than for a\n",
    "white dwarf).\n",
    "- In fact, this happens at such a high density that the electrons\n",
    "and protons will have undergone _inverse beta decay_ (see Lecture 2.1) \n",
    "\\begin{equation}\n",
    "p^{+} + e^{-} \\rightarrow n + v_{\\text{e}}\\nonumber\n",
    "\\end{equation}\n",
    "and merged to form neutrons. Thus, these stellar remnants are\n",
    "called __neutron stars__."
   ]
  },
  {
   "cell_type": "markdown",
   "metadata": {
    "slideshow": {
     "slide_type": "subslide"
    }
   },
   "source": [
    "<img src=\"img/logrhologP3.jpg\" class=\"right_panel\">\n",
    "\n",
    "So in reality the stellar remnant is supported by _degenerate\n",
    "neutrons_. However, since electric charge plays no part in the\n",
    "process, and the mass of the neutron $\\approx$ mass of the proton, we can\n",
    "use expressions involving protons as an _adequate substitute_ for\n",
    "neutrons."
   ]
  },
  {
   "cell_type": "markdown",
   "metadata": {
    "slideshow": {
     "slide_type": "slide"
    }
   },
   "source": [
    "### What is the density of a neutron star?\n",
    "We have shown that our equations for $P_{\\text{Qe}}$ and\n",
    "$P_{\\text{Qp}}$ are identical with the exception of particle mass\n",
    "\\begin{align}\n",
    "  P_{\\text{Qe}}&=\n",
    "  \\frac{\\beta\\hbar^{2}}{2m_{\\text{e}}}\\left(\\frac{\\rho}{m_{\\text{p}}}\\right)^{5/3}\\\\\n",
    "P_{\\text{Qp}}& = \\frac{\\beta\\hbar^{2}}{2m_{\\text{p}}}\\left(\\frac{\\rho}{m_{\\text{p}}}\\right)^{5/3}\n",
    "  \\end{align}\n",
    "\n",
    "[Note that the $\\beta/2$ factor was introduced to generalise our original derivation\n",
    "of these quantities]"
   ]
  },
  {
   "cell_type": "markdown",
   "metadata": {
    "slideshow": {
     "slide_type": "subslide"
    }
   },
   "source": [
    "We can therefore re-use all our analysis from white dwarfs except with proton\n",
    "($\\simeq$ neutron) degeneracy pressure instead of electron degeneracy\n",
    "pressure.\n",
    "Remember that\n",
    "\\begin{equation}\n",
    "\\rho_{\\text{WD}}=\\frac{4\\pi}{3\\beta^{3}}G^{3}\\frac{m_{\\text{e}}^{3}m_{\\text{p}}^{5}}{\\hbar^{6}}M^{2}\\nonumber\n",
    "\\end{equation}\n",
    "   \n",
    "Therefore\n",
    "\\begin{equation}\n",
    "  \\rho_{\\text{NS}}=\\left(\\frac{m_{\\text{p}}}{m_{\\text{e}}}\\right)^{3}\\rho_{\\text{WD}}=\\frac{4\\pi}{3\\beta^{3}}G^{3}\\frac{m_{p}^{8}}{\\hbar^{6}}M^{2}   \\end{equation}"
   ]
  },
  {
   "cell_type": "markdown",
   "metadata": {
    "slideshow": {
     "slide_type": "subslide"
    }
   },
   "source": [
    "Similarly, since\n",
    "\\begin{equation}\n",
    "R_{\\text{WD}}=\\left(\\frac{3}{4\\pi}\\right)^{2/3}\\frac{\\beta}{G}\\frac{\\hbar^{2}}{m_{\\text{e}}m_{\\text{p}}^{5/3}}M^{-1/3}\\nonumber\n",
    "    %\\rho=\\frac{M}{\\frac{4}{3}\\pi R^{3}}\\nonumber\n",
    "\\end{equation}\n",
    "  \n",
    "we again re-use all our analysis from white dwarfs except with {\\bf proton\n",
    "($\\simeq$ neutron) degeneracy pressure} instead of electron degeneracy\n",
    "pressure:\n",
    "\\begin{align} \n",
    "  R_{\\text{NS}}&=\\frac{m_{\\text{e}}}{m_{\\text{p}}}R_{\\text{WD}}\\nonumber\\\\\n",
    " &=\\left(\\frac{3}{4\\pi}\\right)^{2/3}\\beta\\frac{\\hbar^{2}}{Gm_{\\text{p}}^{8/3}}M^{-1/3}\\nonumber\\\\\n",
    " \\nonumber \\\\\n",
    "  &\\approx 1.2\\times\n",
    "10^{3}\\left(\\frac{M}{M_{\\odot}}\\right)^{-1/3}\\,\\text{m}\\nonumber\n",
    "\\end{align}"
   ]
  },
  {
   "cell_type": "markdown",
   "metadata": {
    "slideshow": {
     "slide_type": "subslide"
    }
   },
   "source": [
    "- Note that these expressions are fine for a rough estimate. A\n",
    "    more complete treatment, including the nuclear forces which become\n",
    "    relevant at these nuclear densities, gives densities about 1000\n",
    "    times lower and radii about 10 times larger.\n",
    "- Real neutron stars of a few $M_{\\odot}$ have a radius of $\\sim\n",
    "    10$ km.\n",
    "- __The mass of the Sun in the size of Glasgow__."
   ]
  },
  {
   "cell_type": "markdown",
   "metadata": {},
   "source": [
    "![NStoScale](img/vancouver.jpg)\n",
    "\n",
    "_A neutron star shown to scale with a city_"
   ]
  },
  {
   "cell_type": "markdown",
   "metadata": {
    "slideshow": {
     "slide_type": "slide"
    }
   },
   "source": [
    "### Summary of neutron star properties\n",
    "\n",
    "- Mostly neutron-degenerate matter, with an outer \"crust\" of\n",
    "white-dwarf-like material (_essentially a gigantic atomic nucleus_).\n",
    "- Supported by neutron degeneracy pressure.\n",
    "- Much leftover gravitational energy from collapse, so\n",
    "extremely hot. $T > 10^{6}\\,\\text{K}$ - glows white (and other important\n",
    "emission mechanisms as well: see later lectures).\n",
    "- Extremely small: $\\sim 10^{4}\\,\\text{m}$.\n",
    "- Absurdly high density: $\\sim 10^{17}$ to $10^{18}\\,\\text{kg m}^{-3}$ (i.e. $1\\,\\text{cm}^{3}$ of neutron star material weighs about a gigaton).\n"
   ]
  },
  {
   "cell_type": "markdown",
   "metadata": {
    "slideshow": {
     "slide_type": "slide"
    }
   },
   "source": [
    "# Limit of neutron star mass\n",
    "\n",
    "- Note that, just as in white dwarfs, the radius of a neutron star\n",
    "varies inversely with the cube root of its mass.\n",
    "\\begin{equation}\n",
    "R_{\\text{NS}}\\propto M^{-1/3}\\nonumber\n",
    "\\end{equation}\n",
    "- This leads to a similar conclusion regarding the __maximum possible\n",
    "mass__ for a neutron star: greater mass gives rise to reduced radius, higher density, greater particle confinement, and so _eventually even the neutrons become relativistic_.\n",
    "- The critical mass above which neutron degeneracy is unable\n",
    "to support the neutron star in a stable equilibrium is called\n",
    "the Tolman-Oppenheimer-Volkoff Mass Limit, $M_{\\text{TOV}}$.\n"
   ]
  },
  {
   "cell_type": "markdown",
   "metadata": {
    "slideshow": {
     "slide_type": "subslide"
    }
   },
   "source": [
    "- Calculation of the value of $M_{\\text{TOV}}$ is a difficult\n",
    "problem, which requires General Relativity to describe the\n",
    "gravitational effects and an accurate Equation of State for the\n",
    "neutron-degenerate matter. The latter is still the subject of\n",
    "continuing astrophysical research. Consequently, $M_{\\text{TOV}}$\n",
    "is still fairly imprecisely known, probably lying somewhere\n",
    "between 1.5 and 3.0 $M_{\\odot}$.\n",
    "- Measurement of the mass of the neutron star in PSR J0348+0432\n",
    "$(2.01\\pm 0.04)$M$_{\\odot}$ puts a lower bound on $M_{\\text{TOV}}$.\n",
    "- Thus we can take $M_{\\text{TOV}} \\approx 3.0M_{\\odot}$ as the maximum neutron star mass.\n",
    "- Moving up in mass from neutron stars we come to black holes (see part 2.5).  The lightest known black hole is around $5-10 M_{\\odot}$.\n",
    "- This places an _observational upper bound_ on the Tolman-Oppenheimer-Volkoff Limit."
   ]
  },
  {
   "cell_type": "markdown",
   "metadata": {
    "slideshow": {
     "slide_type": "subslide"
    }
   },
   "source": [
    "<img src=\"img/logrhologP4.jpg\" class=\"right_panel\">\n",
    "\n",
    "- White dwarf equilibria occur where $P_{\\text{c}} = P_{\\text{Qe}}$.\n",
    "- Neutron star equilibria occur where $P_{\\text{c}} = P_{\\text{Qp}}$.\n",
    "- Above $M_{\\text{TOV}}$, no equilibria occur."
   ]
  },
  {
   "cell_type": "markdown",
   "metadata": {
    "slideshow": {
     "slide_type": "subslide"
    }
   },
   "source": [
    "### What happens to masses above $M_{TOV}$?\n",
    "\n",
    "- Initially, the $P_{\\text{c}}$ and $P_{\\text{QpR}}$ curves run parallel, so do not intersect.  As the density increases, $P_{\\text{c}}$ actually starts to increase faster than $\\rho^{4/3}$, so the $P_{\\text{c}}$ curve diverges away from the $P_{\\text{QpR}}$ curve.\n",
    "- This occurs because of two relativistic effects."
   ]
  },
  {
   "cell_type": "markdown",
   "metadata": {
    "slideshow": {
     "slide_type": "subslide"
    }
   },
   "source": [
    "- __1__ The acceleration due to gravity is no longer given by just the familiar Newtonian formula,\n",
    "\n",
    "\\begin{equation}\n",
    "  g(r) = \\frac{GM}{r^{2}}\\nonumber\n",
    "\\end{equation}\n",
    "\n",
    "Instead, it is modified by General Relativity, becoming effectively\n",
    "\\begin{equation}\n",
    "  g(r) = \\frac{GM}{r^{2}}\\frac{1}{\\sqrt{1-R_{\\text{S}}/r}}\\nonumber\n",
    "\\end{equation}\n",
    "    where $R_{\\text{S}}$ is the Schwarzschild Radius."
   ]
  },
  {
   "cell_type": "markdown",
   "metadata": {
    "slideshow": {
     "slide_type": "subslide"
    }
   },
   "source": [
    "The __Schwarzschild Radius__ is given by\n",
    "\\begin{equation}\n",
    "R_{\\text{S}}=\\frac{2GM}{c^{2}}\\nonumber\n",
    "\\end{equation}\n",
    "So, as $r\\rightarrow R_{\\text{S}}$, then $g(r)\\rightarrow \\infty$,\n",
    "and so $P_{\\text{c}}\\rightarrow \\infty$."
   ]
  },
  {
   "cell_type": "markdown",
   "metadata": {
    "slideshow": {
     "slide_type": "subslide"
    }
   },
   "source": [
    "- __2__ As the particles become relativistic, we can effectively think of their masses increasing (Tolman). The particles still have the same _rest mass_ but their total _energy and momentum_ increase without bound.\n",
    "   - Tolman defined _relativistic particle mass_ as\n",
    "\\begin{equation}\n",
    "m_{\\rm rel} =\\gamma m_{0}=\\frac{m_{0}}{\\sqrt{1-v^{2}/c^{2}}}\\nonumber\n",
    "\\end{equation}\n",
    "   - As the density of the remnant increases, the speeds of its constituent particles increase, so the relative particle masses increase. This causes a rise in the central pressure due to self-gravity, $P_{\\text{c}}$."
   ]
  },
  {
   "cell_type": "markdown",
   "metadata": {
    "slideshow": {
     "slide_type": "subslide"
    }
   },
   "source": [
    "With $P_{\\text{c}}$ climbing unboundedly, no known physical process is able to halt the contraction. \n",
    "- From the perspective of an observer travelling alongside the collapsing mass (if such a thing was possible!), the remnant continues to collapse down to a      singular point.\n",
    "- From the perspective of an external observer, the mass disappears from view when its radius falls below $R_{\\text{S}}$.\n",
    "- $R_{\\text{S}}$ is the radius of the event horizon. The object has become a __black hole__."
   ]
  },
  {
   "cell_type": "markdown",
   "metadata": {
    "slideshow": {
     "slide_type": "slide"
    }
   },
   "source": [
    "# Observational Properties of Neutron Stars\n"
   ]
  },
  {
   "cell_type": "markdown",
   "metadata": {
    "slideshow": {
     "slide_type": "subslide"
    }
   },
   "source": [
    "## How do we observe Neutron Stars?\n",
    "- In principle, we can do the same as for white\n",
    "  dwarfs. However, neutron stars are very small ($\\sim 10$ km), so\n",
    "  have to be very hot for their thermal emission to be easily\n",
    "  detectable. \n",
    "- Instead, some of the properties of neutron stars\n",
    "  result in them being more easily detectable by other\n",
    "  means.\n",
    "- These properties are:\n",
    "  - rapid rotation\n",
    "  - very strong magnetic fields"
   ]
  },
  {
   "cell_type": "markdown",
   "metadata": {
    "slideshow": {
     "slide_type": "slide"
    }
   },
   "source": [
    "## Rotation\n",
    "\n",
    "A rotating object has _angular momentum_, $L$, given by\n",
    "\\begin{equation}\n",
    "L=I\\omega\\nonumber\n",
    "\\end{equation}\n",
    "- Here $I$ is the _moment of inertia_ and $\\omega$ is the\n",
    "  angular velocity, i.e. $\\omega$ is the angle in radians through which\n",
    "  an object rotates per unit time. If the rotation period is $\\tau$\n",
    "  then $\\omega = 2\\pi/\\tau$. $I$ plays a similar role to the mass in\n",
    "  linear momentum (compare $p = mv$).\n",
    "- The moment of inertia of a uniform sphere of mass $M$, radius\n",
    "  $R$ is\n",
    "  \\begin{equation}\n",
    "  I=\\frac{2}{5}MR^{2}\\nonumber\n",
    "  \\end{equation}"
   ]
  },
  {
   "cell_type": "markdown",
   "metadata": {
    "slideshow": {
     "slide_type": "subslide"
    }
   },
   "source": [
    "- Therefore, before its collapse to a neutron star, the core\n",
    "  of a dying main sequence star will have an angular momentum\n",
    "  \\begin{equation}\n",
    "  L=\\frac{2}{5}MR_{0}^{2}\\omega_{0}=\\frac{2}{5}MR_{0}^{2}\\frac{2\\pi}{\\tau_{0}}\\nonumber\n",
    "  \\end{equation}\n",
    "  "
   ]
  },
  {
   "cell_type": "markdown",
   "metadata": {
    "slideshow": {
     "slide_type": "subslide"
    }
   },
   "source": [
    "- Consider what happens during the collapse:\n",
    "![contraction](img/contraction2.jpg)"
   ]
  },
  {
   "cell_type": "markdown",
   "metadata": {
    "slideshow": {
     "slide_type": "subslide"
    }
   },
   "source": [
    "- Angular momentum (and core mass) is conserved during the\n",
    "  collapse, so after the neutron star forms it will have the same\n",
    "  $L$:\n",
    "  \\begin{equation}\n",
    "   L=\\frac{2}{5}MR_{\\text{NS}}^{2}\\frac{2\\pi}{\\tau_{\\text{NS}}}\\nonumber\n",
    "  \\end{equation}"
   ]
  },
  {
   "cell_type": "markdown",
   "metadata": {
    "slideshow": {
     "slide_type": "fragment"
    }
   },
   "source": [
    "So the rotation period of the neutron star will be given by\n",
    "\\begin{align}\n",
    "\\frac{R_{0}^{2}}{\\tau_{0}}&=\\frac{R_{\\text{NS}}^{2}}{\\tau_{\\text{NS}}}\\nonumber\\\\\n",
    "\\tau_{\\text{NS}}&=\\left(\\frac{R_{\\text{NS}}}{R_{0}}\\right)^{2}\\tau_{0}\\nonumber\n",
    "\\end{align}"
   ]
  },
  {
   "cell_type": "markdown",
   "metadata": {
    "slideshow": {
     "slide_type": "fragment"
    }
   },
   "source": [
    "- Suppose a typical dying star has a radius of $\\sim 10^{6}$ km and\n",
    "    rotates once every $\\sim 30$ days i.e. $\\sim 3\\times 10^{6}$ s. Then after\n",
    "    collapsing to a neutron star of radius $\\sim 10$ km it will have a\n",
    "    rotation period of $t_{\\text{NS}} \\approx 0.0003$ s.\n",
    "- So we have an object of about the mass of the Sun, and the\n",
    "    size of a city, rotating over __3000 times every second__."
   ]
  },
  {
   "cell_type": "markdown",
   "metadata": {
    "slideshow": {
     "slide_type": "subslide"
    }
   },
   "source": [
    "## Just how fast can a neutron star rotate?\n",
    "\n",
    "<img src=\"img/NSrotate.jpg\" class=\"left_panel\">\n",
    "\n",
    "The limit is defined by _centripetal break-up_ -- the\n",
    "rotation rate at which the centripetal force required to keep\n",
    "the outermost layer of the neutron star from flying off into\n",
    "space is just matched by the force of gravity.\n",
    "\n",
    "The centripetal acceleration of an object moving in a\n",
    "uniform circular path of radius $R$ at angular velocity\n",
    "$\\omega$ is given by\n",
    "\\begin{equation}\n",
    "a=\\omega^{2}R\\nonumber\n",
    "\\end{equation}"
   ]
  },
  {
   "cell_type": "markdown",
   "metadata": {
    "slideshow": {
     "slide_type": "subslide"
    }
   },
   "source": [
    "- Therefore at the _centripetal break-up_ limit, the\n",
    "  required _centripetal force_ $F = ma$ on a particle of mass\n",
    "  $m$ on the surface of the neutron star will be just matched by\n",
    "  the gravitational force acting on it.\n",
    "  \\begin{align}\n",
    "  m\\omega^{2}_{\\text{max}}R&=\\frac{GMm}{R^{2}}\\nonumber\\\\\n",
    "  \\omega_{\\text{max}}&=\\sqrt{\\frac{GM}{R^{3}}}\\nonumber\n",
    "  \\end{align}\n",
    "- Notice that the maximum angular velocity depends on the\n",
    "  square root of $M/R^{3} \\propto \\rho$ - _more dense objects can rotate faster_.\n",
    "  - So the minimum rotation period for a neutron star is\n",
    "\\begin{equation}\n",
    "\\tau_{\\text{min}}=\\frac{2\\pi}{\\omega_{\\text{max}}}=2\\pi\\sqrt{\\frac{R^{3}}{GM}}\\nonumber\n",
    "\\end{equation}\n",
    "  - A neutron star at the __Tolman-Oppenheimer-Volkoff Mass Limit__\n",
    "      $M_{\\text{TOV}} \\approx 3M_{\\odot}$ and with a radius of $\\sim\n",
    "      10$ km will therefore have a minimum rotation period of\n",
    "      $t_{\\text{min}} \\approx 0.3$ milliseconds."
   ]
  },
  {
   "cell_type": "markdown",
   "metadata": {
    "slideshow": {
     "slide_type": "subslide"
    }
   },
   "source": [
    "- This rotation stores a vast amount of kinetic energy (like a\n",
    "  colossal flywheel). The kinetic energy of a rotating body is\n",
    "  given by\n",
    "  \\begin{equation}\n",
    "    E_{\\text{rot}}=\\frac{1}{2}I\\omega^{2}\\nonumber\n",
    "  \\end{equation}\n",
    "  - Compare this to the kinetic energy associated with linear motion,\n",
    "      given by the familiar expression $(1/2)mv^{2}$.\n",
    "  - Hence the maximum rotational energy content of a neutron\n",
    "      star will be given by\n",
    "\\begin{equation}\n",
    "E_{\\text{max}}=\\frac{1}{2}\\frac{2}{5}M_{\\text{TOV}}R^{2}\\omega_{\\text{max}}^{2}=\\frac{1}{5}\\frac{GM_{\\text{TOV}}^{2}}{R}\\nonumber\n",
    "\\end{equation}"
   ]
  },
  {
   "cell_type": "markdown",
   "metadata": {
    "slideshow": {
     "slide_type": "subslide"
    }
   },
   "source": [
    "## Example: The Crab Pulsar\n",
    "\n",
    "![Crab](img/crab_pulsar.jpg)\n",
    "\n",
    "_X-ray image of the Crab pulsar, the remnant of the Type II supernova SN 1054_"
   ]
  },
  {
   "cell_type": "markdown",
   "metadata": {
    "slideshow": {
     "slide_type": "subslide"
    }
   },
   "source": [
    "- Evaluating the maximum value, we find $E_{\\text{max}} \\approx 10^{46}$ J.\n",
    "- For a typical neutron star (such as the Crab), $E_{\\text{rot}} \\approx 10^{41}$ J.\n",
    "- The most energetic nuclear weapon was $\\sim 10^{17}$ J."
   ]
  },
  {
   "cell_type": "markdown",
   "metadata": {
    "slideshow": {
     "slide_type": "subslide"
    }
   },
   "source": [
    "## Magnetic Field\n",
    "\n",
    "The plasma making up a collapsing stellar core and its\n",
    "environs is highly conducting: as a result, any magnetic field\n",
    "present is said to be _frozen in_ to the plasma. If the\n",
    "material moves, the magnetic field lines move with it, and vice\n",
    "versa.\n",
    "\n",
    "As a result, the _magnetic flux through a surface\n",
    "element is conserved_. Pictorially, the total number of\n",
    "magnetic field lines running through the surface will remain\n",
    "unchanged, even if you adjust the size of the surface. The\n",
    "spacing of the field lines gives a measure of the strength of\n",
    "the field: closer field line spacing = stronger magnetic field.\n",
    "\n",
    "![Bfield](img/bfield.jpg)\n",
    "\n",
    "- Magnetic flux conservation gives us $A_{1}B_{1} = A_{2}B_{2}$."
   ]
  },
  {
   "cell_type": "markdown",
   "metadata": {
    "slideshow": {
     "slide_type": "subslide"
    }
   },
   "source": [
    "Most stars are believed to generate a (roughly) dipole\n",
    "magnetic field due to churning motion of the conducting material in\n",
    "their interiors. When a dying star collapses to form a neutron\n",
    "star, magnetic flux conservation results in the formation of\n",
    "regions of extremely strong magnetic field near the neutron star.\n",
    "\n",
    "![Bfield2](img/bfield2.jpg)"
   ]
  },
  {
   "cell_type": "markdown",
   "metadata": {
    "slideshow": {
     "slide_type": "subslide"
    }
   },
   "source": [
    "- Taking conservation of magnetic flux through collapsing spherical surfaces, we find\n",
    "\\begin{align}\n",
    "4\\pi R_{0}^{2}B_{0}&=4\\pi\n",
    "R_{\\text{NS}}^{2}B_{\\text{NS}}\\nonumber\\\\\n",
    "B_{\\text{NS}}&=\\left(\\frac{R_{0}}{R_{\\text{NS}}}\\right)^{2}B_{0}\\nonumber\n",
    "\\end{align}\n",
    "- Suppose we start with a dying star of radius $10^{6}$ km and a\n",
    "global magnetic field of 0.001 T. After collapsing to a neutron\n",
    "star of radius 10 km, it will have a magnetic field of $10^{7}$ T.\n",
    "- __This is incredibly strong__: compare to the Earth's magnetic\n",
    "field of about $10^{-5}$ T, or the strongest lab magnets of about 10 T."
   ]
  },
  {
   "cell_type": "markdown",
   "metadata": {
    "slideshow": {
     "slide_type": "slide"
    }
   },
   "source": [
    "## Pulsars\n",
    "\n",
    "- A neutron star has an _extremely strong magnetic field_,\n",
    "and can _rotate extremely rapidly_. Since the field is\n",
    "_`frozen in'_, it is also dragged round by the\n",
    "rotation.\n",
    "- Consider a stationary point in space just above the surface\n",
    "of a swiftly- rotating neutron star. The neutron star's magnetic\n",
    "field will rapidly sweep past this point as it rotates,\n",
    "i.e. locally there will be a rapidly _time-varying magnetic field_.\n",
    "- A time-varying magnetic field gives rise to an _electric field_ (Faraday's Law: $dB/dt$ gives $E$ ). Therefore, there will be a strong electric field above the neutron star's surface.\n",
    "- The strong electric field _accelerates_ charged particles to extremely high (relativistic) velocities.\n",
    "- The plasma physics of this situation is highly complicated\n",
    "and not completely understood. However, the general outcome is\n",
    "the production of strong _beams_ of electrons, which stream\n",
    "out from the neutron star's _magnetic poles_ (where the field is strongest)."
   ]
  },
  {
   "cell_type": "markdown",
   "metadata": {
    "slideshow": {
     "slide_type": "subslide"
    }
   },
   "source": [
    "- The particles travel along the (curving) magnetic field\n",
    "  lines. These _accelerating_ charges emit (non-thermal)\n",
    "  _curvature radiation_ (mostly radio waves). Since they are\n",
    "  travelling at relativistic speeds, _relativistic beaming_\n",
    "  occurs (i.e. the `headlamp effect'). Strong beams of radiation\n",
    "  are produced in the direction of the electrons' travel,\n",
    "  i.e. along the magnetic axis of the neutron star.\n",
    "  - We observe similar beaming, on a vastly larger scale, in jets from _active galactic nuclei_ (see ItC lectures) and black holes (see SP2.5).\n",
    "\n",
    "![beaming](img/beaming.svg)"
   ]
  },
  {
   "cell_type": "markdown",
   "metadata": {
    "slideshow": {
     "slide_type": "subslide"
    }
   },
   "source": [
    "![M87 beaming](img/M87beaming.jpg)\n",
    "\n",
    "_Jet from active galaxy M87_"
   ]
  },
  {
   "cell_type": "markdown",
   "metadata": {
    "slideshow": {
     "slide_type": "subslide"
    }
   },
   "source": [
    "If the magnetic axis is _inclined_ to the rotational axis\n",
    "of the neutron star, these beams of radiation will sweep through\n",
    "space like the beams of light from a lighthouse.\n",
    "\n",
    "![Lighthouse](img/lighthouse.svg)"
   ]
  },
  {
   "cell_type": "markdown",
   "metadata": {
    "slideshow": {
     "slide_type": "subslide"
    }
   },
   "source": [
    "- If an observer happens to be located such that one of these\n",
    "  beams points directly towards them at some point in the neutron\n",
    "  star's rotation, they will see a _flash_ of radiation once per\n",
    "  rotation as the beam sweeps past. These _pulses_ of radiation\n",
    "  give rise to the name of this phenomenon: a _pulsar_.\n",
    "- Pulsars are extremely regular (as accurate as atomic clocks),\n",
    "  and are observed to have periods of milliseconds to\n",
    "  seconds. Millisecond pulsars are rotating faster than the\n",
    "  centrifugal break-up limit of white dwarfs ($t \\approx 0.5$ s), so\n",
    "  they must be __neutron stars__."
   ]
  },
  {
   "cell_type": "markdown",
   "metadata": {
    "slideshow": {
     "slide_type": "subslide"
    }
   },
   "source": [
    "## $P-\\dot{P}$ diagram\n",
    "\n",
    "![P-Pdot](img/ppdot.jpg)\n",
    "\n",
    "Plotting the _period_ $P$ and _spindown_ $\\dot{P}$\n",
    "of pulsars reveals features of their population."
   ]
  },
  {
   "cell_type": "markdown",
   "metadata": {
    "slideshow": {
     "slide_type": "subslide"
    }
   },
   "source": [
    "- Newly-born pulsars have $P\\sim 1\\,$ms and large spindowns $\\dot{P}>10^{-13}\\,$ s/s.\n",
    "- Most pulsars have $0.1<P<1\\,$s and $\\dot{P}\\sim 10^{-15}$s/s as they have been spinning down for a long time.\n",
    "- _Recycled_ pulsars have short periods but very low spindowns (bottom left). They were spun up by mass transfer from a binary companion."
   ]
  },
  {
   "cell_type": "markdown",
   "metadata": {
    "slideshow": {
     "slide_type": "subslide"
    }
   },
   "source": [
    "## Changes in pulsar period\n",
    "\n",
    "The pulses of radiation from a pulsar are extremely regular in\n",
    "the sense that they are highly predictable. However, they do not\n",
    "arrive at a perfectly constant rate. The pulse rate is observed to\n",
    "decline slowly.\n",
    "- Suppose the rate of change of the pulse period $\\tau$ with time is\n",
    "\\begin{equation}\n",
    "\\frac{d\\tau}{dt}=\\dot{\\tau}\\nonumber\n",
    "\\end{equation}\n",
    "- Then we can define the characteristic _spin-down time_\n",
    "$t_{\\text{s}}$ as the length of time it would take for the\n",
    "pulsar's rotation to cease, if its current rate of decline\n",
    "continued unchanged:\n",
    "\\begin{equation}\n",
    "t_{\\text{s}}=\\frac{\\tau}{\\dot{\\tau}}\\nonumber\n",
    "\\end{equation}\n",
    "- For observed pulsars, $t_{\\text{s}}$ is measured to be $\\sim 10^{4}$ to $10^{7}$ years."
   ]
  },
  {
   "cell_type": "markdown",
   "metadata": {
    "slideshow": {
     "slide_type": "subslide"
    }
   },
   "source": [
    "### Why do pulsars spin down?\n",
    "- For isolated pulsars, the only source of energy is that\n",
    "stored in the ``flywheel'' energy reservoir of their\n",
    "_rotation_. Energy is carried away by the pulsar's emission of\n",
    "radiation - this has to come from the store of rotational\n",
    "energy, which will gradually be exhausted, leading to\n",
    "progressively slower rotation.\n",
    "- Hence we might expect that all pulsars older than about 10\n",
    "million years should have spun down to a halt, and no longer\n",
    "emit their characteristic pulsar beams.\n",
    "- Short period (millisecond) pulsars would then also have to be very\n",
    "young, and should still be surrounded by their supernova\n",
    "remnants, e.g. the Crab pulsar, with $t = 33$ ms, embedded in\n",
    "the Crab Nebula supernova remnant (see previous lecture).\n",
    "- But we _do_ observe older millisecond pulsars without any supernova remnant."
   ]
  },
  {
   "cell_type": "markdown",
   "metadata": {
    "slideshow": {
     "slide_type": "subslide"
    }
   },
   "source": [
    "Why haven't they spun down to much longer rotation periods?\n",
    "- These pulsars are (or were until recently) part of an accreting binary system. The accretion flow transfers _angular momentum_ to the pulsar, causing it to spin-up to near the centrifugal break-up limit. Such objects are known as _re-cycled pulsars_."
   ]
  },
  {
   "cell_type": "markdown",
   "metadata": {
    "slideshow": {
     "slide_type": "subslide"
    }
   },
   "source": [
    "### Case study: the ``Double Pulsar'' system, PSR J0737-3039\n",
    "\n",
    "<img src=\"img/doublepulsar.jpg\" class=\"right_panel\">\n",
    "\n",
    "- Two pulsars, A and B, in a binary system of orbital period 2.4 hrs.\n",
    "\\begin{align}\n",
    "A:&\\,M=1.34M_{\\odot},\\,\\tau=23\\,\\text{ms}\\nonumber\\\\\n",
    "B:&\\,M=1.25M_{\\odot},\\,\\tau=2.8\\,\\text{s}\\nonumber\n",
    "\\end{align}"
   ]
  },
  {
   "cell_type": "markdown",
   "metadata": {
    "slideshow": {
     "slide_type": "subslide"
    }
   },
   "source": [
    "- Star A went supernova first and formed a long period ($\\sim$\n",
    "seconds) pulsar. As time progressed, star B aged and proceeded\n",
    "to the giant phase. An accretion stream formed from star B to\n",
    "pulsar A, transferring angular momentum and spinning-up pulsar A\n",
    "to a short ($\\sim$ milliseconds) rotation period. Star B then went\n",
    "supernova, forming a long period ($\\sim$ seconds) pulsar.\n",
    "- Fortuitous alignment means that from Earth we see both neutron\n",
    "stars as pulsars. The system is also almost exactly edge-on, and\n",
    "so features eclipses. Occultation and scattering of one pulsar's\n",
    "beam by the other pulsar gives us a rare insight into the plasma\n",
    "conditions near the pulsars and should help us investigate the\n",
    "pulse emission mechanism. Orbital measurements also provide\n",
    "extremely precise tests of General Relativity.\n",
    "- PSR J0737-3039 is an almost perfect astrophysics laboratory!"
   ]
  }
 ],
 "metadata": {
  "celltoolbar": "Slideshow",
  "kernelspec": {
   "display_name": "Python 3",
   "language": "python",
   "name": "python3"
  },
  "language_info": {
   "codemirror_mode": {
    "name": "ipython",
    "version": 3
   },
   "file_extension": ".py",
   "mimetype": "text/x-python",
   "name": "python",
   "nbconvert_exporter": "python",
   "pygments_lexer": "ipython3",
   "version": "3.9.1"
  }
 },
 "nbformat": 4,
 "nbformat_minor": 4
}
